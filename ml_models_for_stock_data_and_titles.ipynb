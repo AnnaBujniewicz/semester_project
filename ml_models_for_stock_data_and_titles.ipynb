{
  "nbformat": 4,
  "nbformat_minor": 0,
  "metadata": {
    "colab": {
      "name": "ml models for stock data and titles",
      "provenance": [],
      "collapsed_sections": [
        "jKPWRpiWabWr",
        "h9y-AAhjVBck",
        "OIOj8MljjDAE",
        "AXx9sgKEt1Ky",
        "TD3VGPUoYqWV",
        "DQPNTcfqhJ_I",
        "Re5JOrrJih-O"
      ],
      "include_colab_link": true
    },
    "kernelspec": {
      "name": "python3",
      "display_name": "Python 3"
    },
    "accelerator": "GPU"
  },
  "cells": [
    {
      "cell_type": "markdown",
      "metadata": {
        "id": "view-in-github",
        "colab_type": "text"
      },
      "source": [
        "<a href=\"https://colab.research.google.com/github/AnnaBujniewicz/semester_project/blob/main/ml_models_for_stock_data_and_titles.ipynb\" target=\"_parent\"><img src=\"https://colab.research.google.com/assets/colab-badge.svg\" alt=\"Open In Colab\"/></a>"
      ]
    },
    {
      "cell_type": "markdown",
      "metadata": {
        "id": "LkC1bBzAyGLR"
      },
      "source": [
        "# Initial steps"
      ]
    },
    {
      "cell_type": "code",
      "metadata": {
        "id": "KJnH3qVStGda",
        "colab": {
          "base_uri": "https://localhost:8080/"
        },
        "outputId": "ebee6781-ac16-4918-8d60-9df66b6f4e6f"
      },
      "source": [
        "# importing the needed packages\n",
        "!pip install transformers &> /dev/null\n",
        "!pip install yfinance &> /dev/null\n",
        "!pip install bert-for-tf2 &> /dev/null\n",
        "import bert\n",
        "import os\n",
        "import tensorflow_hub as hub\n",
        "import pandas as pd\n",
        "import matplotlib.pyplot as plt\n",
        "import seaborn as sns\n",
        "import sklearn.metrics as metrics\n",
        "import numpy as np\n",
        "from sklearn.preprocessing import MinMaxScaler\n",
        "from keras.models import Sequential\n",
        "from keras import optimizers\n",
        "from keras.callbacks import EarlyStopping\n",
        "from tensorflow import keras\n",
        "from tensorflow.keras import layers\n",
        "import warnings\n",
        "import seaborn as sns\n",
        "from sklearn.model_selection import train_test_split\n",
        "from keras.preprocessing.text import Tokenizer\n",
        "from sklearn.preprocessing import LabelEncoder\n",
        "from sklearn.metrics import confusion_matrix, classification_report\n",
        "from keras.utils import np_utils\n",
        "import gensim\n",
        "from nltk.stem import WordNetLemmatizer\n",
        "import nltk\n",
        "nltk.download('stopwords')\n",
        "from nltk.corpus import stopwords\n",
        "from datetime import datetime\n",
        "nltk.download('wordnet')\n",
        "warnings.filterwarnings('ignore')\n",
        "from collections import Counter\n",
        "import itertools\n",
        "from nltk.tokenize import word_tokenize\n",
        "nltk.download('punkt')\n",
        "from keras import backend as K\n",
        "from transformers import BertTokenizer\n",
        "import torch\n",
        "import re"
      ],
      "execution_count": 84,
      "outputs": [
        {
          "output_type": "stream",
          "text": [
            "[nltk_data] Downloading package stopwords to /root/nltk_data...\n",
            "[nltk_data]   Package stopwords is already up-to-date!\n",
            "[nltk_data] Downloading package wordnet to /root/nltk_data...\n",
            "[nltk_data]   Package wordnet is already up-to-date!\n",
            "[nltk_data] Downloading package punkt to /root/nltk_data...\n",
            "[nltk_data]   Package punkt is already up-to-date!\n"
          ],
          "name": "stdout"
        }
      ]
    },
    {
      "cell_type": "code",
      "metadata": {
        "id": "o0kzRScweYUp"
      },
      "source": [
        "import tensorflow as tf\r\n"
      ],
      "execution_count": 85,
      "outputs": []
    },
    {
      "cell_type": "markdown",
      "metadata": {
        "id": "ev6v54sjaO5N"
      },
      "source": [
        "# 1 Preparing data for the models"
      ]
    },
    {
      "cell_type": "markdown",
      "metadata": {
        "id": "jKPWRpiWabWr"
      },
      "source": [
        "## 1.1 Cleaning and exploring the sentiment analysis dataset"
      ]
    },
    {
      "cell_type": "code",
      "metadata": {
        "id": "ByfjoDZ2aiGp"
      },
      "source": [
        "# loading in the dataframe for sentiment analysis\r\n",
        "sent_df = pd.read_csv(\"https://raw.githubusercontent.com/AnnaBujniewicz/semester_project/main/data/sentiment_data.csv\", header = 0, names = [\"sentiment\", \"title\"], encoding = \"latin-1\")"
      ],
      "execution_count": 86,
      "outputs": []
    },
    {
      "cell_type": "code",
      "metadata": {
        "id": "nBZvENDxcIro",
        "colab": {
          "base_uri": "https://localhost:8080/",
          "height": 0
        },
        "outputId": "fced1340-b7ea-4495-ed70-cb0422ea9c7a"
      },
      "source": [
        "# inspecting the dataframe\r\n",
        "sent_df.head()"
      ],
      "execution_count": 87,
      "outputs": [
        {
          "output_type": "execute_result",
          "data": {
            "text/html": [
              "<div>\n",
              "<style scoped>\n",
              "    .dataframe tbody tr th:only-of-type {\n",
              "        vertical-align: middle;\n",
              "    }\n",
              "\n",
              "    .dataframe tbody tr th {\n",
              "        vertical-align: top;\n",
              "    }\n",
              "\n",
              "    .dataframe thead th {\n",
              "        text-align: right;\n",
              "    }\n",
              "</style>\n",
              "<table border=\"1\" class=\"dataframe\">\n",
              "  <thead>\n",
              "    <tr style=\"text-align: right;\">\n",
              "      <th></th>\n",
              "      <th>sentiment</th>\n",
              "      <th>title</th>\n",
              "    </tr>\n",
              "  </thead>\n",
              "  <tbody>\n",
              "    <tr>\n",
              "      <th>0</th>\n",
              "      <td>neutral</td>\n",
              "      <td>Technopolis plans to develop in stages an area...</td>\n",
              "    </tr>\n",
              "    <tr>\n",
              "      <th>1</th>\n",
              "      <td>negative</td>\n",
              "      <td>The international electronic industry company ...</td>\n",
              "    </tr>\n",
              "    <tr>\n",
              "      <th>2</th>\n",
              "      <td>positive</td>\n",
              "      <td>With the new production plant the company woul...</td>\n",
              "    </tr>\n",
              "    <tr>\n",
              "      <th>3</th>\n",
              "      <td>positive</td>\n",
              "      <td>According to the company 's updated strategy f...</td>\n",
              "    </tr>\n",
              "    <tr>\n",
              "      <th>4</th>\n",
              "      <td>positive</td>\n",
              "      <td>FINANCING OF ASPOCOMP 'S GROWTH Aspocomp is ag...</td>\n",
              "    </tr>\n",
              "  </tbody>\n",
              "</table>\n",
              "</div>"
            ],
            "text/plain": [
              "  sentiment                                              title\n",
              "0   neutral  Technopolis plans to develop in stages an area...\n",
              "1  negative  The international electronic industry company ...\n",
              "2  positive  With the new production plant the company woul...\n",
              "3  positive  According to the company 's updated strategy f...\n",
              "4  positive  FINANCING OF ASPOCOMP 'S GROWTH Aspocomp is ag..."
            ]
          },
          "metadata": {
            "tags": []
          },
          "execution_count": 87
        }
      ]
    },
    {
      "cell_type": "code",
      "metadata": {
        "id": "bkVs_6RscLzM",
        "colab": {
          "base_uri": "https://localhost:8080/",
          "height": 0
        },
        "outputId": "1d055b29-7f69-450f-a5e4-cbf5a0f7317b"
      },
      "source": [
        "# inspecting the classes\n",
        "# they are rather unbalanced\n",
        "plt.figure(figsize=(12,8))\n",
        "sns.barplot(x=pd.DataFrame(sent_df[\"sentiment\"].value_counts()).index,y=pd.DataFrame(sent_df[\"sentiment\"].value_counts())[\"sentiment\"])\n",
        "plt.show()"
      ],
      "execution_count": 88,
      "outputs": [
        {
          "output_type": "display_data",
          "data": {
            "image/png": "[encoded data removed]",
            "text/plain": [
              "<Figure size 864x576 with 1 Axes>"
            ]
          },
          "metadata": {
            "tags": [],
            "needs_background": "light"
          }
        }
      ]
    },
    {
      "cell_type": "markdown",
      "metadata": {
        "id": "V_XVOrVu-eVH"
      },
      "source": [
        "As can be seen, the number of negative and positive headers is vastly lower than the neutral ones. For this reason resampling should be considered. We decided to not try upsampling, as it would have to result in copying the same header multiple times for the case of the negative class. That could really easily lead to some overfitting to the preexisting titles. Instead, we decided to try downsampling. It will lead to a decrease in sample size, however all the titles will still be unique."
      ]
    },
    {
      "cell_type": "code",
      "metadata": {
        "id": "8BWSHnKCkrLf"
      },
      "source": [
        "# initiating a lemmatizer instance\n",
        "lemmatizer = WordNetLemmatizer()\n",
        "# making a list of stopwords\n",
        "stop_words = set(stopwords.words('english'))\n",
        "# making a function that lemmatizes the titles and then puts them together\n",
        "def sneaky_cleanup(title):\n",
        "# empty list to store the tokens\n",
        "  tokens = []\n",
        "# iteration over the words in a given title\n",
        "  for token in title.split():\n",
        "# removing the stop words\n",
        "    if token not in stop_words:\n",
        "# removing the interpunction\n",
        "      if token.isalnum():\n",
        "# appending the lemmatized titles to the list\n",
        "        tokens.append(lemmatizer.lemmatize(token))\n",
        "# rejoining the list of words back into a title\n",
        "  return \" \".join(tokens)"
      ],
      "execution_count": 89,
      "outputs": []
    },
    {
      "cell_type": "code",
      "metadata": {
        "id": "rhYd6Fd2kuBs",
        "colab": {
          "base_uri": "https://localhost:8080/",
          "height": 0
        },
        "outputId": "66ee20f9-1f88-41c2-80e1-0428f424189d"
      },
      "source": [
        "# applying the lemmatizer to each row of the dataframe\n",
        "sent_df.title = sent_df.title.apply(lambda x: sneaky_cleanup(x))\n",
        "# checking if everything worked correctly\n",
        "sent_df.head()"
      ],
      "execution_count": 90,
      "outputs": [
        {
          "output_type": "execute_result",
          "data": {
            "text/html": [
              "<div>\n",
              "<style scoped>\n",
              "    .dataframe tbody tr th:only-of-type {\n",
              "        vertical-align: middle;\n",
              "    }\n",
              "\n",
              "    .dataframe tbody tr th {\n",
              "        vertical-align: top;\n",
              "    }\n",
              "\n",
              "    .dataframe thead th {\n",
              "        text-align: right;\n",
              "    }\n",
              "</style>\n",
              "<table border=\"1\" class=\"dataframe\">\n",
              "  <thead>\n",
              "    <tr style=\"text-align: right;\">\n",
              "      <th></th>\n",
              "      <th>sentiment</th>\n",
              "      <th>title</th>\n",
              "    </tr>\n",
              "  </thead>\n",
              "  <tbody>\n",
              "    <tr>\n",
              "      <th>0</th>\n",
              "      <td>neutral</td>\n",
              "      <td>Technopolis plan develop stage area le square ...</td>\n",
              "    </tr>\n",
              "    <tr>\n",
              "      <th>1</th>\n",
              "      <td>negative</td>\n",
              "      <td>The international electronic industry company ...</td>\n",
              "    </tr>\n",
              "    <tr>\n",
              "      <th>2</th>\n",
              "      <td>positive</td>\n",
              "      <td>With new production plant company would increa...</td>\n",
              "    </tr>\n",
              "    <tr>\n",
              "      <th>3</th>\n",
              "      <td>positive</td>\n",
              "      <td>According company updated strategy year Baswar...</td>\n",
              "    </tr>\n",
              "    <tr>\n",
              "      <th>4</th>\n",
              "      <td>positive</td>\n",
              "      <td>FINANCING OF ASPOCOMP GROWTH Aspocomp aggressi...</td>\n",
              "    </tr>\n",
              "  </tbody>\n",
              "</table>\n",
              "</div>"
            ],
            "text/plain": [
              "  sentiment                                              title\n",
              "0   neutral  Technopolis plan develop stage area le square ...\n",
              "1  negative  The international electronic industry company ...\n",
              "2  positive  With new production plant company would increa...\n",
              "3  positive  According company updated strategy year Baswar...\n",
              "4  positive  FINANCING OF ASPOCOMP GROWTH Aspocomp aggressi..."
            ]
          },
          "metadata": {
            "tags": []
          },
          "execution_count": 90
        }
      ]
    },
    {
      "cell_type": "markdown",
      "metadata": {
        "id": "ZE6hW-tABRf1"
      },
      "source": [
        "We decided that cleaning up the text before applying a machine learning model would be beneficial. We lemmatized the words, removed the stopwords and interpunctions.\r\n",
        "\r\n",
        "We chose lemmatization over stemming as it preserves the original meaning of a word better - lemmatiztion changes the word to its lemma (base of the word), whereas stemming simply cuts off the ending.\r\n",
        "\r\n",
        "The stopwords and interpunctions were removed despite their potential importance for the context, as they typically don't improve performance in the case of sentiment analysis, as the model only needs to classify the titles into the category of positive, negative and neutral ones.\r\n"
      ]
    },
    {
      "cell_type": "code",
      "metadata": {
        "id": "OOKksXH1g-a8"
      },
      "source": [
        "# creating three new dataframes for the three sentiments\n",
        "sent_pos=sent_df[sent_df[\"sentiment\"] == \"positive\"]\n",
        "sent_neg=sent_df[sent_df[\"sentiment\"] == \"negative\"]\n",
        "sent_neu=sent_df[sent_df[\"sentiment\"] == \"neutral\"]\n",
        "# tokenizing the titles in the dataframes\n",
        "sent_pos[\"title\"]=sent_pos[\"title\"].apply(lambda x: word_tokenize(x))\n",
        "sent_neg[\"title\"]=sent_neg[\"title\"].apply(lambda x: word_tokenize(x))\n",
        "sent_neu[\"title\"]=sent_neu[\"title\"].apply(lambda x: word_tokenize(x))"
      ],
      "execution_count": 91,
      "outputs": []
    },
    {
      "cell_type": "code",
      "metadata": {
        "id": "xrhOH2mZgS4X",
        "colab": {
          "base_uri": "https://localhost:8080/"
        },
        "outputId": "f512e58f-de3f-4882-b4d7-230b91d8c63e"
      },
      "source": [
        "# finding the most popular words in the negative titles\r\n",
        "Counter(itertools.chain(*sent_neg[\"title\"])).most_common(10)"
      ],
      "execution_count": 92,
      "outputs": [
        {
          "output_type": "execute_result",
          "data": {
            "text/plain": [
              "[('EUR', 307),\n",
              " ('mn', 224),\n",
              " ('profit', 151),\n",
              " ('The', 105),\n",
              " ('company', 104),\n",
              " ('Finnish', 99),\n",
              " ('sale', 96),\n",
              " ('period', 89),\n",
              " ('net', 88),\n",
              " ('2009', 85)]"
            ]
          },
          "metadata": {
            "tags": []
          },
          "execution_count": 92
        }
      ]
    },
    {
      "cell_type": "code",
      "metadata": {
        "id": "fBZUThcChidp",
        "colab": {
          "base_uri": "https://localhost:8080/"
        },
        "outputId": "de33ba32-fb91-4ffa-f513-45d49d30dedc"
      },
      "source": [
        "# finding the most popular words in the neutral titles\r\n",
        "Counter(itertools.chain(*sent_neu[\"title\"])).most_common(10)"
      ],
      "execution_count": 93,
      "outputs": [
        {
          "output_type": "execute_result",
          "data": {
            "text/plain": [
              "[('The', 969),\n",
              " ('company', 553),\n",
              " ('share', 293),\n",
              " ('said', 237),\n",
              " ('Finland', 219),\n",
              " ('EUR', 217),\n",
              " ('Finnish', 215),\n",
              " ('million', 192),\n",
              " ('service', 189),\n",
              " ('sale', 187)]"
            ]
          },
          "metadata": {
            "tags": []
          },
          "execution_count": 93
        }
      ]
    },
    {
      "cell_type": "code",
      "metadata": {
        "id": "EDf1EZIXhjDc",
        "colab": {
          "base_uri": "https://localhost:8080/"
        },
        "outputId": "ec15a8e9-718e-4df7-8919-6dd90d0dc80b"
      },
      "source": [
        "# finding the most popular words in the positive titles\r\n",
        "Counter(itertools.chain(*sent_pos[\"title\"])).most_common(10)"
      ],
      "execution_count": 94,
      "outputs": [
        {
          "output_type": "execute_result",
          "data": {
            "text/plain": [
              "[('EUR', 394),\n",
              " ('The', 280),\n",
              " ('company', 262),\n",
              " ('mn', 241),\n",
              " ('said', 230),\n",
              " ('Finnish', 198),\n",
              " ('sale', 187),\n",
              " ('profit', 183),\n",
              " ('net', 175),\n",
              " ('million', 171)]"
            ]
          },
          "metadata": {
            "tags": []
          },
          "execution_count": 94
        }
      ]
    },
    {
      "cell_type": "markdown",
      "metadata": {
        "id": "w9F35rHxCkiR"
      },
      "source": [
        "As can be seen, the words in all the titles are very similar, showing how difficult the task of predicting the sentiment will be."
      ]
    },
    {
      "cell_type": "code",
      "metadata": {
        "id": "E8uREb2wfXw0",
        "colab": {
          "base_uri": "https://localhost:8080/"
        },
        "outputId": "fb6f1f18-e37a-4138-8cb6-9b8dbf19b15c"
      },
      "source": [
        "# inspecting the length of the titles - the longest title is just above 40 words\n",
        "sent_df[\"words\"] = sent_df[\"title\"].map(lambda x: len(x.split()))\n",
        "sent_df[\"words\"].describe()"
      ],
      "execution_count": 95,
      "outputs": [
        {
          "output_type": "execute_result",
          "data": {
            "text/plain": [
              "count    4845.000000\n",
              "mean       12.831373\n",
              "std         5.831930\n",
              "min         1.000000\n",
              "25%         8.000000\n",
              "50%        12.000000\n",
              "75%        16.000000\n",
              "max        42.000000\n",
              "Name: words, dtype: float64"
            ]
          },
          "metadata": {
            "tags": []
          },
          "execution_count": 95
        }
      ]
    },
    {
      "cell_type": "code",
      "metadata": {
        "id": "GtyWv1bWje52"
      },
      "source": [
        "# creating a series of all the sentiments\n",
        "y = sent_df[\"sentiment\"]\n",
        "# creating a labelencoder instance\n",
        "labelencoder_y = LabelEncoder()\n",
        "# encoding the sentiments\n",
        "y = labelencoder_y.fit_transform(y)\n",
        "# changing the sentiments to one-hot encoding\n",
        "y = np_utils.to_categorical(y)"
      ],
      "execution_count": 96,
      "outputs": []
    },
    {
      "cell_type": "code",
      "metadata": {
        "id": "GMwsCTs1gI1r"
      },
      "source": [
        "# creating training and testing samples\r\n",
        "X_train, X_test, y_train, y_test = train_test_split(sent_df[\"title\"], y, test_size = 0.2, random_state = 44)\r\n",
        "X_test_initial = X_test"
      ],
      "execution_count": 97,
      "outputs": []
    },
    {
      "cell_type": "markdown",
      "metadata": {
        "id": "h9y-AAhjVBck"
      },
      "source": [
        "## 1.2 Preparing the dataset for transformers use and creating transformers layer"
      ]
    },
    {
      "cell_type": "code",
      "metadata": {
        "id": "I1hyVCFsZkP0"
      },
      "source": [
        "tokenizer = BertTokenizer.from_pretrained('bert-base-uncased', do_lower_case=True)"
      ],
      "execution_count": 98,
      "outputs": []
    },
    {
      "cell_type": "code",
      "metadata": {
        "id": "Aped6vXXZqCs"
      },
      "source": [
        "def preprocessing_for_bert(data):\r\n",
        "    \"\"\"Perform required preprocessing steps for pretrained BERT.\r\n",
        "    @param    data (np.array): Array of texts to be processed.\r\n",
        "    @return   input_ids (torch.Tensor): Tensor of token ids to be fed to a model.\r\n",
        "    @return   attention_masks (torch.Tensor): Tensor of indices specifying which\r\n",
        "                  tokens should be attended to by the model.\r\n",
        "    \"\"\"\r\n",
        "    # Create empty lists to store outputs\r\n",
        "    input_ids = []\r\n",
        "    attention_masks = []\r\n",
        "\r\n",
        "    # For every sentence...\r\n",
        "    for sent in data:\r\n",
        "        # `encode_plus` will:\r\n",
        "        #    (1) Tokenize the sentence\r\n",
        "        #    (2) Add the `[CLS]` and `[SEP]` token to the start and end\r\n",
        "        #    (3) Truncate/Pad sentence to max length\r\n",
        "        #    (4) Map tokens to their IDs\r\n",
        "        #    (5) Create attention mask\r\n",
        "        #    (6) Return a dictionary of outputs\r\n",
        "        encoded_sent = tokenizer.encode_plus(\r\n",
        "            text=sent,  # Preprocess sentence\r\n",
        "            add_special_tokens=True,        # Add `[CLS]` and `[SEP]`\r\n",
        "            max_length=MAX_LEN,                  # Max length to truncate/pad\r\n",
        "            pad_to_max_length=True,         # Pad sentence to max length\r\n",
        "            #return_tensors='pt',           # Return PyTorch tensor\r\n",
        "            return_attention_mask=True      # Return attention mask\r\n",
        "            )\r\n",
        "        \r\n",
        "        # Add the outputs to the lists\r\n",
        "        input_ids.append(encoded_sent.get('input_ids'))\r\n",
        "        attention_masks.append(encoded_sent.get('attention_mask'))\r\n",
        "\r\n",
        "    # Convert lists to tensors\r\n",
        "    input_ids = torch.tensor(input_ids)\r\n",
        "    attention_masks = torch.tensor(attention_masks)\r\n",
        "\r\n",
        "    return input_ids, attention_masks"
      ],
      "execution_count": 99,
      "outputs": []
    },
    {
      "cell_type": "code",
      "metadata": {
        "id": "WHecOJCcaAvB",
        "colab": {
          "base_uri": "https://localhost:8080/"
        },
        "outputId": "26ecaa93-66c8-4ddc-9736-43d243580860"
      },
      "source": [
        "# Specify `MAX_LEN`\r\n",
        "MAX_LEN = 40\r\n",
        "\r\n",
        "# Run function `preprocessing_for_bert` on the train set and the validation set\r\n",
        "train_inputs, train_masks = preprocessing_for_bert(X_train)\r\n",
        "val_inputs, val_masks = preprocessing_for_bert(X_test)"
      ],
      "execution_count": 100,
      "outputs": [
        {
          "output_type": "stream",
          "text": [
            "Truncation was not explicitly activated but `max_length` is provided a specific value, please use `truncation=True` to explicitly truncate examples to max length. Defaulting to 'longest_first' truncation strategy. If you encode pairs of sequences (GLUE-style) with the tokenizer you can select this strategy more precisely by providing a specific strategy to `truncation`.\n"
          ],
          "name": "stderr"
        }
      ]
    },
    {
      "cell_type": "code",
      "metadata": {
        "id": "u0ERElH7qtoY"
      },
      "source": [
        "train_ids = torch.tensor(X_train.index.tolist())\r\n",
        "test_ids = torch.tensor(X_test.index.tolist())"
      ],
      "execution_count": 101,
      "outputs": []
    },
    {
      "cell_type": "code",
      "metadata": {
        "id": "X5wVTujrtJt6"
      },
      "source": [
        "train_inputs = train_inputs.numpy().astype(\"int32\")\r\n",
        "train_masks = train_masks.numpy().astype(\"int32\")\r\n",
        "train_ids = train_ids.numpy().astype(\"int32\")\r\n",
        "val_inputs = val_inputs.numpy().astype(\"int32\")\r\n",
        "val_masks = val_masks.numpy().astype(\"int32\")\r\n",
        "test_ids = test_ids.numpy().astype(\"int32\")"
      ],
      "execution_count": 102,
      "outputs": []
    },
    {
      "cell_type": "code",
      "metadata": {
        "id": "eOGbsjA1o-3R"
      },
      "source": [
        "X_train_dic = {\"input_word_ids\":train_inputs,\"input_mask\":train_masks,\"input_type_ids\":train_ids}\r\n",
        "X_test_dic = {\"input_word_ids\":val_inputs,\"input_mask\":val_masks,\"input_type_ids\":test_ids}"
      ],
      "execution_count": 103,
      "outputs": []
    },
    {
      "cell_type": "code",
      "metadata": {
        "colab": {
          "base_uri": "https://localhost:8080/"
        },
        "id": "U2O9f6FWmMYj",
        "outputId": "043b1b7a-9a4a-4a95-9c90-eae4db27c818"
      },
      "source": [
        "bert_v2 = hub.KerasLayer(\"https://tfhub.dev/tensorflow/bert_en_uncased_L-12_H-768_A-12/3\", trainable=True, output_key=\"pooled_output\")"
      ],
      "execution_count": 104,
      "outputs": [
        {
          "output_type": "stream",
          "text": [
            "INFO:absl:resolver HttpCompressedFileResolver does not support the provided handle.\n",
            "INFO:absl:resolver GcsCompressedFileResolver does not support the provided handle.\n"
          ],
          "name": "stderr"
        }
      ]
    },
    {
      "cell_type": "markdown",
      "metadata": {
        "id": "OIOj8MljjDAE"
      },
      "source": [
        "## 1.3 Creating the sentiment analysis model"
      ]
    },
    {
      "cell_type": "code",
      "metadata": {
        "id": "ba5smMu7jNZc"
      },
      "source": [
        "model = Sequential()\n",
        "model.add(bert_v2)\n",
        "model.add(layers.Dense(128, activation = \"relu\"))\n",
        "model.add(layers.Dense(264, activation = \"relu\"))\n",
        "model.add(layers.Dropout(0.2))\n",
        "model.add(layers.Dense(64, activation = \"relu\"))\n",
        "model.add(layers.Dense(3, activation='softmax'))"
      ],
      "execution_count": 105,
      "outputs": []
    },
    {
      "cell_type": "code",
      "metadata": {
        "id": "KZCQKT5VkcBV"
      },
      "source": [
        "# defining early stopping - lower patience this time, more periods weren't needed\n",
        "# changing the learning rate to a much lower rate\n",
        "# it makes the results vastly more stable\n",
        "opt = optimizers.Adam(learning_rate=0.0001)"
      ],
      "execution_count": 106,
      "outputs": []
    },
    {
      "cell_type": "code",
      "metadata": {
        "id": "NHfrON-xMNf2"
      },
      "source": [
        "def weighted_categorical_crossentropy(weights):\r\n",
        "    \"\"\"\r\n",
        "    A weighted version of keras.objectives.categorical_crossentropy\r\n",
        "    \r\n",
        "    Variables:\r\n",
        "        weights: numpy array of shape (C,) where C is the number of classes\r\n",
        "    \r\n",
        "    Usage:\r\n",
        "        weights = np.array([0.5,2,10]) # Class one at 0.5, class 2 twice the normal weights, class 3 10x.\r\n",
        "        loss = weighted_categorical_crossentropy(weights)\r\n",
        "        model.compile(loss=loss,optimizer='adam')\r\n",
        "    \"\"\"\r\n",
        "    \r\n",
        "    weights = K.variable(weights)\r\n",
        "        \r\n",
        "    def loss(y_true, y_pred):\r\n",
        "        # scale predictions so that the class probas of each sample sum to 1\r\n",
        "        y_pred /= K.sum(y_pred, axis=-1, keepdims=True)\r\n",
        "        # clip to prevent NaN's and Inf's\r\n",
        "        y_pred = K.clip(y_pred, K.epsilon(), 1 - K.epsilon())\r\n",
        "        # calc\r\n",
        "        loss = y_true * K.log(y_pred) * weights\r\n",
        "        loss = -K.sum(loss, -1)\r\n",
        "        return loss\r\n",
        "    \r\n",
        "    return loss"
      ],
      "execution_count": 107,
      "outputs": []
    },
    {
      "cell_type": "code",
      "metadata": {
        "id": "enwFpk8XDjJl"
      },
      "source": [
        "perc_neu = sent_df[sent_df[\"sentiment\"]==\"neutral\"][\"sentiment\"].count()/sent_df[\"sentiment\"].count()\r\n",
        "perc_pos = sent_df[sent_df[\"sentiment\"]==\"positive\"][\"sentiment\"].count()/sent_df[\"sentiment\"].count()\r\n",
        "perc_neg = sent_df[sent_df[\"sentiment\"]==\"negative\"][\"sentiment\"].count()/sent_df[\"sentiment\"].count()"
      ],
      "execution_count": 108,
      "outputs": []
    },
    {
      "cell_type": "code",
      "metadata": {
        "id": "zztMyGS-MYHt"
      },
      "source": [
        "weights = np.array([2,1,2-perc_pos])"
      ],
      "execution_count": 109,
      "outputs": []
    },
    {
      "cell_type": "code",
      "metadata": {
        "id": "ZgS7nx8mkfoL"
      },
      "source": [
        "# compiling the model with categorical crossentropy as a loss function\r\n",
        "# it was chosen as it is an appropriate measure for multiclass predictions\r\n",
        "model.compile(optimizer = opt, loss=weighted_categorical_crossentropy(weights), metrics=['accuracy'])"
      ],
      "execution_count": 110,
      "outputs": []
    },
    {
      "cell_type": "code",
      "metadata": {
        "id": "dc4GSQb0kkZR",
        "colab": {
          "base_uri": "https://localhost:8080/"
        },
        "outputId": "f7be5380-9fbc-4485-c9a8-ddd640d7f705"
      },
      "source": [
        "# fitting the model to the original data\r\n",
        "# batch size chosen for the best results\r\n",
        "# here the results are not amazing, but much better than for the downsampled data\r\n",
        "history = model.fit(X_train_dic, y_train, batch_size=64, epochs = 10)"
      ],
      "execution_count": 111,
      "outputs": [
        {
          "output_type": "stream",
          "text": [
            "Epoch 1/10\n",
            "WARNING:tensorflow:Layers in a Sequential model should only have a single input tensor, but we receive a <class 'dict'> input: {'input_word_ids': <tf.Tensor 'IteratorGetNext:2' shape=(None, 40) dtype=int32>, 'input_mask': <tf.Tensor 'IteratorGetNext:0' shape=(None, 40) dtype=int32>, 'input_type_ids': <tf.Tensor 'ExpandDims:0' shape=(None, 1) dtype=int32>}\n",
            "Consider rewriting this model with the Functional API.\n"
          ],
          "name": "stdout"
        },
        {
          "output_type": "stream",
          "text": [
            "WARNING:tensorflow:Layers in a Sequential model should only have a single input tensor, but we receive a <class 'dict'> input: {'input_word_ids': <tf.Tensor 'IteratorGetNext:2' shape=(None, 40) dtype=int32>, 'input_mask': <tf.Tensor 'IteratorGetNext:0' shape=(None, 40) dtype=int32>, 'input_type_ids': <tf.Tensor 'ExpandDims:0' shape=(None, 1) dtype=int32>}\n",
            "Consider rewriting this model with the Functional API.\n"
          ],
          "name": "stderr"
        },
        {
          "output_type": "stream",
          "text": [
            "WARNING:tensorflow:Layers in a Sequential model should only have a single input tensor, but we receive a <class 'dict'> input: {'input_word_ids': <tf.Tensor 'IteratorGetNext:2' shape=(None, 40) dtype=int32>, 'input_mask': <tf.Tensor 'IteratorGetNext:0' shape=(None, 40) dtype=int32>, 'input_type_ids': <tf.Tensor 'ExpandDims:0' shape=(None, 1) dtype=int32>}\n",
            "Consider rewriting this model with the Functional API.\n"
          ],
          "name": "stdout"
        },
        {
          "output_type": "stream",
          "text": [
            "WARNING:tensorflow:Layers in a Sequential model should only have a single input tensor, but we receive a <class 'dict'> input: {'input_word_ids': <tf.Tensor 'IteratorGetNext:2' shape=(None, 40) dtype=int32>, 'input_mask': <tf.Tensor 'IteratorGetNext:0' shape=(None, 40) dtype=int32>, 'input_type_ids': <tf.Tensor 'ExpandDims:0' shape=(None, 1) dtype=int32>}\n",
            "Consider rewriting this model with the Functional API.\n"
          ],
          "name": "stderr"
        },
        {
          "output_type": "stream",
          "text": [
            "61/61 [==============================] - 47s 571ms/step - loss: 1.2733 - accuracy: 0.5927\n",
            "Epoch 2/10\n",
            "61/61 [==============================] - 33s 547ms/step - loss: 0.6774 - accuracy: 0.8176\n",
            "Epoch 3/10\n",
            "61/61 [==============================] - 34s 550ms/step - loss: 0.4204 - accuracy: 0.8989\n",
            "Epoch 4/10\n",
            "61/61 [==============================] - 34s 557ms/step - loss: 0.2881 - accuracy: 0.9328\n",
            "Epoch 5/10\n",
            "61/61 [==============================] - 33s 549ms/step - loss: 0.2200 - accuracy: 0.9449\n",
            "Epoch 6/10\n",
            "61/61 [==============================] - 34s 554ms/step - loss: 0.1628 - accuracy: 0.9607\n",
            "Epoch 7/10\n",
            "61/61 [==============================] - 34s 553ms/step - loss: 0.1778 - accuracy: 0.9532\n",
            "Epoch 8/10\n",
            "61/61 [==============================] - 34s 552ms/step - loss: 0.0939 - accuracy: 0.9760\n",
            "Epoch 9/10\n",
            "61/61 [==============================] - 34s 551ms/step - loss: 0.0890 - accuracy: 0.9820\n",
            "Epoch 10/10\n",
            "61/61 [==============================] - 34s 549ms/step - loss: 0.0537 - accuracy: 0.9866\n"
          ],
          "name": "stdout"
        }
      ]
    },
    {
      "cell_type": "markdown",
      "metadata": {
        "id": "AXx9sgKEt1Ky"
      },
      "source": [
        "## 1.4 Evaluation of the sentiment model"
      ]
    },
    {
      "cell_type": "code",
      "metadata": {
        "id": "CX-vYEZCYitY",
        "colab": {
          "base_uri": "https://localhost:8080/"
        },
        "outputId": "ad333e99-9c47-41f0-e7f3-4ae42008ca78"
      },
      "source": [
        "# evaluating the accuracy on the test set - it is not amazing\r\n",
        "model.evaluate(X_test_dic, y_test)"
      ],
      "execution_count": 112,
      "outputs": [
        {
          "output_type": "stream",
          "text": [
            "WARNING:tensorflow:Layers in a Sequential model should only have a single input tensor, but we receive a <class 'dict'> input: {'input_word_ids': <tf.Tensor 'IteratorGetNext:2' shape=(None, 40) dtype=int32>, 'input_mask': <tf.Tensor 'IteratorGetNext:0' shape=(None, 40) dtype=int32>, 'input_type_ids': <tf.Tensor 'ExpandDims:0' shape=(None, 1) dtype=int32>}\n",
            "Consider rewriting this model with the Functional API.\n"
          ],
          "name": "stdout"
        },
        {
          "output_type": "stream",
          "text": [
            "WARNING:tensorflow:Layers in a Sequential model should only have a single input tensor, but we receive a <class 'dict'> input: {'input_word_ids': <tf.Tensor 'IteratorGetNext:2' shape=(None, 40) dtype=int32>, 'input_mask': <tf.Tensor 'IteratorGetNext:0' shape=(None, 40) dtype=int32>, 'input_type_ids': <tf.Tensor 'ExpandDims:0' shape=(None, 1) dtype=int32>}\n",
            "Consider rewriting this model with the Functional API.\n"
          ],
          "name": "stderr"
        },
        {
          "output_type": "stream",
          "text": [
            "31/31 [==============================] - 4s 93ms/step - loss: 1.4300 - accuracy: 0.8019\n"
          ],
          "name": "stdout"
        },
        {
          "output_type": "execute_result",
          "data": {
            "text/plain": [
              "[1.4299790859222412, 0.801857590675354]"
            ]
          },
          "metadata": {
            "tags": []
          },
          "execution_count": 112
        }
      ]
    },
    {
      "cell_type": "code",
      "metadata": {
        "id": "RdXmU8juxEJ9",
        "colab": {
          "base_uri": "https://localhost:8080/"
        },
        "outputId": "0120d66c-362e-4e34-bb0a-49e91e3d83b8"
      },
      "source": [
        "# finding the predictions\n",
        "y_pred = model.predict(X_test_dic)\n",
        "# creating a numpy array filled with zeroes\n",
        "y_pred_hardmax = np.zeros_like(y_pred)\n",
        "# assigning one to the class with the highest outcome\n",
        "y_pred_hardmax[np.arange(len(y_pred)), y_pred.argmax(1)] = 1"
      ],
      "execution_count": 113,
      "outputs": [
        {
          "output_type": "stream",
          "text": [
            "WARNING:tensorflow:Layers in a Sequential model should only have a single input tensor, but we receive a <class 'dict'> input: {'input_word_ids': <tf.Tensor 'IteratorGetNext:2' shape=(None, 40) dtype=int32>, 'input_mask': <tf.Tensor 'IteratorGetNext:0' shape=(None, 40) dtype=int32>, 'input_type_ids': <tf.Tensor 'ExpandDims:0' shape=(None, 1) dtype=int32>}\n",
            "Consider rewriting this model with the Functional API.\n"
          ],
          "name": "stdout"
        },
        {
          "output_type": "stream",
          "text": [
            "WARNING:tensorflow:Layers in a Sequential model should only have a single input tensor, but we receive a <class 'dict'> input: {'input_word_ids': <tf.Tensor 'IteratorGetNext:2' shape=(None, 40) dtype=int32>, 'input_mask': <tf.Tensor 'IteratorGetNext:0' shape=(None, 40) dtype=int32>, 'input_type_ids': <tf.Tensor 'ExpandDims:0' shape=(None, 1) dtype=int32>}\n",
            "Consider rewriting this model with the Functional API.\n"
          ],
          "name": "stderr"
        }
      ]
    },
    {
      "cell_type": "code",
      "metadata": {
        "id": "RFCWor2BzMf1"
      },
      "source": [
        "# changing back from one hot encoding to a list of classes\n",
        "y_pred_hardmax= [np.argmax(y, axis=None, out=None) for y in y_pred_hardmax]\n",
        "y_test= [np.argmax(y, axis=None, out=None) for y in y_test]"
      ],
      "execution_count": 114,
      "outputs": []
    },
    {
      "cell_type": "code",
      "metadata": {
        "id": "kq3Vowg9w4cR"
      },
      "source": [
        "# reversing the encoding\n",
        "y_test = labelencoder_y.inverse_transform(y_test)\n",
        "y_pred_hardmax = labelencoder_y.inverse_transform(y_pred_hardmax)"
      ],
      "execution_count": 115,
      "outputs": []
    },
    {
      "cell_type": "code",
      "metadata": {
        "id": "MYTOyrGfr2yJ",
        "colab": {
          "base_uri": "https://localhost:8080/",
          "height": 0
        },
        "outputId": "f8af3312-a693-45d5-b638-5f5fd8f4290a"
      },
      "source": [
        "# creating a confusion matrix \r\n",
        "plt.figure(figsize=(12,8))\r\n",
        "sns.heatmap(confusion_matrix(y_pred_hardmax,y_test), annot = True, cmap = \"YlGnBu\",fmt='g')"
      ],
      "execution_count": 116,
      "outputs": [
        {
          "output_type": "execute_result",
          "data": {
            "text/plain": [
              "<matplotlib.axes._subplots.AxesSubplot at 0x7fca865f76a0>"
            ]
          },
          "metadata": {
            "tags": []
          },
          "execution_count": 116
        },
        {
          "output_type": "display_data",
          "data": {
            "image/png": "[encoded data removed]",
            "text/plain": [
              "<Figure size 864x576 with 2 Axes>"
            ]
          },
          "metadata": {
            "tags": [],
            "needs_background": "light"
          }
        }
      ]
    },
    {
      "cell_type": "code",
      "metadata": {
        "id": "iFJUZ8kn1C_a",
        "colab": {
          "base_uri": "https://localhost:8080/"
        },
        "outputId": "ec5eec01-43ad-44ff-9abb-bc605eeefe25"
      },
      "source": [
        "# printing out the classification report\r\n",
        "print(classification_report(y_pred_hardmax,y_test))"
      ],
      "execution_count": 117,
      "outputs": [
        {
          "output_type": "stream",
          "text": [
            "              precision    recall  f1-score   support\n",
            "\n",
            "    negative       0.70      0.73      0.71       115\n",
            "     neutral       0.88      0.84      0.86       600\n",
            "    positive       0.68      0.74      0.71       254\n",
            "\n",
            "    accuracy                           0.80       969\n",
            "   macro avg       0.75      0.77      0.76       969\n",
            "weighted avg       0.81      0.80      0.80       969\n",
            "\n"
          ],
          "name": "stdout"
        }
      ]
    },
    {
      "cell_type": "code",
      "metadata": {
        "id": "HYEEz1Z51MhD"
      },
      "source": [
        "# creating a dataframe from X_test\n",
        "X_test_initial = pd.DataFrame(X_test_initial)\n",
        "# resetting the index\n",
        "X_test_initial = X_test_initial.reset_index()\n",
        "# only keeping the title column\n",
        "X_test_initial = X_test_initial.loc[:,\"title\"]\n",
        "# turning it into a dataframe again\n",
        "X_test_initial = pd.DataFrame(X_test_initial)"
      ],
      "execution_count": 118,
      "outputs": []
    },
    {
      "cell_type": "code",
      "metadata": {
        "id": "SaG55f03HkP9",
        "colab": {
          "base_uri": "https://localhost:8080/",
          "height": 0
        },
        "outputId": "30286f01-a179-4a13-d3c1-59a6c497f6f8"
      },
      "source": [
        "# creating a dataframe from y_test\n",
        "y_test = pd.DataFrame(y_test)\n",
        "# creating a dataframe from the label predictions\n",
        "y_pred_hardmax = pd.DataFrame(y_pred_hardmax)\n",
        "# adding the new columns to X_test_initial\n",
        "X_test_initial[\"y\"] = y_test\n",
        "X_test_initial[\"pred\"] = y_pred_hardmax\n",
        "# turning the softmax predictions into a dataframe\n",
        "y_pred = pd.DataFrame(y_pred)\n",
        "# merging the dataframes\n",
        "X_test_initial = X_test_initial.merge(y_pred, left_index = True, right_index=True,copy = False)\n",
        "X_test_initial.describe()"
      ],
      "execution_count": 119,
      "outputs": [
        {
          "output_type": "execute_result",
          "data": {
            "text/html": [
              "<div>\n",
              "<style scoped>\n",
              "    .dataframe tbody tr th:only-of-type {\n",
              "        vertical-align: middle;\n",
              "    }\n",
              "\n",
              "    .dataframe tbody tr th {\n",
              "        vertical-align: top;\n",
              "    }\n",
              "\n",
              "    .dataframe thead th {\n",
              "        text-align: right;\n",
              "    }\n",
              "</style>\n",
              "<table border=\"1\" class=\"dataframe\">\n",
              "  <thead>\n",
              "    <tr style=\"text-align: right;\">\n",
              "      <th></th>\n",
              "      <th>0</th>\n",
              "      <th>1</th>\n",
              "      <th>2</th>\n",
              "    </tr>\n",
              "  </thead>\n",
              "  <tbody>\n",
              "    <tr>\n",
              "      <th>count</th>\n",
              "      <td>969.000000</td>\n",
              "      <td>969.000000</td>\n",
              "      <td>969.000000</td>\n",
              "    </tr>\n",
              "    <tr>\n",
              "      <th>mean</th>\n",
              "      <td>0.116872</td>\n",
              "      <td>0.611144</td>\n",
              "      <td>0.271984</td>\n",
              "    </tr>\n",
              "    <tr>\n",
              "      <th>std</th>\n",
              "      <td>0.300629</td>\n",
              "      <td>0.460876</td>\n",
              "      <td>0.414129</td>\n",
              "    </tr>\n",
              "    <tr>\n",
              "      <th>min</th>\n",
              "      <td>0.000068</td>\n",
              "      <td>0.000743</td>\n",
              "      <td>0.000300</td>\n",
              "    </tr>\n",
              "    <tr>\n",
              "      <th>25%</th>\n",
              "      <td>0.000116</td>\n",
              "      <td>0.007532</td>\n",
              "      <td>0.000582</td>\n",
              "    </tr>\n",
              "    <tr>\n",
              "      <th>50%</th>\n",
              "      <td>0.000207</td>\n",
              "      <td>0.986522</td>\n",
              "      <td>0.002762</td>\n",
              "    </tr>\n",
              "    <tr>\n",
              "      <th>75%</th>\n",
              "      <td>0.002406</td>\n",
              "      <td>0.999256</td>\n",
              "      <td>0.603941</td>\n",
              "    </tr>\n",
              "    <tr>\n",
              "      <th>max</th>\n",
              "      <td>0.998262</td>\n",
              "      <td>0.999588</td>\n",
              "      <td>0.999167</td>\n",
              "    </tr>\n",
              "  </tbody>\n",
              "</table>\n",
              "</div>"
            ],
            "text/plain": [
              "                0           1           2\n",
              "count  969.000000  969.000000  969.000000\n",
              "mean     0.116872    0.611144    0.271984\n",
              "std      0.300629    0.460876    0.414129\n",
              "min      0.000068    0.000743    0.000300\n",
              "25%      0.000116    0.007532    0.000582\n",
              "50%      0.000207    0.986522    0.002762\n",
              "75%      0.002406    0.999256    0.603941\n",
              "max      0.998262    0.999588    0.999167"
            ]
          },
          "metadata": {
            "tags": []
          },
          "execution_count": 119
        }
      ]
    },
    {
      "cell_type": "markdown",
      "metadata": {
        "id": "TD3VGPUoYqWV"
      },
      "source": [
        "## 1.5 Sentiment analysis for articles for the chosen companies"
      ]
    },
    {
      "cell_type": "code",
      "metadata": {
        "id": "8D6P5tlpRMAJ",
        "colab": {
          "base_uri": "https://localhost:8080/",
          "height": 0
        },
        "outputId": "a09b16c5-1664-478f-bd90-b588275ad5bf"
      },
      "source": [
        "#INSERT THE NEW ARTICLES HERE\r\n",
        "alxn_art = pd.read_csv(\"https://raw.githubusercontent.com/AnnaBujniewicz/semester_project/main/data/proc_alxn_data.csv\")\r\n",
        "alxn_art.head()"
      ],
      "execution_count": 120,
      "outputs": [
        {
          "output_type": "execute_result",
          "data": {
            "text/html": [
              "<div>\n",
              "<style scoped>\n",
              "    .dataframe tbody tr th:only-of-type {\n",
              "        vertical-align: middle;\n",
              "    }\n",
              "\n",
              "    .dataframe tbody tr th {\n",
              "        vertical-align: top;\n",
              "    }\n",
              "\n",
              "    .dataframe thead th {\n",
              "        text-align: right;\n",
              "    }\n",
              "</style>\n",
              "<table border=\"1\" class=\"dataframe\">\n",
              "  <thead>\n",
              "    <tr style=\"text-align: right;\">\n",
              "      <th></th>\n",
              "      <th>Unnamed: 0</th>\n",
              "      <th>1</th>\n",
              "      <th>link</th>\n",
              "      <th>title</th>\n",
              "    </tr>\n",
              "  </thead>\n",
              "  <tbody>\n",
              "    <tr>\n",
              "      <th>0</th>\n",
              "      <td>1</td>\n",
              "      <td>2020-12-23</td>\n",
              "      <td>https://t.co/v7UATxnMUy</td>\n",
              "      <td>CVS &amp; Walgreens Hiring 35,000 To Help With Vac...</td>\n",
              "    </tr>\n",
              "    <tr>\n",
              "      <th>1</th>\n",
              "      <td>5</td>\n",
              "      <td>2020-12-22</td>\n",
              "      <td>https://t.co/wMy1spFJMS</td>\n",
              "      <td>StockCharts.com</td>\n",
              "    </tr>\n",
              "    <tr>\n",
              "      <th>2</th>\n",
              "      <td>7</td>\n",
              "      <td>2020-12-22</td>\n",
              "      <td>https://t.co/cCk00oo4ZF</td>\n",
              "      <td>Are you a robot?</td>\n",
              "    </tr>\n",
              "    <tr>\n",
              "      <th>3</th>\n",
              "      <td>8</td>\n",
              "      <td>2020-12-22</td>\n",
              "      <td>https://t.co/AqJYWoUC0J</td>\n",
              "      <td>FDA approves Pfizer's Covid vaccine for emerge...</td>\n",
              "    </tr>\n",
              "    <tr>\n",
              "      <th>4</th>\n",
              "      <td>9</td>\n",
              "      <td>2020-12-22</td>\n",
              "      <td>https://t.co/22qlhrlW30</td>\n",
              "      <td>Stock Market Insights</td>\n",
              "    </tr>\n",
              "  </tbody>\n",
              "</table>\n",
              "</div>"
            ],
            "text/plain": [
              "   Unnamed: 0  ...                                              title\n",
              "0           1  ...  CVS & Walgreens Hiring 35,000 To Help With Vac...\n",
              "1           5  ...                                    StockCharts.com\n",
              "2           7  ...                                   Are you a robot?\n",
              "3           8  ...  FDA approves Pfizer's Covid vaccine for emerge...\n",
              "4           9  ...                              Stock Market Insights\n",
              "\n",
              "[5 rows x 4 columns]"
            ]
          },
          "metadata": {
            "tags": []
          },
          "execution_count": 120
        }
      ]
    },
    {
      "cell_type": "code",
      "metadata": {
        "id": "xnE6inLLYkCy",
        "colab": {
          "base_uri": "https://localhost:8080/",
          "height": 0
        },
        "outputId": "e5e883a9-e310-40c8-f86c-c6158811a909"
      },
      "source": [
        "alxn_art.rename(columns = {'1':'date'}, inplace = True)\n",
        "# only keeping the relevant columns\n",
        "alxn_art = alxn_art.loc[:,[\"title\",\"date\"]]\n",
        "alxn_art[\"title\"] = alxn_art[\"title\"].astype(str)\n",
        "# applying the cleanup function to each row of the dataframe\n",
        "alxn_art.title = alxn_art.title.apply(lambda x: sneaky_cleanup(x))\n",
        "# turning the date column to datetime format\n",
        "alxn_art[\"date\"] = pd.to_datetime(alxn_art[\"date\"], format='%Y-%m-%d', errors='coerce')\n",
        "# dropping the duplicated dates - we only want one article per day\n",
        "alxn_art = alxn_art.drop_duplicates(subset = \"title\")\n",
        "#dropping the titles with 5 words or less - they likely aren't titles at all\n",
        "alxn_art = alxn_art[alxn_art['title'].str.split().str.len().ge(5)]\n",
        "alxn_art.reset_index(inplace=True)\n",
        "# inspecting the changes\n",
        "alxn_art.head()"
      ],
      "execution_count": 121,
      "outputs": [
        {
          "output_type": "execute_result",
          "data": {
            "text/html": [
              "<div>\n",
              "<style scoped>\n",
              "    .dataframe tbody tr th:only-of-type {\n",
              "        vertical-align: middle;\n",
              "    }\n",
              "\n",
              "    .dataframe tbody tr th {\n",
              "        vertical-align: top;\n",
              "    }\n",
              "\n",
              "    .dataframe thead th {\n",
              "        text-align: right;\n",
              "    }\n",
              "</style>\n",
              "<table border=\"1\" class=\"dataframe\">\n",
              "  <thead>\n",
              "    <tr style=\"text-align: right;\">\n",
              "      <th></th>\n",
              "      <th>index</th>\n",
              "      <th>title</th>\n",
              "      <th>date</th>\n",
              "    </tr>\n",
              "  </thead>\n",
              "  <tbody>\n",
              "    <tr>\n",
              "      <th>0</th>\n",
              "      <td>0</td>\n",
              "      <td>CVS Walgreens Hiring To Help With Vaccine Dist...</td>\n",
              "      <td>2020-12-23</td>\n",
              "    </tr>\n",
              "    <tr>\n",
              "      <th>1</th>\n",
              "      <td>3</td>\n",
              "      <td>FDA approves Covid vaccine emergency use reach...</td>\n",
              "      <td>2020-12-22</td>\n",
              "    </tr>\n",
              "    <tr>\n",
              "      <th>2</th>\n",
              "      <td>7</td>\n",
              "      <td>Should Investors Consider This Biotech Takeover</td>\n",
              "      <td>2020-12-22</td>\n",
              "    </tr>\n",
              "    <tr>\n",
              "      <th>3</th>\n",
              "      <td>12</td>\n",
              "      <td>Daniel Bazarko Net worth insider trading</td>\n",
              "      <td>2020-12-21</td>\n",
              "    </tr>\n",
              "    <tr>\n",
              "      <th>4</th>\n",
              "      <td>13</td>\n",
              "      <td>3 Biotech Stocks That Could Explode Higher 2021</td>\n",
              "      <td>2020-12-21</td>\n",
              "    </tr>\n",
              "  </tbody>\n",
              "</table>\n",
              "</div>"
            ],
            "text/plain": [
              "   index                                              title       date\n",
              "0      0  CVS Walgreens Hiring To Help With Vaccine Dist... 2020-12-23\n",
              "1      3  FDA approves Covid vaccine emergency use reach... 2020-12-22\n",
              "2      7    Should Investors Consider This Biotech Takeover 2020-12-22\n",
              "3     12           Daniel Bazarko Net worth insider trading 2020-12-21\n",
              "4     13    3 Biotech Stocks That Could Explode Higher 2021 2020-12-21"
            ]
          },
          "metadata": {
            "tags": []
          },
          "execution_count": 121
        }
      ]
    },
    {
      "cell_type": "code",
      "metadata": {
        "colab": {
          "base_uri": "https://localhost:8080/"
        },
        "id": "vuuGSK4C_PmP",
        "outputId": "cfa71266-d2ac-49fe-9558-2d5924bf56b9"
      },
      "source": [
        "alxn_art[\"date\"].value_counts().describe()"
      ],
      "execution_count": 122,
      "outputs": [
        {
          "output_type": "execute_result",
          "data": {
            "text/plain": [
              "count    440.000000\n",
              "mean       2.481818\n",
              "std        3.540155\n",
              "min        1.000000\n",
              "25%        1.000000\n",
              "50%        2.000000\n",
              "75%        3.000000\n",
              "max       60.000000\n",
              "Name: date, dtype: float64"
            ]
          },
          "metadata": {
            "tags": []
          },
          "execution_count": 122
        }
      ]
    },
    {
      "cell_type": "code",
      "metadata": {
        "id": "kVf9uJnk_34I"
      },
      "source": [
        "alxn_titles = alxn_art.title\r\n",
        "alxn_inputs, alxn_masks = preprocessing_for_bert(alxn_titles)\r\n",
        "alxn_ids = torch.tensor(alxn_titles.index.tolist())\r\n",
        "alxn_inputs = alxn_inputs.numpy().astype(\"int32\")\r\n",
        "alxn_masks = alxn_masks.numpy().astype(\"int32\")\r\n",
        "alxn_ids = alxn_ids.numpy().astype(\"int32\")\r\n",
        "alxn_dic = {\"input_word_ids\":alxn_inputs,\"input_mask\":alxn_masks,\"input_type_ids\":alxn_ids}"
      ],
      "execution_count": 123,
      "outputs": []
    },
    {
      "cell_type": "code",
      "metadata": {
        "id": "LrU-M2hobUci",
        "colab": {
          "base_uri": "https://localhost:8080/"
        },
        "outputId": "f5de290e-a775-4333-8554-7b36d9273e13"
      },
      "source": [
        "# predicting the headings\r\n",
        "alxn_preds = model.predict(alxn_dic)\r\n",
        "alxn_preds"
      ],
      "execution_count": 124,
      "outputs": [
        {
          "output_type": "execute_result",
          "data": {
            "text/plain": [
              "array([[3.2593615e-03, 8.0605304e-01, 1.9068763e-01],\n",
              "       [2.5774099e-04, 7.1854680e-03, 9.9255681e-01],\n",
              "       [2.0276007e-04, 9.9895859e-01, 8.3855417e-04],\n",
              "       ...,\n",
              "       [3.6089637e-04, 4.7366172e-03, 9.9490249e-01],\n",
              "       [3.6135569e-04, 1.0782765e-02, 9.8885590e-01],\n",
              "       [2.5856198e-04, 9.9871135e-01, 1.0301233e-03]], dtype=float32)"
            ]
          },
          "metadata": {
            "tags": []
          },
          "execution_count": 124
        }
      ]
    },
    {
      "cell_type": "code",
      "metadata": {
        "id": "NXa2wljXeS9U",
        "colab": {
          "base_uri": "https://localhost:8080/",
          "height": 0
        },
        "outputId": "2ce3f6d3-43c4-4a1d-9005-509662d93717"
      },
      "source": [
        "# turning the predictions into a dataframe\n",
        "alxn_preds = pd.DataFrame(alxn_preds)\n",
        "# merging the articles and predictions dataframe\n",
        "alxn_sent = alxn_art.merge(alxn_preds, left_index = True, right_index=True)\n",
        "alxn_sent.head()"
      ],
      "execution_count": 125,
      "outputs": [
        {
          "output_type": "execute_result",
          "data": {
            "text/html": [
              "<div>\n",
              "<style scoped>\n",
              "    .dataframe tbody tr th:only-of-type {\n",
              "        vertical-align: middle;\n",
              "    }\n",
              "\n",
              "    .dataframe tbody tr th {\n",
              "        vertical-align: top;\n",
              "    }\n",
              "\n",
              "    .dataframe thead th {\n",
              "        text-align: right;\n",
              "    }\n",
              "</style>\n",
              "<table border=\"1\" class=\"dataframe\">\n",
              "  <thead>\n",
              "    <tr style=\"text-align: right;\">\n",
              "      <th></th>\n",
              "      <th>index</th>\n",
              "      <th>title</th>\n",
              "      <th>date</th>\n",
              "      <th>0</th>\n",
              "      <th>1</th>\n",
              "      <th>2</th>\n",
              "    </tr>\n",
              "  </thead>\n",
              "  <tbody>\n",
              "    <tr>\n",
              "      <th>0</th>\n",
              "      <td>0</td>\n",
              "      <td>CVS Walgreens Hiring To Help With Vaccine Dist...</td>\n",
              "      <td>2020-12-23</td>\n",
              "      <td>0.003259</td>\n",
              "      <td>0.806053</td>\n",
              "      <td>0.190688</td>\n",
              "    </tr>\n",
              "    <tr>\n",
              "      <th>1</th>\n",
              "      <td>3</td>\n",
              "      <td>FDA approves Covid vaccine emergency use reach...</td>\n",
              "      <td>2020-12-22</td>\n",
              "      <td>0.000258</td>\n",
              "      <td>0.007185</td>\n",
              "      <td>0.992557</td>\n",
              "    </tr>\n",
              "    <tr>\n",
              "      <th>2</th>\n",
              "      <td>7</td>\n",
              "      <td>Should Investors Consider This Biotech Takeover</td>\n",
              "      <td>2020-12-22</td>\n",
              "      <td>0.000203</td>\n",
              "      <td>0.998959</td>\n",
              "      <td>0.000839</td>\n",
              "    </tr>\n",
              "    <tr>\n",
              "      <th>3</th>\n",
              "      <td>12</td>\n",
              "      <td>Daniel Bazarko Net worth insider trading</td>\n",
              "      <td>2020-12-21</td>\n",
              "      <td>0.000327</td>\n",
              "      <td>0.998782</td>\n",
              "      <td>0.000891</td>\n",
              "    </tr>\n",
              "    <tr>\n",
              "      <th>4</th>\n",
              "      <td>13</td>\n",
              "      <td>3 Biotech Stocks That Could Explode Higher 2021</td>\n",
              "      <td>2020-12-21</td>\n",
              "      <td>0.001486</td>\n",
              "      <td>0.302785</td>\n",
              "      <td>0.695729</td>\n",
              "    </tr>\n",
              "  </tbody>\n",
              "</table>\n",
              "</div>"
            ],
            "text/plain": [
              "   index                                              title  ...         1         2\n",
              "0      0  CVS Walgreens Hiring To Help With Vaccine Dist...  ...  0.806053  0.190688\n",
              "1      3  FDA approves Covid vaccine emergency use reach...  ...  0.007185  0.992557\n",
              "2      7    Should Investors Consider This Biotech Takeover  ...  0.998959  0.000839\n",
              "3     12           Daniel Bazarko Net worth insider trading  ...  0.998782  0.000891\n",
              "4     13    3 Biotech Stocks That Could Explode Higher 2021  ...  0.302785  0.695729\n",
              "\n",
              "[5 rows x 6 columns]"
            ]
          },
          "metadata": {
            "tags": []
          },
          "execution_count": 125
        }
      ]
    },
    {
      "cell_type": "code",
      "metadata": {
        "id": "2h8P0sfhfHxv",
        "colab": {
          "base_uri": "https://localhost:8080/",
          "height": 0
        },
        "outputId": "fa3ba9cd-8143-476d-e15a-fe6bb560c1e3"
      },
      "source": [
        "# checking the variability of the class columns\r\n",
        "# the differences between the values seem to be high enough\r\n",
        "alxn_sent.describe()"
      ],
      "execution_count": 126,
      "outputs": [
        {
          "output_type": "execute_result",
          "data": {
            "text/html": [
              "<div>\n",
              "<style scoped>\n",
              "    .dataframe tbody tr th:only-of-type {\n",
              "        vertical-align: middle;\n",
              "    }\n",
              "\n",
              "    .dataframe tbody tr th {\n",
              "        vertical-align: top;\n",
              "    }\n",
              "\n",
              "    .dataframe thead th {\n",
              "        text-align: right;\n",
              "    }\n",
              "</style>\n",
              "<table border=\"1\" class=\"dataframe\">\n",
              "  <thead>\n",
              "    <tr style=\"text-align: right;\">\n",
              "      <th></th>\n",
              "      <th>index</th>\n",
              "      <th>0</th>\n",
              "      <th>1</th>\n",
              "      <th>2</th>\n",
              "    </tr>\n",
              "  </thead>\n",
              "  <tbody>\n",
              "    <tr>\n",
              "      <th>count</th>\n",
              "      <td>1092.000000</td>\n",
              "      <td>1092.000000</td>\n",
              "      <td>1092.000000</td>\n",
              "      <td>1092.000000</td>\n",
              "    </tr>\n",
              "    <tr>\n",
              "      <th>mean</th>\n",
              "      <td>3158.169414</td>\n",
              "      <td>0.069490</td>\n",
              "      <td>0.648462</td>\n",
              "      <td>0.282049</td>\n",
              "    </tr>\n",
              "    <tr>\n",
              "      <th>std</th>\n",
              "      <td>2185.939209</td>\n",
              "      <td>0.227103</td>\n",
              "      <td>0.429301</td>\n",
              "      <td>0.401614</td>\n",
              "    </tr>\n",
              "    <tr>\n",
              "      <th>min</th>\n",
              "      <td>0.000000</td>\n",
              "      <td>0.000071</td>\n",
              "      <td>0.000760</td>\n",
              "      <td>0.000343</td>\n",
              "    </tr>\n",
              "    <tr>\n",
              "      <th>25%</th>\n",
              "      <td>1230.750000</td>\n",
              "      <td>0.000203</td>\n",
              "      <td>0.039317</td>\n",
              "      <td>0.001574</td>\n",
              "    </tr>\n",
              "    <tr>\n",
              "      <th>50%</th>\n",
              "      <td>2870.000000</td>\n",
              "      <td>0.000800</td>\n",
              "      <td>0.949909</td>\n",
              "      <td>0.022651</td>\n",
              "    </tr>\n",
              "    <tr>\n",
              "      <th>75%</th>\n",
              "      <td>5149.750000</td>\n",
              "      <td>0.005825</td>\n",
              "      <td>0.997477</td>\n",
              "      <td>0.591742</td>\n",
              "    </tr>\n",
              "    <tr>\n",
              "      <th>max</th>\n",
              "      <td>7097.000000</td>\n",
              "      <td>0.998215</td>\n",
              "      <td>0.999557</td>\n",
              "      <td>0.999104</td>\n",
              "    </tr>\n",
              "  </tbody>\n",
              "</table>\n",
              "</div>"
            ],
            "text/plain": [
              "             index            0            1            2\n",
              "count  1092.000000  1092.000000  1092.000000  1092.000000\n",
              "mean   3158.169414     0.069490     0.648462     0.282049\n",
              "std    2185.939209     0.227103     0.429301     0.401614\n",
              "min       0.000000     0.000071     0.000760     0.000343\n",
              "25%    1230.750000     0.000203     0.039317     0.001574\n",
              "50%    2870.000000     0.000800     0.949909     0.022651\n",
              "75%    5149.750000     0.005825     0.997477     0.591742\n",
              "max    7097.000000     0.998215     0.999557     0.999104"
            ]
          },
          "metadata": {
            "tags": []
          },
          "execution_count": 126
        }
      ]
    },
    {
      "cell_type": "code",
      "metadata": {
        "id": "s_vjofNwC_tx"
      },
      "source": [
        "alxn_sent = alxn_sent.groupby([\"date\"]).sum()\r\n"
      ],
      "execution_count": 127,
      "outputs": []
    },
    {
      "cell_type": "code",
      "metadata": {
        "id": "rh8DgQfYEK9J",
        "colab": {
          "base_uri": "https://localhost:8080/",
          "height": 0
        },
        "outputId": "db94539a-1197-4527-9a3e-6edb6adf4159"
      },
      "source": [
        "alxn_sent = alxn_sent.groupby([\"date\"]).sum()\r\n",
        "alxn_sent.rename(columns = {0:'negative',1:'neutral',2:'positive'}, inplace = True)\r\n",
        "alxn_sent = alxn_sent.loc[:,[\"negative\",\"neutral\",\"positive\"]]\r\n",
        "alxn_sent.head()"
      ],
      "execution_count": 128,
      "outputs": [
        {
          "output_type": "execute_result",
          "data": {
            "text/html": [
              "<div>\n",
              "<style scoped>\n",
              "    .dataframe tbody tr th:only-of-type {\n",
              "        vertical-align: middle;\n",
              "    }\n",
              "\n",
              "    .dataframe tbody tr th {\n",
              "        vertical-align: top;\n",
              "    }\n",
              "\n",
              "    .dataframe thead th {\n",
              "        text-align: right;\n",
              "    }\n",
              "</style>\n",
              "<table border=\"1\" class=\"dataframe\">\n",
              "  <thead>\n",
              "    <tr style=\"text-align: right;\">\n",
              "      <th></th>\n",
              "      <th>negative</th>\n",
              "      <th>neutral</th>\n",
              "      <th>positive</th>\n",
              "    </tr>\n",
              "    <tr>\n",
              "      <th>date</th>\n",
              "      <th></th>\n",
              "      <th></th>\n",
              "      <th></th>\n",
              "    </tr>\n",
              "  </thead>\n",
              "  <tbody>\n",
              "    <tr>\n",
              "      <th>2019-01-03</th>\n",
              "      <td>0.001157</td>\n",
              "      <td>2.013264</td>\n",
              "      <td>1.985579</td>\n",
              "    </tr>\n",
              "    <tr>\n",
              "      <th>2019-01-05</th>\n",
              "      <td>0.000765</td>\n",
              "      <td>0.985568</td>\n",
              "      <td>0.013667</td>\n",
              "    </tr>\n",
              "    <tr>\n",
              "      <th>2019-01-06</th>\n",
              "      <td>0.000890</td>\n",
              "      <td>0.988085</td>\n",
              "      <td>0.011025</td>\n",
              "    </tr>\n",
              "    <tr>\n",
              "      <th>2019-01-07</th>\n",
              "      <td>0.004726</td>\n",
              "      <td>0.918281</td>\n",
              "      <td>0.076993</td>\n",
              "    </tr>\n",
              "    <tr>\n",
              "      <th>2019-01-08</th>\n",
              "      <td>0.000255</td>\n",
              "      <td>0.011155</td>\n",
              "      <td>0.988590</td>\n",
              "    </tr>\n",
              "  </tbody>\n",
              "</table>\n",
              "</div>"
            ],
            "text/plain": [
              "            negative   neutral  positive\n",
              "date                                    \n",
              "2019-01-03  0.001157  2.013264  1.985579\n",
              "2019-01-05  0.000765  0.985568  0.013667\n",
              "2019-01-06  0.000890  0.988085  0.011025\n",
              "2019-01-07  0.004726  0.918281  0.076993\n",
              "2019-01-08  0.000255  0.011155  0.988590"
            ]
          },
          "metadata": {
            "tags": []
          },
          "execution_count": 128
        }
      ]
    },
    {
      "cell_type": "markdown",
      "metadata": {
        "id": "DQPNTcfqhJ_I"
      },
      "source": [
        "## 1.6 Building an embedding layer"
      ]
    },
    {
      "cell_type": "code",
      "metadata": {
        "id": "XI_Uu9UcALA0"
      },
      "source": [
        "articles = pd.read_csv(\"https://github.com/AnnaBujniewicz/semester_project/blob/main/data/raw_partner_headlines.csv.zip?raw=true\", compression = \"zip\")"
      ],
      "execution_count": 129,
      "outputs": []
    },
    {
      "cell_type": "code",
      "metadata": {
        "id": "rIGenE9zAYsG",
        "colab": {
          "base_uri": "https://localhost:8080/",
          "height": 0
        },
        "outputId": "be9f197d-8ffa-4282-8947-095adf333ca4"
      },
      "source": [
        "articles_for_embed = pd.DataFrame(articles.loc[:,\"headline\"])\r\n",
        "sent_df_for_embed = pd.DataFrame(sent_df[\"title\"])\r\n",
        "embed = pd.concat([sent_df_for_embed,articles_for_embed], ignore_index = True)\r\n",
        "embed[\"title\"].fillna(embed[\"headline\"], inplace = True)\r\n",
        "embed = embed.loc[:,[\"title\"]]\r\n",
        "embed1 = embed[:int(len(embed)/3)]\r\n",
        "embed2 = embed[int(len(embed)/3):int(len(embed)*(2/3))].reset_index()\r\n",
        "embed3 = embed[int(len(embed)*(2/3)):].reset_index()\r\n",
        "embed1[\"title2\"] = embed2[\"title\"]\r\n",
        "embed1[\"title3\"] = embed3[\"title\"]\r\n",
        "embed1[\"titles\"] = embed1[\"title\"]+ \" \" + embed1[\"title2\"]+ \" \" +embed1[\"title3\"]\r\n",
        "embed = embed1.loc[:,[\"titles\"]]\r\n",
        "titles_for_embedding = embed[\"titles\"]\r\n",
        "embed.head()"
      ],
      "execution_count": 130,
      "outputs": [
        {
          "output_type": "execute_result",
          "data": {
            "text/html": [
              "<div>\n",
              "<style scoped>\n",
              "    .dataframe tbody tr th:only-of-type {\n",
              "        vertical-align: middle;\n",
              "    }\n",
              "\n",
              "    .dataframe tbody tr th {\n",
              "        vertical-align: top;\n",
              "    }\n",
              "\n",
              "    .dataframe thead th {\n",
              "        text-align: right;\n",
              "    }\n",
              "</style>\n",
              "<table border=\"1\" class=\"dataframe\">\n",
              "  <thead>\n",
              "    <tr style=\"text-align: right;\">\n",
              "      <th></th>\n",
              "      <th>titles</th>\n",
              "    </tr>\n",
              "  </thead>\n",
              "  <tbody>\n",
              "    <tr>\n",
              "      <th>0</th>\n",
              "      <td>Technopolis plan develop stage area le square ...</td>\n",
              "    </tr>\n",
              "    <tr>\n",
              "      <th>1</th>\n",
              "      <td>The international electronic industry company ...</td>\n",
              "    </tr>\n",
              "    <tr>\n",
              "      <th>2</th>\n",
              "      <td>With new production plant company would increa...</td>\n",
              "    </tr>\n",
              "    <tr>\n",
              "      <th>3</th>\n",
              "      <td>According company updated strategy year Baswar...</td>\n",
              "    </tr>\n",
              "    <tr>\n",
              "      <th>4</th>\n",
              "      <td>FINANCING OF ASPOCOMP GROWTH Aspocomp aggressi...</td>\n",
              "    </tr>\n",
              "  </tbody>\n",
              "</table>\n",
              "</div>"
            ],
            "text/plain": [
              "                                              titles\n",
              "0  Technopolis plan develop stage area le square ...\n",
              "1  The international electronic industry company ...\n",
              "2  With new production plant company would increa...\n",
              "3  According company updated strategy year Baswar...\n",
              "4  FINANCING OF ASPOCOMP GROWTH Aspocomp aggressi..."
            ]
          },
          "metadata": {
            "tags": []
          },
          "execution_count": 130
        }
      ]
    },
    {
      "cell_type": "code",
      "metadata": {
        "colab": {
          "base_uri": "https://localhost:8080/"
        },
        "id": "SsgnNBbQJoRK",
        "outputId": "712dd72f-6419-4c4f-b4a1-21d5cb8ef92c"
      },
      "source": [
        "embed1[\"words\"] = embed1[\"titles\"].map(lambda x: len(x.split()))\r\n",
        "embed1[\"words\"].describe()"
      ],
      "execution_count": 131,
      "outputs": [
        {
          "output_type": "execute_result",
          "data": {
            "text/plain": [
              "count    616801.000000\n",
              "mean         27.573582\n",
              "std           5.515953\n",
              "min           7.000000\n",
              "25%          24.000000\n",
              "50%          27.000000\n",
              "75%          31.000000\n",
              "max          67.000000\n",
              "Name: words, dtype: float64"
            ]
          },
          "metadata": {
            "tags": []
          },
          "execution_count": 131
        }
      ]
    },
    {
      "cell_type": "code",
      "metadata": {
        "id": "lSwyevOGg2iY"
      },
      "source": [
        "# creating a tokenizer instance\n",
        "tokenizer = Tokenizer()\n",
        "# fitting the tokenizer on the training set\n",
        "tokenizer.fit_on_texts(titles_for_embedding)\n",
        "# finding the vocabulary size equal to 90% of all the used words\n",
        "vocab_size = int((len(tokenizer.word_index) + 1)*0.9)"
      ],
      "execution_count": 132,
      "outputs": []
    },
    {
      "cell_type": "code",
      "metadata": {
        "id": "VB8Z78ghg4nM"
      },
      "source": [
        "# creating a tokenizer instance - this time with a correct number of words\n",
        "tokenizer = Tokenizer(num_words=vocab_size)\n",
        "# fitting it to the train set\n",
        "tokenizer.fit_on_texts(titles_for_embedding)"
      ],
      "execution_count": 133,
      "outputs": []
    },
    {
      "cell_type": "code",
      "metadata": {
        "id": "33LLHRuWhOxc",
        "colab": {
          "base_uri": "https://localhost:8080/"
        },
        "outputId": "d801848f-23f3-4fdd-ad75-8f6f69c84bd3"
      },
      "source": [
        "# initiating a word2vec model\n",
        "w2v_model = gensim.models.word2vec.Word2Vec(size=100, window = 5, min_count = 1, workers = 4)\n",
        "# creating a list of all words\n",
        "documents = [_title.split() for _title in embed.titles]\n",
        "#  using the list of all words as vocabulary\n",
        "w2v_model.build_vocab(documents)\n",
        "# assigning all the unique words to a new variable - words\n",
        "words = w2v_model.wv.vocab.keys()\n",
        "# creating a new variable vocab_size that's the number of all the used words\n",
        "vocab_size = len(words)\n",
        "# training the model based on the list of all the words\n",
        "w2v_model.train(documents, total_examples=len(documents), epochs=16)\n",
        "# checking the most similar words to industry\n",
        "# it seems to work\n",
        "w2v_model.most_similar(\"sector\")"
      ],
      "execution_count": 134,
      "outputs": [
        {
          "output_type": "execute_result",
          "data": {
            "text/plain": [
              "[('stocks', 0.7239336371421814),\n",
              " ('industry', 0.652795672416687),\n",
              " ('multifunctional', 0.6390600800514221),\n",
              " ('distressed', 0.6307880878448486),\n",
              " ('chains', 0.6273372173309326),\n",
              " ('giants', 0.6201918721199036),\n",
              " ('averages', 0.6027710437774658),\n",
              " ('gems', 0.5989974141120911),\n",
              " ('sauce', 0.5970629453659058),\n",
              " ('players', 0.5957308411598206)]"
            ]
          },
          "metadata": {
            "tags": []
          },
          "execution_count": 134
        }
      ]
    },
    {
      "cell_type": "code",
      "metadata": {
        "id": "tl6A5Ctyheyc"
      },
      "source": [
        "# creating a matrix filled with 0\n",
        "embedding_matrix = np.zeros((vocab_size, 100))\n",
        "# iterating over the words in the previously used tokenizer\n",
        "for word, i in tokenizer.word_index.items():\n",
        "# checking if a given word appears in the model\n",
        "  if word in w2v_model.wv:\n",
        "# filling the matrix with the word vectors\n",
        "    embedding_matrix[i] = w2v_model.wv[word]"
      ],
      "execution_count": 135,
      "outputs": []
    },
    {
      "cell_type": "code",
      "metadata": {
        "id": "rtFjq4uRhhmH"
      },
      "source": [
        "# creating a non-trainable embedding layer using the embedding matrix\n",
        "embedding_layer = layers.Embedding(vocab_size, 100, weights=[embedding_matrix], input_length=60, trainable=False)"
      ],
      "execution_count": 136,
      "outputs": []
    },
    {
      "cell_type": "markdown",
      "metadata": {
        "id": "dez5UTPuNOhz"
      },
      "source": [
        "## 1.7 Passing the new data through the embedding layer"
      ]
    },
    {
      "cell_type": "code",
      "metadata": {
        "id": "aQFdSGhGNXrV"
      },
      "source": [
        "alxn_title_by_date = {\"date\":[], \"titles\":[]}\r\n",
        "for date in alxn_art[\"date\"]:\r\n",
        "  alxn_title_by_date[\"titles\"].append(\" \".join(alxn_art[alxn_art[\"date\"]==date][\"title\"]))\r\n",
        "  alxn_title_by_date[\"date\"].append(date)"
      ],
      "execution_count": 137,
      "outputs": []
    },
    {
      "cell_type": "code",
      "metadata": {
        "colab": {
          "base_uri": "https://localhost:8080/",
          "height": 0
        },
        "id": "DaVZts8vRek0",
        "outputId": "e818335a-5597-4aed-a4f5-f004318780e7"
      },
      "source": [
        "alxn_title_by_date = pd.DataFrame(alxn_title_by_date)\r\n",
        "alxn_title_by_date.drop_duplicates(inplace = True)\r\n",
        "alxn_title_by_date.reset_index(inplace = True)\r\n",
        "alxn_title_by_date.head()"
      ],
      "execution_count": 138,
      "outputs": [
        {
          "output_type": "execute_result",
          "data": {
            "text/html": [
              "<div>\n",
              "<style scoped>\n",
              "    .dataframe tbody tr th:only-of-type {\n",
              "        vertical-align: middle;\n",
              "    }\n",
              "\n",
              "    .dataframe tbody tr th {\n",
              "        vertical-align: top;\n",
              "    }\n",
              "\n",
              "    .dataframe thead th {\n",
              "        text-align: right;\n",
              "    }\n",
              "</style>\n",
              "<table border=\"1\" class=\"dataframe\">\n",
              "  <thead>\n",
              "    <tr style=\"text-align: right;\">\n",
              "      <th></th>\n",
              "      <th>index</th>\n",
              "      <th>date</th>\n",
              "      <th>titles</th>\n",
              "    </tr>\n",
              "  </thead>\n",
              "  <tbody>\n",
              "    <tr>\n",
              "      <th>0</th>\n",
              "      <td>0</td>\n",
              "      <td>2020-12-23</td>\n",
              "      <td>CVS Walgreens Hiring To Help With Vaccine Dist...</td>\n",
              "    </tr>\n",
              "    <tr>\n",
              "      <th>1</th>\n",
              "      <td>1</td>\n",
              "      <td>2020-12-22</td>\n",
              "      <td>FDA approves Covid vaccine emergency use reach...</td>\n",
              "    </tr>\n",
              "    <tr>\n",
              "      <th>2</th>\n",
              "      <td>3</td>\n",
              "      <td>2020-12-21</td>\n",
              "      <td>Daniel Bazarko Net worth insider trading 3 Bio...</td>\n",
              "    </tr>\n",
              "    <tr>\n",
              "      <th>3</th>\n",
              "      <td>9</td>\n",
              "      <td>2020-12-20</td>\n",
              "      <td>Media Predicting crowd reaction news impact in...</td>\n",
              "    </tr>\n",
              "    <tr>\n",
              "      <th>4</th>\n",
              "      <td>10</td>\n",
              "      <td>2020-12-19</td>\n",
              "      <td>ALXN Open Interest Trends Alexion Pharmaceutic...</td>\n",
              "    </tr>\n",
              "  </tbody>\n",
              "</table>\n",
              "</div>"
            ],
            "text/plain": [
              "   index       date                                             titles\n",
              "0      0 2020-12-23  CVS Walgreens Hiring To Help With Vaccine Dist...\n",
              "1      1 2020-12-22  FDA approves Covid vaccine emergency use reach...\n",
              "2      3 2020-12-21  Daniel Bazarko Net worth insider trading 3 Bio...\n",
              "3      9 2020-12-20  Media Predicting crowd reaction news impact in...\n",
              "4     10 2020-12-19  ALXN Open Interest Trends Alexion Pharmaceutic..."
            ]
          },
          "metadata": {
            "tags": []
          },
          "execution_count": 138
        }
      ]
    },
    {
      "cell_type": "code",
      "metadata": {
        "id": "QRLh3wDdANs-"
      },
      "source": [
        "# FOR APPLYING IT TO THE DATASET\r\n",
        "# creating a jpm_titles list from the headlines\r\n",
        "alxn_titles = alxn_title_by_date.titles\r\n",
        "# tokenizing it\r\n",
        "alxn_titles = tokenizer.texts_to_sequences(alxn_titles)\r\n",
        "# padding it to be 60, like the previous titles\r\n",
        "alxn_titles =  keras.preprocessing.sequence.pad_sequences(alxn_titles, maxlen=60)\r\n",
        "alxn_titles_embed = embedding_layer(alxn_titles)"
      ],
      "execution_count": 139,
      "outputs": []
    },
    {
      "cell_type": "markdown",
      "metadata": {
        "id": "TlLhjRt8V6vT"
      },
      "source": [
        "## 1.8 Preparing the stock data"
      ]
    },
    {
      "cell_type": "code",
      "metadata": {
        "colab": {
          "base_uri": "https://localhost:8080/",
          "height": 0
        },
        "id": "96hujXaCV_Op",
        "outputId": "176c98d3-4d77-4878-fa41-274d92d149fd"
      },
      "source": [
        "yf_df = pd.read_csv(\"https://raw.githubusercontent.com/AnnaBujniewicz/semester_project/main/data/yf_chosen_comp.csv\")\r\n",
        "yf_df.head()"
      ],
      "execution_count": 140,
      "outputs": [
        {
          "output_type": "execute_result",
          "data": {
            "text/html": [
              "<div>\n",
              "<style scoped>\n",
              "    .dataframe tbody tr th:only-of-type {\n",
              "        vertical-align: middle;\n",
              "    }\n",
              "\n",
              "    .dataframe tbody tr th {\n",
              "        vertical-align: top;\n",
              "    }\n",
              "\n",
              "    .dataframe thead th {\n",
              "        text-align: right;\n",
              "    }\n",
              "</style>\n",
              "<table border=\"1\" class=\"dataframe\">\n",
              "  <thead>\n",
              "    <tr style=\"text-align: right;\">\n",
              "      <th></th>\n",
              "      <th>date</th>\n",
              "      <th>TSLA</th>\n",
              "      <th>GOOGL</th>\n",
              "      <th>ALXN</th>\n",
              "      <th>AMZN</th>\n",
              "    </tr>\n",
              "  </thead>\n",
              "  <tbody>\n",
              "    <tr>\n",
              "      <th>0</th>\n",
              "      <td>2019-01-02</td>\n",
              "      <td>62.023998</td>\n",
              "      <td>1054.680054</td>\n",
              "      <td>98.050003</td>\n",
              "      <td>1539.130005</td>\n",
              "    </tr>\n",
              "    <tr>\n",
              "      <th>1</th>\n",
              "      <td>2019-01-03</td>\n",
              "      <td>60.071999</td>\n",
              "      <td>1025.469971</td>\n",
              "      <td>100.209999</td>\n",
              "      <td>1500.280029</td>\n",
              "    </tr>\n",
              "    <tr>\n",
              "      <th>2</th>\n",
              "      <td>2019-01-04</td>\n",
              "      <td>63.537998</td>\n",
              "      <td>1078.069946</td>\n",
              "      <td>106.000000</td>\n",
              "      <td>1575.390015</td>\n",
              "    </tr>\n",
              "    <tr>\n",
              "      <th>3</th>\n",
              "      <td>2019-01-07</td>\n",
              "      <td>66.991997</td>\n",
              "      <td>1075.920044</td>\n",
              "      <td>107.940002</td>\n",
              "      <td>1629.510010</td>\n",
              "    </tr>\n",
              "    <tr>\n",
              "      <th>4</th>\n",
              "      <td>2019-01-08</td>\n",
              "      <td>67.070000</td>\n",
              "      <td>1085.369995</td>\n",
              "      <td>108.610001</td>\n",
              "      <td>1656.579956</td>\n",
              "    </tr>\n",
              "  </tbody>\n",
              "</table>\n",
              "</div>"
            ],
            "text/plain": [
              "         date       TSLA        GOOGL        ALXN         AMZN\n",
              "0  2019-01-02  62.023998  1054.680054   98.050003  1539.130005\n",
              "1  2019-01-03  60.071999  1025.469971  100.209999  1500.280029\n",
              "2  2019-01-04  63.537998  1078.069946  106.000000  1575.390015\n",
              "3  2019-01-07  66.991997  1075.920044  107.940002  1629.510010\n",
              "4  2019-01-08  67.070000  1085.369995  108.610001  1656.579956"
            ]
          },
          "metadata": {
            "tags": []
          },
          "execution_count": 140
        }
      ]
    },
    {
      "cell_type": "code",
      "metadata": {
        "id": "hnR5E6eXWYcE",
        "colab": {
          "base_uri": "https://localhost:8080/",
          "height": 0
        },
        "outputId": "2ea3717a-e496-458c-d660-fd23b27e80d1"
      },
      "source": [
        "yf_df.set_index(\"date\", inplace = True)\r\n",
        "yf_df = yf_df.loc[:,[\"ALXN\"]]\r\n",
        "\r\n",
        "scaler = MinMaxScaler(feature_range=(0, 1))\r\n",
        "# scaling the close column\r\n",
        "yf_df['ALXN'] = scaler.fit_transform(yf_df['ALXN'].values.reshape(-1,1))\r\n",
        "\r\n",
        "yf_df['ALXN-1'] = yf_df['ALXN']\r\n",
        "# shifting the column 25 days back (so roughly a month as we exclude weekends)\r\n",
        "yf_df['ALXN-1'] = yf_df['ALXN-1'].shift(1)\r\n",
        "\r\n",
        "yf_df.dropna(inplace = True)\r\n",
        "yf_df.head()"
      ],
      "execution_count": 141,
      "outputs": [
        {
          "output_type": "execute_result",
          "data": {
            "text/html": [
              "<div>\n",
              "<style scoped>\n",
              "    .dataframe tbody tr th:only-of-type {\n",
              "        vertical-align: middle;\n",
              "    }\n",
              "\n",
              "    .dataframe tbody tr th {\n",
              "        vertical-align: top;\n",
              "    }\n",
              "\n",
              "    .dataframe thead th {\n",
              "        text-align: right;\n",
              "    }\n",
              "</style>\n",
              "<table border=\"1\" class=\"dataframe\">\n",
              "  <thead>\n",
              "    <tr style=\"text-align: right;\">\n",
              "      <th></th>\n",
              "      <th>ALXN</th>\n",
              "      <th>ALXN-1</th>\n",
              "    </tr>\n",
              "    <tr>\n",
              "      <th>date</th>\n",
              "      <th></th>\n",
              "      <th></th>\n",
              "    </tr>\n",
              "  </thead>\n",
              "  <tbody>\n",
              "    <tr>\n",
              "      <th>2019-01-03</th>\n",
              "      <td>0.374962</td>\n",
              "      <td>0.342105</td>\n",
              "    </tr>\n",
              "    <tr>\n",
              "      <th>2019-01-04</th>\n",
              "      <td>0.463036</td>\n",
              "      <td>0.374962</td>\n",
              "    </tr>\n",
              "    <tr>\n",
              "      <th>2019-01-07</th>\n",
              "      <td>0.492546</td>\n",
              "      <td>0.463036</td>\n",
              "    </tr>\n",
              "    <tr>\n",
              "      <th>2019-01-08</th>\n",
              "      <td>0.502738</td>\n",
              "      <td>0.492546</td>\n",
              "    </tr>\n",
              "    <tr>\n",
              "      <th>2019-01-09</th>\n",
              "      <td>0.523273</td>\n",
              "      <td>0.502738</td>\n",
              "    </tr>\n",
              "  </tbody>\n",
              "</table>\n",
              "</div>"
            ],
            "text/plain": [
              "                ALXN    ALXN-1\n",
              "date                          \n",
              "2019-01-03  0.374962  0.342105\n",
              "2019-01-04  0.463036  0.374962\n",
              "2019-01-07  0.492546  0.463036\n",
              "2019-01-08  0.502738  0.492546\n",
              "2019-01-09  0.523273  0.502738"
            ]
          },
          "metadata": {
            "tags": []
          },
          "execution_count": 141
        }
      ]
    },
    {
      "cell_type": "code",
      "metadata": {
        "colab": {
          "base_uri": "https://localhost:8080/",
          "height": 0
        },
        "id": "caw2kwY4ZQYg",
        "outputId": "17dbc271-0b49-45fd-ac8a-a5395618df50"
      },
      "source": [
        "data_with_sent = yf_df.merge(alxn_sent, left_index = True, right_index=True)\r\n",
        "data_with_sent.head()"
      ],
      "execution_count": 142,
      "outputs": [
        {
          "output_type": "execute_result",
          "data": {
            "text/html": [
              "<div>\n",
              "<style scoped>\n",
              "    .dataframe tbody tr th:only-of-type {\n",
              "        vertical-align: middle;\n",
              "    }\n",
              "\n",
              "    .dataframe tbody tr th {\n",
              "        vertical-align: top;\n",
              "    }\n",
              "\n",
              "    .dataframe thead th {\n",
              "        text-align: right;\n",
              "    }\n",
              "</style>\n",
              "<table border=\"1\" class=\"dataframe\">\n",
              "  <thead>\n",
              "    <tr style=\"text-align: right;\">\n",
              "      <th></th>\n",
              "      <th>ALXN</th>\n",
              "      <th>ALXN-1</th>\n",
              "      <th>negative</th>\n",
              "      <th>neutral</th>\n",
              "      <th>positive</th>\n",
              "    </tr>\n",
              "    <tr>\n",
              "      <th>date</th>\n",
              "      <th></th>\n",
              "      <th></th>\n",
              "      <th></th>\n",
              "      <th></th>\n",
              "      <th></th>\n",
              "    </tr>\n",
              "  </thead>\n",
              "  <tbody>\n",
              "    <tr>\n",
              "      <th>2019-01-03</th>\n",
              "      <td>0.374962</td>\n",
              "      <td>0.342105</td>\n",
              "      <td>0.001157</td>\n",
              "      <td>2.013264</td>\n",
              "      <td>1.985579</td>\n",
              "    </tr>\n",
              "    <tr>\n",
              "      <th>2019-01-07</th>\n",
              "      <td>0.492546</td>\n",
              "      <td>0.463036</td>\n",
              "      <td>0.004726</td>\n",
              "      <td>0.918281</td>\n",
              "      <td>0.076993</td>\n",
              "    </tr>\n",
              "    <tr>\n",
              "      <th>2019-01-08</th>\n",
              "      <td>0.502738</td>\n",
              "      <td>0.492546</td>\n",
              "      <td>0.000255</td>\n",
              "      <td>0.011155</td>\n",
              "      <td>0.988590</td>\n",
              "    </tr>\n",
              "    <tr>\n",
              "      <th>2019-01-09</th>\n",
              "      <td>0.523273</td>\n",
              "      <td>0.502738</td>\n",
              "      <td>0.000777</td>\n",
              "      <td>2.018294</td>\n",
              "      <td>0.980929</td>\n",
              "    </tr>\n",
              "    <tr>\n",
              "      <th>2019-01-10</th>\n",
              "      <td>0.538029</td>\n",
              "      <td>0.523273</td>\n",
              "      <td>0.008589</td>\n",
              "      <td>1.461435</td>\n",
              "      <td>0.529976</td>\n",
              "    </tr>\n",
              "  </tbody>\n",
              "</table>\n",
              "</div>"
            ],
            "text/plain": [
              "                ALXN    ALXN-1  negative   neutral  positive\n",
              "date                                                        \n",
              "2019-01-03  0.374962  0.342105  0.001157  2.013264  1.985579\n",
              "2019-01-07  0.492546  0.463036  0.004726  0.918281  0.076993\n",
              "2019-01-08  0.502738  0.492546  0.000255  0.011155  0.988590\n",
              "2019-01-09  0.523273  0.502738  0.000777  2.018294  0.980929\n",
              "2019-01-10  0.538029  0.523273  0.008589  1.461435  0.529976"
            ]
          },
          "metadata": {
            "tags": []
          },
          "execution_count": 142
        }
      ]
    },
    {
      "cell_type": "code",
      "metadata": {
        "id": "Zanodx2TaNah"
      },
      "source": [
        "X_train_sent = data_with_sent.iloc[:,1:][:int(len(data_with_sent[\"ALXN\"])*0.8)]\r\n",
        "X_test_sent = data_with_sent.iloc[:,1:][int(len(data_with_sent[\"ALXN\"])*0.8):]\r\n",
        "y_train_sent = data_with_sent[\"ALXN\"][:int(len(data_with_sent[\"ALXN\"])*0.8)]\r\n",
        "y_test_sent = data_with_sent[\"ALXN\"][int(len(data_with_sent[\"ALXN\"])*0.8):]"
      ],
      "execution_count": 143,
      "outputs": []
    },
    {
      "cell_type": "code",
      "metadata": {
        "id": "_w7-ua1vZgbF"
      },
      "source": [
        "X_train_sent = X_train_sent.values.reshape(-1,4)\r\n",
        "X_test_sent = X_test_sent.values.reshape(-1,4)\r\n",
        "y_train_sent = y_train_sent.values.reshape(-1,1)\r\n",
        "X_train_sent = np.reshape(X_train_sent, (X_train_sent.shape[0],1,4))\r\n",
        "X_test_sent = np.reshape(X_test_sent, (X_test_sent.shape[0],1,4))"
      ],
      "execution_count": 144,
      "outputs": []
    },
    {
      "cell_type": "code",
      "metadata": {
        "id": "3YBjaPjId8px"
      },
      "source": [
        "# DATA WITH TITLES"
      ],
      "execution_count": 145,
      "outputs": []
    },
    {
      "cell_type": "code",
      "metadata": {
        "id": "FYbdzruAeGaC",
        "colab": {
          "base_uri": "https://localhost:8080/"
        },
        "outputId": "83497e30-65b1-4b21-fca5-0f712d4dd219"
      },
      "source": [
        "alxn_title_by_date.set_index(\"date\", inplace = True)\r\n",
        "check_for_na = yf_df.merge(alxn_title_by_date, left_index = True, right_index=True)\r\n",
        "check_for_na.isna().sum()"
      ],
      "execution_count": 146,
      "outputs": [
        {
          "output_type": "execute_result",
          "data": {
            "text/plain": [
              "ALXN      0\n",
              "ALXN-1    0\n",
              "index     0\n",
              "titles    0\n",
              "dtype: int64"
            ]
          },
          "metadata": {
            "tags": []
          },
          "execution_count": 146
        }
      ]
    },
    {
      "cell_type": "code",
      "metadata": {
        "colab": {
          "base_uri": "https://localhost:8080/",
          "height": 0
        },
        "id": "i7oNx5Wtd56m",
        "outputId": "c01c9a5c-d856-4dff-ee7d-cb747f257d2b"
      },
      "source": [
        "yf_df"
      ],
      "execution_count": 147,
      "outputs": [
        {
          "output_type": "execute_result",
          "data": {
            "text/html": [
              "<div>\n",
              "<style scoped>\n",
              "    .dataframe tbody tr th:only-of-type {\n",
              "        vertical-align: middle;\n",
              "    }\n",
              "\n",
              "    .dataframe tbody tr th {\n",
              "        vertical-align: top;\n",
              "    }\n",
              "\n",
              "    .dataframe thead th {\n",
              "        text-align: right;\n",
              "    }\n",
              "</style>\n",
              "<table border=\"1\" class=\"dataframe\">\n",
              "  <thead>\n",
              "    <tr style=\"text-align: right;\">\n",
              "      <th></th>\n",
              "      <th>ALXN</th>\n",
              "      <th>ALXN-1</th>\n",
              "    </tr>\n",
              "    <tr>\n",
              "      <th>date</th>\n",
              "      <th></th>\n",
              "      <th></th>\n",
              "    </tr>\n",
              "  </thead>\n",
              "  <tbody>\n",
              "    <tr>\n",
              "      <th>2019-01-03</th>\n",
              "      <td>0.374962</td>\n",
              "      <td>0.342105</td>\n",
              "    </tr>\n",
              "    <tr>\n",
              "      <th>2019-01-04</th>\n",
              "      <td>0.463036</td>\n",
              "      <td>0.374962</td>\n",
              "    </tr>\n",
              "    <tr>\n",
              "      <th>2019-01-07</th>\n",
              "      <td>0.492546</td>\n",
              "      <td>0.463036</td>\n",
              "    </tr>\n",
              "    <tr>\n",
              "      <th>2019-01-08</th>\n",
              "      <td>0.502738</td>\n",
              "      <td>0.492546</td>\n",
              "    </tr>\n",
              "    <tr>\n",
              "      <th>2019-01-09</th>\n",
              "      <td>0.523273</td>\n",
              "      <td>0.502738</td>\n",
              "    </tr>\n",
              "    <tr>\n",
              "      <th>...</th>\n",
              "      <td>...</td>\n",
              "      <td>...</td>\n",
              "    </tr>\n",
              "    <tr>\n",
              "      <th>2020-11-20</th>\n",
              "      <td>0.696988</td>\n",
              "      <td>0.707180</td>\n",
              "    </tr>\n",
              "    <tr>\n",
              "      <th>2020-11-23</th>\n",
              "      <td>0.715698</td>\n",
              "      <td>0.696988</td>\n",
              "    </tr>\n",
              "    <tr>\n",
              "      <th>2020-11-24</th>\n",
              "      <td>0.723304</td>\n",
              "      <td>0.715698</td>\n",
              "    </tr>\n",
              "    <tr>\n",
              "      <th>2020-11-25</th>\n",
              "      <td>0.720566</td>\n",
              "      <td>0.723304</td>\n",
              "    </tr>\n",
              "    <tr>\n",
              "      <th>2020-11-27</th>\n",
              "      <td>0.734256</td>\n",
              "      <td>0.720566</td>\n",
              "    </tr>\n",
              "  </tbody>\n",
              "</table>\n",
              "<p>481 rows × 2 columns</p>\n",
              "</div>"
            ],
            "text/plain": [
              "                ALXN    ALXN-1\n",
              "date                          \n",
              "2019-01-03  0.374962  0.342105\n",
              "2019-01-04  0.463036  0.374962\n",
              "2019-01-07  0.492546  0.463036\n",
              "2019-01-08  0.502738  0.492546\n",
              "2019-01-09  0.523273  0.502738\n",
              "...              ...       ...\n",
              "2020-11-20  0.696988  0.707180\n",
              "2020-11-23  0.715698  0.696988\n",
              "2020-11-24  0.723304  0.715698\n",
              "2020-11-25  0.720566  0.723304\n",
              "2020-11-27  0.734256  0.720566\n",
              "\n",
              "[481 rows x 2 columns]"
            ]
          },
          "metadata": {
            "tags": []
          },
          "execution_count": 147
        }
      ]
    },
    {
      "cell_type": "code",
      "metadata": {
        "colab": {
          "base_uri": "https://localhost:8080/",
          "height": 0
        },
        "id": "CzD4njA9e1Mq",
        "outputId": "b3a1be46-e5fe-4b22-a087-482e6a7cd762"
      },
      "source": [
        "alxn_title_by_date"
      ],
      "execution_count": 148,
      "outputs": [
        {
          "output_type": "execute_result",
          "data": {
            "text/html": [
              "<div>\n",
              "<style scoped>\n",
              "    .dataframe tbody tr th:only-of-type {\n",
              "        vertical-align: middle;\n",
              "    }\n",
              "\n",
              "    .dataframe tbody tr th {\n",
              "        vertical-align: top;\n",
              "    }\n",
              "\n",
              "    .dataframe thead th {\n",
              "        text-align: right;\n",
              "    }\n",
              "</style>\n",
              "<table border=\"1\" class=\"dataframe\">\n",
              "  <thead>\n",
              "    <tr style=\"text-align: right;\">\n",
              "      <th></th>\n",
              "      <th>index</th>\n",
              "      <th>titles</th>\n",
              "    </tr>\n",
              "    <tr>\n",
              "      <th>date</th>\n",
              "      <th></th>\n",
              "      <th></th>\n",
              "    </tr>\n",
              "  </thead>\n",
              "  <tbody>\n",
              "    <tr>\n",
              "      <th>2020-12-23</th>\n",
              "      <td>0</td>\n",
              "      <td>CVS Walgreens Hiring To Help With Vaccine Dist...</td>\n",
              "    </tr>\n",
              "    <tr>\n",
              "      <th>2020-12-22</th>\n",
              "      <td>1</td>\n",
              "      <td>FDA approves Covid vaccine emergency use reach...</td>\n",
              "    </tr>\n",
              "    <tr>\n",
              "      <th>2020-12-21</th>\n",
              "      <td>3</td>\n",
              "      <td>Daniel Bazarko Net worth insider trading 3 Bio...</td>\n",
              "    </tr>\n",
              "    <tr>\n",
              "      <th>2020-12-20</th>\n",
              "      <td>9</td>\n",
              "      <td>Media Predicting crowd reaction news impact in...</td>\n",
              "    </tr>\n",
              "    <tr>\n",
              "      <th>2020-12-19</th>\n",
              "      <td>10</td>\n",
              "      <td>ALXN Open Interest Trends Alexion Pharmaceutic...</td>\n",
              "    </tr>\n",
              "    <tr>\n",
              "      <th>...</th>\n",
              "      <td>...</td>\n",
              "      <td>...</td>\n",
              "    </tr>\n",
              "    <tr>\n",
              "      <th>2019-01-08</th>\n",
              "      <td>1084</td>\n",
              "      <td>Bank Of America Confirmation Of New Non Toxic ...</td>\n",
              "    </tr>\n",
              "    <tr>\n",
              "      <th>2019-01-07</th>\n",
              "      <td>1085</td>\n",
              "      <td>Divorce Lawyer Memphis Christina Mobile friendly</td>\n",
              "    </tr>\n",
              "    <tr>\n",
              "      <th>2019-01-06</th>\n",
              "      <td>1086</td>\n",
              "      <td>Green Globe International Will Confirm Buyout ...</td>\n",
              "    </tr>\n",
              "    <tr>\n",
              "      <th>2019-01-05</th>\n",
              "      <td>1087</td>\n",
              "      <td>Biogen seen potential target Celgene buyout</td>\n",
              "    </tr>\n",
              "    <tr>\n",
              "      <th>2019-01-03</th>\n",
              "      <td>1088</td>\n",
              "      <td>Piper see Biogen potential target Celgene buyo...</td>\n",
              "    </tr>\n",
              "  </tbody>\n",
              "</table>\n",
              "<p>440 rows × 2 columns</p>\n",
              "</div>"
            ],
            "text/plain": [
              "            index                                             titles\n",
              "date                                                                \n",
              "2020-12-23      0  CVS Walgreens Hiring To Help With Vaccine Dist...\n",
              "2020-12-22      1  FDA approves Covid vaccine emergency use reach...\n",
              "2020-12-21      3  Daniel Bazarko Net worth insider trading 3 Bio...\n",
              "2020-12-20      9  Media Predicting crowd reaction news impact in...\n",
              "2020-12-19     10  ALXN Open Interest Trends Alexion Pharmaceutic...\n",
              "...           ...                                                ...\n",
              "2019-01-08   1084  Bank Of America Confirmation Of New Non Toxic ...\n",
              "2019-01-07   1085   Divorce Lawyer Memphis Christina Mobile friendly\n",
              "2019-01-06   1086  Green Globe International Will Confirm Buyout ...\n",
              "2019-01-05   1087        Biogen seen potential target Celgene buyout\n",
              "2019-01-03   1088  Piper see Biogen potential target Celgene buyo...\n",
              "\n",
              "[440 rows x 2 columns]"
            ]
          },
          "metadata": {
            "tags": []
          },
          "execution_count": 148
        }
      ]
    },
    {
      "cell_type": "code",
      "metadata": {
        "colab": {
          "base_uri": "https://localhost:8080/"
        },
        "id": "TPfanGMlerE1",
        "outputId": "4354779f-34de-4dd8-af84-2f7dde09f87d"
      },
      "source": [
        "alxn_titles_embed"
      ],
      "execution_count": 149,
      "outputs": [
        {
          "output_type": "execute_result",
          "data": {
            "text/plain": [
              "<tf.Tensor: shape=(440, 60, 100), dtype=float32, numpy=\n",
              "array([[[ 0.        ,  0.        ,  0.        , ...,  0.        ,\n",
              "          0.        ,  0.        ],\n",
              "        [ 0.        ,  0.        ,  0.        , ...,  0.        ,\n",
              "          0.        ,  0.        ],\n",
              "        [ 0.        ,  0.        ,  0.        , ...,  0.        ,\n",
              "          0.        ,  0.        ],\n",
              "        ...,\n",
              "        [ 2.8622167 , -4.9528046 ,  2.1780996 , ...,  6.176434  ,\n",
              "         -1.6888262 , -2.9572563 ],\n",
              "        [ 1.4367142 , -0.50836235,  1.1205597 , ...,  0.4424548 ,\n",
              "         -1.5639969 , -1.2802457 ],\n",
              "        [ 8.527054  ,  1.7555201 , -3.633466  , ..., -1.0185556 ,\n",
              "          0.3739737 , -2.9015946 ]],\n",
              "\n",
              "       [[ 0.        ,  0.        ,  0.        , ...,  0.        ,\n",
              "          0.        ,  0.        ],\n",
              "        [ 0.        ,  0.        ,  0.        , ...,  0.        ,\n",
              "          0.        ,  0.        ],\n",
              "        [ 0.        ,  0.        ,  0.        , ...,  0.        ,\n",
              "          0.        ,  0.        ],\n",
              "        ...,\n",
              "        [-0.90958184,  2.5342238 ,  0.02473385, ...,  1.568502  ,\n",
              "         -1.7182254 , -1.9681152 ],\n",
              "        [ 0.6054705 , -1.6344005 , -1.7746775 , ...,  0.9771598 ,\n",
              "         -1.5864673 ,  0.3866172 ],\n",
              "        [ 3.4422653 , -4.1297393 , -1.3978304 , ...,  0.04843177,\n",
              "         -1.5197868 , -1.0201288 ]],\n",
              "\n",
              "       [[ 0.        ,  0.        ,  0.        , ...,  0.        ,\n",
              "          0.        ,  0.        ],\n",
              "        [ 0.        ,  0.        ,  0.        , ...,  0.        ,\n",
              "          0.        ,  0.        ],\n",
              "        [ 0.        ,  0.        ,  0.        , ...,  0.        ,\n",
              "          0.        ,  0.        ],\n",
              "        ...,\n",
              "        [ 0.7141876 ,  0.33439165, -0.8760843 , ...,  0.2015953 ,\n",
              "         -1.494835  , -1.4030023 ],\n",
              "        [ 0.        ,  0.        ,  0.        , ...,  0.        ,\n",
              "          0.        ,  0.        ],\n",
              "        [ 0.        ,  0.        ,  0.        , ...,  0.        ,\n",
              "          0.        ,  0.        ]],\n",
              "\n",
              "       ...,\n",
              "\n",
              "       [[ 0.        ,  0.        ,  0.        , ...,  0.        ,\n",
              "          0.        ,  0.        ],\n",
              "        [ 0.        ,  0.        ,  0.        , ...,  0.        ,\n",
              "          0.        ,  0.        ],\n",
              "        [ 0.        ,  0.        ,  0.        , ...,  0.        ,\n",
              "          0.        ,  0.        ],\n",
              "        ...,\n",
              "        [ 2.2893286 ,  0.04898143,  3.747474  , ...,  2.4780898 ,\n",
              "         -4.60752   , -4.15784   ],\n",
              "        [-0.90958184,  2.5342238 ,  0.02473385, ...,  1.568502  ,\n",
              "         -1.7182254 , -1.9681152 ],\n",
              "        [ 0.        ,  0.        ,  0.        , ...,  0.        ,\n",
              "          0.        ,  0.        ]],\n",
              "\n",
              "       [[ 0.        ,  0.        ,  0.        , ...,  0.        ,\n",
              "          0.        ,  0.        ],\n",
              "        [ 0.        ,  0.        ,  0.        , ...,  0.        ,\n",
              "          0.        ,  0.        ],\n",
              "        [ 0.        ,  0.        ,  0.        , ...,  0.        ,\n",
              "          0.        ,  0.        ],\n",
              "        ...,\n",
              "        [ 0.03218264, -0.47631297, -0.96330416, ...,  0.88106596,\n",
              "         -2.429054  , -1.1447201 ],\n",
              "        [ 0.        ,  0.        ,  0.        , ...,  0.        ,\n",
              "          0.        ,  0.        ],\n",
              "        [ 2.9374332 , -2.8695033 , -4.1139283 , ..., -1.1369207 ,\n",
              "         -0.70828485, -2.3636198 ]],\n",
              "\n",
              "       [[ 0.        ,  0.        ,  0.        , ...,  0.        ,\n",
              "          0.        ,  0.        ],\n",
              "        [ 0.        ,  0.        ,  0.        , ...,  0.        ,\n",
              "          0.        ,  0.        ],\n",
              "        [ 0.        ,  0.        ,  0.        , ...,  0.        ,\n",
              "          0.        ,  0.        ],\n",
              "        ...,\n",
              "        [ 2.1160734 ,  0.6548663 ,  3.0455654 , ...,  4.0832653 ,\n",
              "         -0.20113294,  1.1740265 ],\n",
              "        [-0.1888074 , -0.9770522 , -1.6961282 , ..., -0.04130115,\n",
              "         -0.72574806,  0.3171184 ],\n",
              "        [ 0.        ,  0.        ,  0.        , ...,  0.        ,\n",
              "          0.        ,  0.        ]]], dtype=float32)>"
            ]
          },
          "metadata": {
            "tags": []
          },
          "execution_count": 149
        }
      ]
    },
    {
      "cell_type": "code",
      "metadata": {
        "id": "d3Y4uEZ9YtkW"
      },
      "source": [
        "def join_stock_and_embed(stock, tensor):\r\n",
        "  assert len(tensor.shape) == 3, \"Tensor should be of 3 dimensions nothing more\"\r\n",
        "  size = [tensor.shape[-2], tensor.shape[-1]]\r\n",
        "  stock_tensor = tf.tile(stock, size)\r\n",
        "  new_tensor = tf.concat([tensor, tf.expand_dims(stock_tensor, axis=0)], 0)\r\n",
        "  return new_tensor\r\n"
      ],
      "execution_count": 150,
      "outputs": []
    },
    {
      "cell_type": "code",
      "metadata": {
        "colab": {
          "base_uri": "https://localhost:8080/"
        },
        "id": "JTp7TuVdc_cE",
        "outputId": "4f230966-e881-4d05-bb6a-a85e583a15ab"
      },
      "source": [
        "t1 = tf.random.uniform([100,100,20], minval=0, maxval=None, dtype=tf.dtypes.float32, seed=None, name=None)\r\n",
        "t2 = tf.random.uniform([1,1], minval=0, maxval=None, dtype=tf.dtypes.float32, seed=None, name=None)\r\n",
        "\r\n",
        "t3 = join_stock_and_embed(t2, t1)\r\n",
        "print(t1.shape, t2.shape, t3.shape)"
      ],
      "execution_count": 151,
      "outputs": [
        {
          "output_type": "stream",
          "text": [
            "(100, 100, 20) (1, 1) (101, 100, 20)\n"
          ],
          "name": "stdout"
        }
      ]
    },
    {
      "cell_type": "markdown",
      "metadata": {
        "id": "Re5JOrrJih-O"
      },
      "source": [
        "# 2 Neural network with sentiment analysis"
      ]
    },
    {
      "cell_type": "markdown",
      "metadata": {
        "id": "u5XUtUv1GQSJ"
      },
      "source": [
        "Scaling was not used for the new variables since they were already between 0 and 1. Additionally, the relation in between them is likely important to consider.\n"
      ]
    },
    {
      "cell_type": "code",
      "metadata": {
        "id": "9_sHqerzlY5l",
        "colab": {
          "base_uri": "https://localhost:8080/"
        },
        "outputId": "357b11f9-ddd0-4649-a668-f2ad79c4a213"
      },
      "source": [
        "# creating a sequential model\n",
        "model = Sequential()\n",
        "# adding the firstLSTM layer with 128 neurons, 0.2 dropout and recurrent dropout and return_sequences = True (to connect another LSTM layer)\n",
        "model.add(layers.LSTM(128, return_sequences=True, dropout=0.2, recurrent_dropout=0.2, input_shape = (1,4)))\n",
        "# adding another LSTM layer - this time 64 neurons and no returning sequences\n",
        "model.add(layers.LSTM(64, dropout=0.2, recurrent_dropout=0.2))\n",
        "# adding a dropout layer with 0.5 dropout rate\n",
        "model.add(layers.Dropout(0.5))\n",
        "# adding a dense layer with 128 neurons\n",
        "model.add(layers.Dense(128, activation = \"relu\"))\n",
        "# adding a dense layer with 64 neurons\n",
        "model.add(layers.Dense(64, activation = \"relu\"))\n",
        "# adding another dropout layer, this time just 0.2 dropout rate\n",
        "model.add(layers.Dropout(0.2))\n",
        "# adding the output layer with one neuron\n",
        "model.add(layers.Dense(1))"
      ],
      "execution_count": 152,
      "outputs": [
        {
          "output_type": "stream",
          "text": [
            "WARNING:tensorflow:Layer lstm will not use cuDNN kernel since it doesn't meet the cuDNN kernel criteria. It will use generic GPU kernel as fallback when running on GPU\n"
          ],
          "name": "stdout"
        },
        {
          "output_type": "stream",
          "text": [
            "WARNING:tensorflow:Layer lstm will not use cuDNN kernel since it doesn't meet the cuDNN kernel criteria. It will use generic GPU kernel as fallback when running on GPU\n"
          ],
          "name": "stderr"
        },
        {
          "output_type": "stream",
          "text": [
            "WARNING:tensorflow:Layer lstm_1 will not use cuDNN kernel since it doesn't meet the cuDNN kernel criteria. It will use generic GPU kernel as fallback when running on GPU\n"
          ],
          "name": "stdout"
        },
        {
          "output_type": "stream",
          "text": [
            "WARNING:tensorflow:Layer lstm_1 will not use cuDNN kernel since it doesn't meet the cuDNN kernel criteria. It will use generic GPU kernel as fallback when running on GPU\n"
          ],
          "name": "stderr"
        }
      ]
    },
    {
      "cell_type": "markdown",
      "metadata": {
        "id": "bQB6vKxERBWN"
      },
      "source": [
        "Upon testing it seemed that the same model architecture as for the first \n",
        "attempt (with the change of input shape) still seems to bring the best results in terms of performance."
      ]
    },
    {
      "cell_type": "code",
      "metadata": {
        "id": "litLCXp6leJA"
      },
      "source": [
        "# defining early stopping with the patience of 5 periods\n",
        "stop = EarlyStopping(monitor = \"loss\", patience = 5, mode = \"min\", restore_best_weights=True)\n",
        "# the same learning rate as for the first model - again caused by stability issues\n",
        "opt = optimizers.Adam(learning_rate=0.001)"
      ],
      "execution_count": 153,
      "outputs": []
    },
    {
      "cell_type": "code",
      "metadata": {
        "id": "65soyLFWl98-"
      },
      "source": [
        "# compiling the model\r\n",
        "model.compile(loss='mean_squared_error', optimizer=opt)"
      ],
      "execution_count": 154,
      "outputs": []
    },
    {
      "cell_type": "code",
      "metadata": {
        "id": "F6IQ7tUQl2oN",
        "colab": {
          "base_uri": "https://localhost:8080/"
        },
        "outputId": "3c7a09f3-4b25-4275-c533-a07d41bf66e2"
      },
      "source": [
        "# fitting the model to the data\r\n",
        "history = model.fit(X_train_sent, y_train_sent, epochs=50, batch_size=1, verbose=1, callbacks = [stop])"
      ],
      "execution_count": 155,
      "outputs": [
        {
          "output_type": "stream",
          "text": [
            "Epoch 1/50\n",
            "272/272 [==============================] - 4s 5ms/step - loss: 0.1018\n",
            "Epoch 2/50\n",
            "272/272 [==============================] - 2s 6ms/step - loss: 0.0505\n",
            "Epoch 3/50\n",
            "272/272 [==============================] - 1s 5ms/step - loss: 0.0375\n",
            "Epoch 4/50\n",
            "272/272 [==============================] - 2s 6ms/step - loss: 0.0362\n",
            "Epoch 5/50\n",
            "272/272 [==============================] - 2s 6ms/step - loss: 0.0325\n",
            "Epoch 6/50\n",
            "272/272 [==============================] - 2s 6ms/step - loss: 0.0299\n",
            "Epoch 7/50\n",
            "272/272 [==============================] - 2s 6ms/step - loss: 0.0319\n",
            "Epoch 8/50\n",
            "272/272 [==============================] - 2s 6ms/step - loss: 0.0246\n",
            "Epoch 9/50\n",
            "272/272 [==============================] - 2s 6ms/step - loss: 0.0224\n",
            "Epoch 10/50\n",
            "272/272 [==============================] - 1s 5ms/step - loss: 0.0191\n",
            "Epoch 11/50\n",
            "272/272 [==============================] - 1s 5ms/step - loss: 0.0165\n",
            "Epoch 12/50\n",
            "272/272 [==============================] - 1s 5ms/step - loss: 0.0248\n",
            "Epoch 13/50\n",
            "272/272 [==============================] - 1s 5ms/step - loss: 0.0185\n",
            "Epoch 14/50\n",
            "272/272 [==============================] - 2s 6ms/step - loss: 0.0161\n",
            "Epoch 15/50\n",
            "272/272 [==============================] - 2s 7ms/step - loss: 0.0239\n",
            "Epoch 16/50\n",
            "272/272 [==============================] - 2s 6ms/step - loss: 0.0212\n",
            "Epoch 17/50\n",
            "272/272 [==============================] - 2s 6ms/step - loss: 0.0230\n",
            "Epoch 18/50\n",
            "272/272 [==============================] - 2s 6ms/step - loss: 0.0143\n",
            "Epoch 19/50\n",
            "272/272 [==============================] - 1s 5ms/step - loss: 0.0226\n"
          ],
          "name": "stdout"
        }
      ]
    },
    {
      "cell_type": "code",
      "metadata": {
        "id": "QCPBY0K1rSxZ"
      },
      "source": [
        "# predicting the data\r\n",
        "y_pred = model.predict(X_test_sent)"
      ],
      "execution_count": 156,
      "outputs": []
    },
    {
      "cell_type": "code",
      "metadata": {
        "id": "uDcR5GIxrWK8"
      },
      "source": [
        "# filling a column with missing values\n",
        "data_with_sent[\"pred\"] = np.nan\n",
        "# filling the column with the predictions\n",
        "data_with_sent[\"pred\"][int(len(data_with_sent[\"ALXN\"])*0.8):] = np.array(y_pred).squeeze(1)"
      ],
      "execution_count": 157,
      "outputs": []
    },
    {
      "cell_type": "code",
      "metadata": {
        "id": "ELMoh6GIraHb",
        "colab": {
          "base_uri": "https://localhost:8080/",
          "height": 0
        },
        "outputId": "e4e27925-f41b-42a4-9cd5-381217615297"
      },
      "source": [
        "# plotting the predictions as an extension of the training data\n",
        "plt.figure(figsize=(12,8))\n",
        "plt.figure(figsize=(12,8))\n",
        "plt.xticks(rotation=45)\n",
        "plt.plot(data_with_sent.ALXN[:int(len(data_with_sent[\"ALXN\"])*0.8)])\n",
        "plt.plot(data_with_sent[\"pred\"][int(len(data_with_sent[\"ALXN\"])*0.8):])\n",
        "plt.legend(['Train','Predictions'], loc='upper_center')\n",
        "plt.show()"
      ],
      "execution_count": 158,
      "outputs": [
        {
          "output_type": "display_data",
          "data": {
            "text/plain": [
              "<Figure size 864x576 with 0 Axes>"
            ]
          },
          "metadata": {
            "tags": []
          }
        },
        {
          "output_type": "display_data",
          "data": {
            "image/png": "[encoded data removed]",
            "text/plain": [
              "<Figure size 864x576 with 1 Axes>"
            ]
          },
          "metadata": {
            "tags": [],
            "needs_background": "light"
          }
        }
      ]
    },
    {
      "cell_type": "code",
      "metadata": {
        "id": "Pd40IAqErdXU",
        "colab": {
          "base_uri": "https://localhost:8080/",
          "height": 0
        },
        "outputId": "abbd7acf-f1cc-4e92-c8fd-fb746f922654"
      },
      "source": [
        "# plotting the predictions against the test data\n",
        "plt.figure(figsize=(12,8))\n",
        "plt.figure(figsize=(12,8))\n",
        "plt.xticks(rotation=45)\n",
        "plt.plot(y_test_sent)\n",
        "plt.plot(data_with_sent[\"pred\"][int(len(data_with_sent[\"ALXN\"])*0.8):])\n",
        "plt.legend(['Test','Predictions'], loc='upper_center')\n",
        "plt.show()"
      ],
      "execution_count": 159,
      "outputs": [
        {
          "output_type": "display_data",
          "data": {
            "text/plain": [
              "<Figure size 864x576 with 0 Axes>"
            ]
          },
          "metadata": {
            "tags": []
          }
        },
        {
          "output_type": "display_data",
          "data": {
            "image/png": "[encoded data removed]",
            "text/plain": [
              "<Figure size 864x576 with 1 Axes>"
            ]
          },
          "metadata": {
            "tags": [],
            "needs_background": "light"
          }
        }
      ]
    },
    {
      "cell_type": "code",
      "metadata": {
        "id": "bh3xxYL0rit4",
        "colab": {
          "base_uri": "https://localhost:8080/"
        },
        "outputId": "cd1a3fc6-92b8-41c6-ad2c-8924ae18e35d"
      },
      "source": [
        "# checking the mean squared error\r\n",
        "np.sqrt(np.mean(data_with_sent[\"pred\"][int(len(data_with_sent[\"ALXN\"])*0.8):] - y_test_sent)**2)"
      ],
      "execution_count": 160,
      "outputs": [
        {
          "output_type": "execute_result",
          "data": {
            "text/plain": [
              "0.12835152237977676"
            ]
          },
          "metadata": {
            "tags": []
          },
          "execution_count": 160
        }
      ]
    },
    {
      "cell_type": "markdown",
      "metadata": {
        "id": "GA4mreLb2NMV"
      },
      "source": [
        "# 3 Neural network for the articles with title text"
      ]
    },
    {
      "cell_type": "code",
      "metadata": {
        "id": "2LFC1dmIdfJG"
      },
      "source": [
        "# creating a sequential model\r\n",
        "model = Sequential()\r\n",
        "# adding the firstLSTM layer with 128 neurons, 0.2 dropout and recurrent dropout and return_sequences = True (to connect another LSTM layer)\r\n",
        "model.add(layers.LSTM(128, return_sequences=True, dropout=0.2, recurrent_dropout=0.2, input_shape = (1,4)))\r\n",
        "# adding another LSTM layer - this time 64 neurons and no returning sequences\r\n",
        "model.add(layers.LSTM(64, dropout=0.2, recurrent_dropout=0.2))\r\n",
        "# adding a dropout layer with 0.5 dropout rate\r\n",
        "model.add(layers.Dropout(0.5))\r\n",
        "# adding a dense layer with 128 neurons\r\n",
        "model.add(layers.Dense(128, activation = \"relu\"))\r\n",
        "# adding a dense layer with 64 neurons\r\n",
        "model.add(layers.Dense(64, activation = \"relu\"))\r\n",
        "# adding another dropout layer, this time just 0.2 dropout rate\r\n",
        "model.add(layers.Dropout(0.2))\r\n",
        "# adding the output layer with one neuron\r\n",
        "model.add(layers.Dense(1))"
      ],
      "execution_count": null,
      "outputs": []
    },
    {
      "cell_type": "code",
      "metadata": {
        "id": "ZGiLZ9pmdhmO"
      },
      "source": [
        "# defining early stopping with the patience of 5 periods\r\n",
        "stop = EarlyStopping(monitor = \"loss\", patience = 5, mode = \"min\", restore_best_weights=True)\r\n",
        "# the same learning rate as for the first model - again caused by stability issues\r\n",
        "opt = optimizers.Adam(learning_rate=0.001)"
      ],
      "execution_count": null,
      "outputs": []
    },
    {
      "cell_type": "code",
      "metadata": {
        "id": "xe0Gs0lfdjey"
      },
      "source": [
        "# compiling the model\r\n",
        "model.compile(loss='mean_squared_error', optimizer=opt)"
      ],
      "execution_count": null,
      "outputs": []
    },
    {
      "cell_type": "code",
      "metadata": {
        "id": "HRJLSQdWdlaF"
      },
      "source": [
        "# fitting the model to the data\r\n",
        "history = model.fit(X_train_sent, y_train_sent, epochs=50, batch_size=1, verbose=1, callbacks = [stop])"
      ],
      "execution_count": null,
      "outputs": []
    },
    {
      "cell_type": "code",
      "metadata": {
        "id": "AlwGIUW9doK6"
      },
      "source": [
        "# predicting the data\r\n",
        "y_pred = model.predict(X_test_sent)"
      ],
      "execution_count": null,
      "outputs": []
    },
    {
      "cell_type": "code",
      "metadata": {
        "id": "Y4dgLpqJdqUR"
      },
      "source": [
        "# filling a column with missing values\r\n",
        "data_with_sent[\"pred\"] = np.nan\r\n",
        "# filling the column with the predictions\r\n",
        "data_with_sent[\"pred\"][int(len(data_with_sent[\"ALXN\"])*0.8):] = np.array(y_pred).squeeze(1)"
      ],
      "execution_count": null,
      "outputs": []
    },
    {
      "cell_type": "code",
      "metadata": {
        "id": "bDPyK1W_dszt"
      },
      "source": [
        "# plotting the predictions as an extension of the training data\r\n",
        "plt.figure(figsize=(12,8))\r\n",
        "plt.figure(figsize=(12,8))\r\n",
        "plt.xticks(rotation=45)\r\n",
        "plt.plot(data_with_sent.ALXN[:int(len(data_with_sent[\"ALXN\"])*0.8)])\r\n",
        "plt.plot(data_with_sent[\"pred\"][int(len(data_with_sent[\"ALXN\"])*0.8):])\r\n",
        "plt.legend(['Train','Predictions'], loc='upper_center')\r\n",
        "plt.show()"
      ],
      "execution_count": null,
      "outputs": []
    },
    {
      "cell_type": "code",
      "metadata": {
        "id": "6buWu2KWdurW"
      },
      "source": [
        "# plotting the predictions against the test data\r\n",
        "plt.figure(figsize=(12,8))\r\n",
        "plt.figure(figsize=(12,8))\r\n",
        "plt.xticks(rotation=45)\r\n",
        "plt.plot(y_test_sent)\r\n",
        "plt.plot(data_with_sent[\"pred\"][int(len(data_with_sent[\"ALXN\"])*0.8):])\r\n",
        "plt.legend(['Test','Predictions'], loc='upper_center')\r\n",
        "plt.show()"
      ],
      "execution_count": null,
      "outputs": []
    },
    {
      "cell_type": "code",
      "metadata": {
        "id": "t7DXmuundwT1"
      },
      "source": [
        "# checking the mean squared error\r\n",
        "np.sqrt(np.mean(data_with_sent[\"pred\"][int(len(data_with_sent[\"ALXN\"])*0.8):] - y_test_sent)**2)"
      ],
      "execution_count": null,
      "outputs": []
    }
  ]
}