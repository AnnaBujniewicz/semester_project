{
  "nbformat": 4,
  "nbformat_minor": 0,
  "metadata": {
    "colab": {
      "name": "ml models for stock data and titles",
      "provenance": [],
      "collapsed_sections": [
        "jKPWRpiWabWr",
        "h9y-AAhjVBck",
        "OIOj8MljjDAE",
        "AXx9sgKEt1Ky",
        "DQPNTcfqhJ_I",
        "TlLhjRt8V6vT",
        "Re5JOrrJih-O"
      ],
      "include_colab_link": true
    },
    "kernelspec": {
      "name": "python3",
      "display_name": "Python 3"
    },
    "accelerator": "GPU"
  },
  "cells": [
    {
      "cell_type": "markdown",
      "metadata": {
        "id": "view-in-github",
        "colab_type": "text"
      },
      "source": [
        "<a href=\"https://colab.research.google.com/github/AnnaBujniewicz/semester_project/blob/main/ml_models_for_stock_data_and_titles.ipynb\" target=\"_parent\"><img src=\"https://colab.research.google.com/assets/colab-badge.svg\" alt=\"Open In Colab\"/></a>"
      ]
    },
    {
      "cell_type": "markdown",
      "metadata": {
        "id": "LkC1bBzAyGLR"
      },
      "source": [
        "# Initial steps"
      ]
    },
    {
      "cell_type": "code",
      "metadata": {
        "id": "KJnH3qVStGda",
        "colab": {
          "base_uri": "https://localhost:8080/"
        },
        "outputId": "2eb3c1c0-8059-4454-d870-5aa98d378636"
      },
      "source": [
        "# importing the needed packages\n",
        "!pip install transformers &> /dev/null\n",
        "!pip install yfinance &> /dev/null\n",
        "!pip install bert-for-tf2 &> /dev/null\n",
        "import bert\n",
        "import os\n",
        "import tensorflow_hub as hub\n",
        "import pandas as pd\n",
        "import matplotlib.pyplot as plt\n",
        "import seaborn as sns\n",
        "import sklearn.metrics as metrics\n",
        "import numpy as np\n",
        "from sklearn.preprocessing import MinMaxScaler\n",
        "from keras.models import Sequential\n",
        "from keras import optimizers\n",
        "from keras.callbacks import EarlyStopping\n",
        "from tensorflow import keras\n",
        "from tensorflow.keras import layers\n",
        "import warnings\n",
        "import seaborn as sns\n",
        "from sklearn.model_selection import train_test_split\n",
        "from keras.preprocessing.text import Tokenizer\n",
        "from sklearn.preprocessing import LabelEncoder\n",
        "from sklearn.metrics import confusion_matrix, classification_report\n",
        "from keras.utils import np_utils\n",
        "import gensim\n",
        "from nltk.stem import WordNetLemmatizer\n",
        "import nltk\n",
        "nltk.download('stopwords')\n",
        "from nltk.corpus import stopwords\n",
        "from datetime import datetime\n",
        "nltk.download('wordnet')\n",
        "warnings.filterwarnings('ignore')\n",
        "from collections import Counter\n",
        "import itertools\n",
        "from nltk.tokenize import word_tokenize\n",
        "nltk.download('punkt')\n",
        "from keras import backend as K\n",
        "from transformers import BertTokenizer\n",
        "import torch\n",
        "import re\n",
        "import tensorflow as tf"
      ],
      "execution_count": 1,
      "outputs": [
        {
          "output_type": "stream",
          "text": [
            "[nltk_data] Downloading package stopwords to /root/nltk_data...\n",
            "[nltk_data]   Package stopwords is already up-to-date!\n",
            "[nltk_data] Downloading package wordnet to /root/nltk_data...\n",
            "[nltk_data]   Package wordnet is already up-to-date!\n",
            "[nltk_data] Downloading package punkt to /root/nltk_data...\n",
            "[nltk_data]   Package punkt is already up-to-date!\n"
          ],
          "name": "stdout"
        }
      ]
    },
    {
      "cell_type": "markdown",
      "metadata": {
        "id": "ev6v54sjaO5N"
      },
      "source": [
        "# 1 Preparing data for the models"
      ]
    },
    {
      "cell_type": "markdown",
      "metadata": {
        "id": "jKPWRpiWabWr"
      },
      "source": [
        "## 1.1 Cleaning and exploring the sentiment analysis dataset"
      ]
    },
    {
      "cell_type": "code",
      "metadata": {
        "id": "ByfjoDZ2aiGp"
      },
      "source": [
        "# loading in the dataframe for sentiment analysis\r\n",
        "sent_df = pd.read_csv(\"https://raw.githubusercontent.com/AnnaBujniewicz/semester_project/main/data/sentiment_data.csv\", header = 0, names = [\"sentiment\", \"title\"], encoding = \"latin-1\")"
      ],
      "execution_count": 2,
      "outputs": []
    },
    {
      "cell_type": "code",
      "metadata": {
        "id": "nBZvENDxcIro",
        "colab": {
          "base_uri": "https://localhost:8080/",
          "height": 0
        },
        "outputId": "30b04908-6dbf-472d-f323-26402ea552be"
      },
      "source": [
        "# inspecting the dataframe\r\n",
        "sent_df.head()"
      ],
      "execution_count": 3,
      "outputs": [
        {
          "output_type": "execute_result",
          "data": {
            "text/html": [
              "<div>\n",
              "<style scoped>\n",
              "    .dataframe tbody tr th:only-of-type {\n",
              "        vertical-align: middle;\n",
              "    }\n",
              "\n",
              "    .dataframe tbody tr th {\n",
              "        vertical-align: top;\n",
              "    }\n",
              "\n",
              "    .dataframe thead th {\n",
              "        text-align: right;\n",
              "    }\n",
              "</style>\n",
              "<table border=\"1\" class=\"dataframe\">\n",
              "  <thead>\n",
              "    <tr style=\"text-align: right;\">\n",
              "      <th></th>\n",
              "      <th>sentiment</th>\n",
              "      <th>title</th>\n",
              "    </tr>\n",
              "  </thead>\n",
              "  <tbody>\n",
              "    <tr>\n",
              "      <th>0</th>\n",
              "      <td>neutral</td>\n",
              "      <td>Technopolis plans to develop in stages an area...</td>\n",
              "    </tr>\n",
              "    <tr>\n",
              "      <th>1</th>\n",
              "      <td>negative</td>\n",
              "      <td>The international electronic industry company ...</td>\n",
              "    </tr>\n",
              "    <tr>\n",
              "      <th>2</th>\n",
              "      <td>positive</td>\n",
              "      <td>With the new production plant the company woul...</td>\n",
              "    </tr>\n",
              "    <tr>\n",
              "      <th>3</th>\n",
              "      <td>positive</td>\n",
              "      <td>According to the company 's updated strategy f...</td>\n",
              "    </tr>\n",
              "    <tr>\n",
              "      <th>4</th>\n",
              "      <td>positive</td>\n",
              "      <td>FINANCING OF ASPOCOMP 'S GROWTH Aspocomp is ag...</td>\n",
              "    </tr>\n",
              "  </tbody>\n",
              "</table>\n",
              "</div>"
            ],
            "text/plain": [
              "  sentiment                                              title\n",
              "0   neutral  Technopolis plans to develop in stages an area...\n",
              "1  negative  The international electronic industry company ...\n",
              "2  positive  With the new production plant the company woul...\n",
              "3  positive  According to the company 's updated strategy f...\n",
              "4  positive  FINANCING OF ASPOCOMP 'S GROWTH Aspocomp is ag..."
            ]
          },
          "metadata": {
            "tags": []
          },
          "execution_count": 3
        }
      ]
    },
    {
      "cell_type": "code",
      "metadata": {
        "id": "bkVs_6RscLzM",
        "colab": {
          "base_uri": "https://localhost:8080/",
          "height": 0
        },
        "outputId": "ccd8effe-a5de-4d5b-e777-85611b32e007"
      },
      "source": [
        "# inspecting the classes\n",
        "# they are rather unbalanced\n",
        "plt.figure(figsize=(12,8))\n",
        "sns.barplot(x=pd.DataFrame(sent_df[\"sentiment\"].value_counts()).index,y=pd.DataFrame(sent_df[\"sentiment\"].value_counts())[\"sentiment\"])\n",
        "plt.show()"
      ],
      "execution_count": 4,
      "outputs": [
        {
          "output_type": "display_data",
          "data": {
            "image/png": "[encoded data removed]",
            "text/plain": [
              "<Figure size 864x576 with 1 Axes>"
            ]
          },
          "metadata": {
            "tags": [],
            "needs_background": "light"
          }
        }
      ]
    },
    {
      "cell_type": "markdown",
      "metadata": {
        "id": "V_XVOrVu-eVH"
      },
      "source": [
        "As can be seen, the number of negative and positive headers is vastly lower than the neutral ones. For this reason resampling should be considered. We decided to not try upsampling, as it would have to result in copying the same header multiple times for the case of the negative class. That could really easily lead to some overfitting to the preexisting titles. Instead, we decided to try downsampling. It will lead to a decrease in sample size, however all the titles will still be unique."
      ]
    },
    {
      "cell_type": "code",
      "metadata": {
        "id": "8BWSHnKCkrLf"
      },
      "source": [
        "# initiating a lemmatizer instance\n",
        "lemmatizer = WordNetLemmatizer()\n",
        "# making a list of stopwords\n",
        "stop_words = set(stopwords.words('english'))\n",
        "# making a function that lemmatizes the titles and then puts them together\n",
        "def sneaky_cleanup(title):\n",
        "# empty list to store the tokens\n",
        "  tokens = []\n",
        "# iteration over the words in a given title\n",
        "  for token in title.split():\n",
        "# removing the stop words\n",
        "    if token not in stop_words:\n",
        "# removing the interpunction\n",
        "      if token.isalnum():\n",
        "# appending the lemmatized titles to the list\n",
        "        tokens.append(lemmatizer.lemmatize(token))\n",
        "# rejoining the list of words back into a title\n",
        "  return \" \".join(tokens)"
      ],
      "execution_count": 5,
      "outputs": []
    },
    {
      "cell_type": "code",
      "metadata": {
        "id": "rhYd6Fd2kuBs",
        "colab": {
          "base_uri": "https://localhost:8080/",
          "height": 0
        },
        "outputId": "ac049902-34ee-46cd-98b3-509f3677acbb"
      },
      "source": [
        "# applying the lemmatizer to each row of the dataframe\n",
        "sent_df.title = sent_df.title.apply(lambda x: sneaky_cleanup(x))\n",
        "# checking if everything worked correctly\n",
        "sent_df.head()"
      ],
      "execution_count": 6,
      "outputs": [
        {
          "output_type": "execute_result",
          "data": {
            "text/html": [
              "<div>\n",
              "<style scoped>\n",
              "    .dataframe tbody tr th:only-of-type {\n",
              "        vertical-align: middle;\n",
              "    }\n",
              "\n",
              "    .dataframe tbody tr th {\n",
              "        vertical-align: top;\n",
              "    }\n",
              "\n",
              "    .dataframe thead th {\n",
              "        text-align: right;\n",
              "    }\n",
              "</style>\n",
              "<table border=\"1\" class=\"dataframe\">\n",
              "  <thead>\n",
              "    <tr style=\"text-align: right;\">\n",
              "      <th></th>\n",
              "      <th>sentiment</th>\n",
              "      <th>title</th>\n",
              "    </tr>\n",
              "  </thead>\n",
              "  <tbody>\n",
              "    <tr>\n",
              "      <th>0</th>\n",
              "      <td>neutral</td>\n",
              "      <td>Technopolis plan develop stage area le square ...</td>\n",
              "    </tr>\n",
              "    <tr>\n",
              "      <th>1</th>\n",
              "      <td>negative</td>\n",
              "      <td>The international electronic industry company ...</td>\n",
              "    </tr>\n",
              "    <tr>\n",
              "      <th>2</th>\n",
              "      <td>positive</td>\n",
              "      <td>With new production plant company would increa...</td>\n",
              "    </tr>\n",
              "    <tr>\n",
              "      <th>3</th>\n",
              "      <td>positive</td>\n",
              "      <td>According company updated strategy year Baswar...</td>\n",
              "    </tr>\n",
              "    <tr>\n",
              "      <th>4</th>\n",
              "      <td>positive</td>\n",
              "      <td>FINANCING OF ASPOCOMP GROWTH Aspocomp aggressi...</td>\n",
              "    </tr>\n",
              "  </tbody>\n",
              "</table>\n",
              "</div>"
            ],
            "text/plain": [
              "  sentiment                                              title\n",
              "0   neutral  Technopolis plan develop stage area le square ...\n",
              "1  negative  The international electronic industry company ...\n",
              "2  positive  With new production plant company would increa...\n",
              "3  positive  According company updated strategy year Baswar...\n",
              "4  positive  FINANCING OF ASPOCOMP GROWTH Aspocomp aggressi..."
            ]
          },
          "metadata": {
            "tags": []
          },
          "execution_count": 6
        }
      ]
    },
    {
      "cell_type": "markdown",
      "metadata": {
        "id": "ZE6hW-tABRf1"
      },
      "source": [
        "We decided that cleaning up the text before applying a machine learning model would be beneficial. We lemmatized the words, removed the stopwords and interpunctions.\r\n",
        "\r\n",
        "We chose lemmatization over stemming as it preserves the original meaning of a word better - lemmatiztion changes the word to its lemma (base of the word), whereas stemming simply cuts off the ending.\r\n",
        "\r\n",
        "The stopwords and interpunctions were removed despite their potential importance for the context, as they typically don't improve performance in the case of sentiment analysis, as the model only needs to classify the titles into the category of positive, negative and neutral ones.\r\n"
      ]
    },
    {
      "cell_type": "code",
      "metadata": {
        "id": "OOKksXH1g-a8"
      },
      "source": [
        "# creating three new dataframes for the three sentiments\n",
        "sent_pos=sent_df[sent_df[\"sentiment\"] == \"positive\"]\n",
        "sent_neg=sent_df[sent_df[\"sentiment\"] == \"negative\"]\n",
        "sent_neu=sent_df[sent_df[\"sentiment\"] == \"neutral\"]\n",
        "# tokenizing the titles in the dataframes\n",
        "sent_pos[\"title\"]=sent_pos[\"title\"].apply(lambda x: word_tokenize(x))\n",
        "sent_neg[\"title\"]=sent_neg[\"title\"].apply(lambda x: word_tokenize(x))\n",
        "sent_neu[\"title\"]=sent_neu[\"title\"].apply(lambda x: word_tokenize(x))"
      ],
      "execution_count": 7,
      "outputs": []
    },
    {
      "cell_type": "code",
      "metadata": {
        "id": "xrhOH2mZgS4X",
        "colab": {
          "base_uri": "https://localhost:8080/"
        },
        "outputId": "0e3466af-4942-4b3c-8134-f80b2a87749c"
      },
      "source": [
        "# finding the most popular words in the negative titles\r\n",
        "Counter(itertools.chain(*sent_neg[\"title\"])).most_common(10)"
      ],
      "execution_count": 8,
      "outputs": [
        {
          "output_type": "execute_result",
          "data": {
            "text/plain": [
              "[('EUR', 307),\n",
              " ('mn', 224),\n",
              " ('profit', 151),\n",
              " ('The', 105),\n",
              " ('company', 104),\n",
              " ('Finnish', 99),\n",
              " ('sale', 96),\n",
              " ('period', 89),\n",
              " ('net', 88),\n",
              " ('2009', 85)]"
            ]
          },
          "metadata": {
            "tags": []
          },
          "execution_count": 8
        }
      ]
    },
    {
      "cell_type": "code",
      "metadata": {
        "id": "fBZUThcChidp",
        "colab": {
          "base_uri": "https://localhost:8080/"
        },
        "outputId": "8c33534d-4e99-41d2-db52-d38731289e75"
      },
      "source": [
        "# finding the most popular words in the neutral titles\r\n",
        "Counter(itertools.chain(*sent_neu[\"title\"])).most_common(10)"
      ],
      "execution_count": 9,
      "outputs": [
        {
          "output_type": "execute_result",
          "data": {
            "text/plain": [
              "[('The', 969),\n",
              " ('company', 553),\n",
              " ('share', 293),\n",
              " ('said', 237),\n",
              " ('Finland', 219),\n",
              " ('EUR', 217),\n",
              " ('Finnish', 215),\n",
              " ('million', 192),\n",
              " ('service', 189),\n",
              " ('sale', 187)]"
            ]
          },
          "metadata": {
            "tags": []
          },
          "execution_count": 9
        }
      ]
    },
    {
      "cell_type": "code",
      "metadata": {
        "id": "EDf1EZIXhjDc",
        "colab": {
          "base_uri": "https://localhost:8080/"
        },
        "outputId": "2730e77d-e5be-48bd-d234-5c17781a5dc3"
      },
      "source": [
        "# finding the most popular words in the positive titles\r\n",
        "Counter(itertools.chain(*sent_pos[\"title\"])).most_common(10)"
      ],
      "execution_count": 10,
      "outputs": [
        {
          "output_type": "execute_result",
          "data": {
            "text/plain": [
              "[('EUR', 394),\n",
              " ('The', 280),\n",
              " ('company', 262),\n",
              " ('mn', 241),\n",
              " ('said', 230),\n",
              " ('Finnish', 198),\n",
              " ('sale', 187),\n",
              " ('profit', 183),\n",
              " ('net', 175),\n",
              " ('million', 171)]"
            ]
          },
          "metadata": {
            "tags": []
          },
          "execution_count": 10
        }
      ]
    },
    {
      "cell_type": "markdown",
      "metadata": {
        "id": "w9F35rHxCkiR"
      },
      "source": [
        "As can be seen, the words in all the titles are very similar, showing how difficult the task of predicting the sentiment will be."
      ]
    },
    {
      "cell_type": "code",
      "metadata": {
        "id": "E8uREb2wfXw0",
        "colab": {
          "base_uri": "https://localhost:8080/"
        },
        "outputId": "943c372a-3c3a-44e9-c846-cf80f358768e"
      },
      "source": [
        "# inspecting the length of the titles - the longest title is just above 40 words\n",
        "sent_df[\"words\"] = sent_df[\"title\"].map(lambda x: len(x.split()))\n",
        "sent_df[\"words\"].describe()"
      ],
      "execution_count": 11,
      "outputs": [
        {
          "output_type": "execute_result",
          "data": {
            "text/plain": [
              "count    4845.000000\n",
              "mean       12.831373\n",
              "std         5.831930\n",
              "min         1.000000\n",
              "25%         8.000000\n",
              "50%        12.000000\n",
              "75%        16.000000\n",
              "max        42.000000\n",
              "Name: words, dtype: float64"
            ]
          },
          "metadata": {
            "tags": []
          },
          "execution_count": 11
        }
      ]
    },
    {
      "cell_type": "code",
      "metadata": {
        "id": "GtyWv1bWje52"
      },
      "source": [
        "# creating a series of all the sentiments\n",
        "y = sent_df[\"sentiment\"]\n",
        "# creating a labelencoder instance\n",
        "labelencoder_y = LabelEncoder()\n",
        "# encoding the sentiments\n",
        "y = labelencoder_y.fit_transform(y)\n",
        "# changing the sentiments to one-hot encoding\n",
        "y = np_utils.to_categorical(y)"
      ],
      "execution_count": 12,
      "outputs": []
    },
    {
      "cell_type": "code",
      "metadata": {
        "id": "GMwsCTs1gI1r"
      },
      "source": [
        "# creating training and testing samples\r\n",
        "X_train, X_test, y_train, y_test = train_test_split(sent_df[\"title\"], y, test_size = 0.2, random_state = 44)\r\n",
        "X_test_initial = X_test"
      ],
      "execution_count": 13,
      "outputs": []
    },
    {
      "cell_type": "markdown",
      "metadata": {
        "id": "h9y-AAhjVBck"
      },
      "source": [
        "## 1.2 Preparing the dataset for transformers use and creating transformers layer"
      ]
    },
    {
      "cell_type": "code",
      "metadata": {
        "id": "I1hyVCFsZkP0"
      },
      "source": [
        "tokenizer = BertTokenizer.from_pretrained('bert-base-uncased', do_lower_case=True)"
      ],
      "execution_count": 14,
      "outputs": []
    },
    {
      "cell_type": "code",
      "metadata": {
        "id": "Aped6vXXZqCs"
      },
      "source": [
        "def preprocessing_for_bert(data):\r\n",
        "    \"\"\"Perform required preprocessing steps for pretrained BERT.\r\n",
        "    @param    data (np.array): Array of texts to be processed.\r\n",
        "    @return   input_ids (torch.Tensor): Tensor of token ids to be fed to a model.\r\n",
        "    @return   attention_masks (torch.Tensor): Tensor of indices specifying which\r\n",
        "                  tokens should be attended to by the model.\r\n",
        "    \"\"\"\r\n",
        "    # Create empty lists to store outputs\r\n",
        "    input_ids = []\r\n",
        "    attention_masks = []\r\n",
        "\r\n",
        "    # For every sentence...\r\n",
        "    for sent in data:\r\n",
        "        # `encode_plus` will:\r\n",
        "        #    (1) Tokenize the sentence\r\n",
        "        #    (2) Add the `[CLS]` and `[SEP]` token to the start and end\r\n",
        "        #    (3) Truncate/Pad sentence to max length\r\n",
        "        #    (4) Map tokens to their IDs\r\n",
        "        #    (5) Create attention mask\r\n",
        "        #    (6) Return a dictionary of outputs\r\n",
        "        encoded_sent = tokenizer.encode_plus(\r\n",
        "            text=sent,  # Preprocess sentence\r\n",
        "            add_special_tokens=True,        # Add `[CLS]` and `[SEP]`\r\n",
        "            max_length=MAX_LEN,                  # Max length to truncate/pad\r\n",
        "            pad_to_max_length=True,         # Pad sentence to max length\r\n",
        "            #return_tensors='pt',           # Return PyTorch tensor\r\n",
        "            return_attention_mask=True      # Return attention mask\r\n",
        "            )\r\n",
        "        \r\n",
        "        # Add the outputs to the lists\r\n",
        "        input_ids.append(encoded_sent.get('input_ids'))\r\n",
        "        attention_masks.append(encoded_sent.get('attention_mask'))\r\n",
        "\r\n",
        "    # Convert lists to tensors\r\n",
        "    input_ids = torch.tensor(input_ids)\r\n",
        "    attention_masks = torch.tensor(attention_masks)\r\n",
        "\r\n",
        "    return input_ids, attention_masks"
      ],
      "execution_count": 15,
      "outputs": []
    },
    {
      "cell_type": "code",
      "metadata": {
        "id": "WHecOJCcaAvB",
        "colab": {
          "base_uri": "https://localhost:8080/"
        },
        "outputId": "59a59a59-8db9-4831-a5f8-527b50761ee9"
      },
      "source": [
        "# Specify `MAX_LEN`\r\n",
        "MAX_LEN = 40\r\n",
        "\r\n",
        "# Run function `preprocessing_for_bert` on the train set and the validation set\r\n",
        "train_inputs, train_masks = preprocessing_for_bert(X_train)\r\n",
        "val_inputs, val_masks = preprocessing_for_bert(X_test)"
      ],
      "execution_count": 16,
      "outputs": [
        {
          "output_type": "stream",
          "text": [
            "Truncation was not explicitly activated but `max_length` is provided a specific value, please use `truncation=True` to explicitly truncate examples to max length. Defaulting to 'longest_first' truncation strategy. If you encode pairs of sequences (GLUE-style) with the tokenizer you can select this strategy more precisely by providing a specific strategy to `truncation`.\n"
          ],
          "name": "stderr"
        }
      ]
    },
    {
      "cell_type": "code",
      "metadata": {
        "id": "u0ERElH7qtoY"
      },
      "source": [
        "train_ids = torch.tensor(X_train.index.tolist())\r\n",
        "test_ids = torch.tensor(X_test.index.tolist())"
      ],
      "execution_count": 17,
      "outputs": []
    },
    {
      "cell_type": "code",
      "metadata": {
        "id": "X5wVTujrtJt6"
      },
      "source": [
        "train_inputs = train_inputs.numpy().astype(\"int32\")\r\n",
        "train_masks = train_masks.numpy().astype(\"int32\")\r\n",
        "train_ids = train_ids.numpy().astype(\"int32\")\r\n",
        "val_inputs = val_inputs.numpy().astype(\"int32\")\r\n",
        "val_masks = val_masks.numpy().astype(\"int32\")\r\n",
        "test_ids = test_ids.numpy().astype(\"int32\")"
      ],
      "execution_count": 18,
      "outputs": []
    },
    {
      "cell_type": "code",
      "metadata": {
        "id": "eOGbsjA1o-3R"
      },
      "source": [
        "X_train_dic = {\"input_word_ids\":train_inputs,\"input_mask\":train_masks,\"input_type_ids\":train_ids}\r\n",
        "X_test_dic = {\"input_word_ids\":val_inputs,\"input_mask\":val_masks,\"input_type_ids\":test_ids}"
      ],
      "execution_count": 19,
      "outputs": []
    },
    {
      "cell_type": "code",
      "metadata": {
        "colab": {
          "base_uri": "https://localhost:8080/"
        },
        "id": "U2O9f6FWmMYj",
        "outputId": "3b989daa-7db6-4289-923d-e4cd8b774f4d"
      },
      "source": [
        "bert_v2 = hub.KerasLayer(\"https://tfhub.dev/tensorflow/bert_en_uncased_L-12_H-768_A-12/3\", trainable=True, output_key=\"pooled_output\")"
      ],
      "execution_count": 20,
      "outputs": [
        {
          "output_type": "stream",
          "text": [
            "INFO:absl:resolver HttpCompressedFileResolver does not support the provided handle.\n",
            "INFO:absl:resolver GcsCompressedFileResolver does not support the provided handle.\n"
          ],
          "name": "stderr"
        }
      ]
    },
    {
      "cell_type": "markdown",
      "metadata": {
        "id": "OIOj8MljjDAE"
      },
      "source": [
        "## 1.3 Creating the sentiment analysis model"
      ]
    },
    {
      "cell_type": "code",
      "metadata": {
        "id": "ba5smMu7jNZc"
      },
      "source": [
        "model = Sequential()\n",
        "model.add(bert_v2)\n",
        "model.add(layers.Dense(128, activation = \"relu\"))\n",
        "model.add(layers.Dense(264, activation = \"relu\"))\n",
        "model.add(layers.Dropout(0.2))\n",
        "model.add(layers.Dense(64, activation = \"relu\"))\n",
        "model.add(layers.Dense(3, activation='softmax'))"
      ],
      "execution_count": 21,
      "outputs": []
    },
    {
      "cell_type": "code",
      "metadata": {
        "id": "KZCQKT5VkcBV"
      },
      "source": [
        "# defining early stopping - lower patience this time, more periods weren't needed\n",
        "# changing the learning rate to a much lower rate\n",
        "# it makes the results vastly more stable\n",
        "opt = optimizers.Adam(learning_rate=0.0001)"
      ],
      "execution_count": 22,
      "outputs": []
    },
    {
      "cell_type": "code",
      "metadata": {
        "id": "NHfrON-xMNf2"
      },
      "source": [
        "def weighted_categorical_crossentropy(weights):\r\n",
        "    \"\"\"\r\n",
        "    A weighted version of keras.objectives.categorical_crossentropy\r\n",
        "    \r\n",
        "    Variables:\r\n",
        "        weights: numpy array of shape (C,) where C is the number of classes\r\n",
        "    \r\n",
        "    Usage:\r\n",
        "        weights = np.array([0.5,2,10]) # Class one at 0.5, class 2 twice the normal weights, class 3 10x.\r\n",
        "        loss = weighted_categorical_crossentropy(weights)\r\n",
        "        model.compile(loss=loss,optimizer='adam')\r\n",
        "    \"\"\"\r\n",
        "    \r\n",
        "    weights = K.variable(weights)\r\n",
        "        \r\n",
        "    def loss(y_true, y_pred):\r\n",
        "        # scale predictions so that the class probas of each sample sum to 1\r\n",
        "        y_pred /= K.sum(y_pred, axis=-1, keepdims=True)\r\n",
        "        # clip to prevent NaN's and Inf's\r\n",
        "        y_pred = K.clip(y_pred, K.epsilon(), 1 - K.epsilon())\r\n",
        "        # calc\r\n",
        "        loss = y_true * K.log(y_pred) * weights\r\n",
        "        loss = -K.sum(loss, -1)\r\n",
        "        return loss\r\n",
        "    \r\n",
        "    return loss"
      ],
      "execution_count": 23,
      "outputs": []
    },
    {
      "cell_type": "code",
      "metadata": {
        "id": "enwFpk8XDjJl"
      },
      "source": [
        "perc_neu = sent_df[sent_df[\"sentiment\"]==\"neutral\"][\"sentiment\"].count()/sent_df[\"sentiment\"].count()\r\n",
        "perc_pos = sent_df[sent_df[\"sentiment\"]==\"positive\"][\"sentiment\"].count()/sent_df[\"sentiment\"].count()\r\n",
        "perc_neg = sent_df[sent_df[\"sentiment\"]==\"negative\"][\"sentiment\"].count()/sent_df[\"sentiment\"].count()"
      ],
      "execution_count": 24,
      "outputs": []
    },
    {
      "cell_type": "code",
      "metadata": {
        "id": "zztMyGS-MYHt"
      },
      "source": [
        "weights = np.array([2,1,2-perc_pos])"
      ],
      "execution_count": 25,
      "outputs": []
    },
    {
      "cell_type": "code",
      "metadata": {
        "id": "ZgS7nx8mkfoL"
      },
      "source": [
        "# compiling the model with categorical crossentropy as a loss function\r\n",
        "# it was chosen as it is an appropriate measure for multiclass predictions\r\n",
        "model.compile(optimizer = opt, loss=weighted_categorical_crossentropy(weights), metrics=['accuracy'])"
      ],
      "execution_count": 26,
      "outputs": []
    },
    {
      "cell_type": "code",
      "metadata": {
        "id": "dc4GSQb0kkZR",
        "colab": {
          "base_uri": "https://localhost:8080/"
        },
        "outputId": "70023550-eb4e-4b24-b5d8-a908139ec52c"
      },
      "source": [
        "# fitting the model to the original data\r\n",
        "# batch size chosen for the best results\r\n",
        "# here the results are not amazing, but much better than for the downsampled data\r\n",
        "history = model.fit(X_train_dic, y_train, batch_size=64, epochs = 10)"
      ],
      "execution_count": 27,
      "outputs": [
        {
          "output_type": "stream",
          "text": [
            "Epoch 1/10\n",
            "WARNING:tensorflow:Layers in a Sequential model should only have a single input tensor, but we receive a <class 'dict'> input: {'input_word_ids': <tf.Tensor 'IteratorGetNext:2' shape=(None, 40) dtype=int32>, 'input_mask': <tf.Tensor 'IteratorGetNext:0' shape=(None, 40) dtype=int32>, 'input_type_ids': <tf.Tensor 'ExpandDims:0' shape=(None, 1) dtype=int32>}\n",
            "Consider rewriting this model with the Functional API.\n"
          ],
          "name": "stdout"
        },
        {
          "output_type": "stream",
          "text": [
            "WARNING:tensorflow:Layers in a Sequential model should only have a single input tensor, but we receive a <class 'dict'> input: {'input_word_ids': <tf.Tensor 'IteratorGetNext:2' shape=(None, 40) dtype=int32>, 'input_mask': <tf.Tensor 'IteratorGetNext:0' shape=(None, 40) dtype=int32>, 'input_type_ids': <tf.Tensor 'ExpandDims:0' shape=(None, 1) dtype=int32>}\n",
            "Consider rewriting this model with the Functional API.\n"
          ],
          "name": "stderr"
        },
        {
          "output_type": "stream",
          "text": [
            "WARNING:tensorflow:Layers in a Sequential model should only have a single input tensor, but we receive a <class 'dict'> input: {'input_word_ids': <tf.Tensor 'IteratorGetNext:2' shape=(None, 40) dtype=int32>, 'input_mask': <tf.Tensor 'IteratorGetNext:0' shape=(None, 40) dtype=int32>, 'input_type_ids': <tf.Tensor 'ExpandDims:0' shape=(None, 1) dtype=int32>}\n",
            "Consider rewriting this model with the Functional API.\n"
          ],
          "name": "stdout"
        },
        {
          "output_type": "stream",
          "text": [
            "WARNING:tensorflow:Layers in a Sequential model should only have a single input tensor, but we receive a <class 'dict'> input: {'input_word_ids': <tf.Tensor 'IteratorGetNext:2' shape=(None, 40) dtype=int32>, 'input_mask': <tf.Tensor 'IteratorGetNext:0' shape=(None, 40) dtype=int32>, 'input_type_ids': <tf.Tensor 'ExpandDims:0' shape=(None, 1) dtype=int32>}\n",
            "Consider rewriting this model with the Functional API.\n"
          ],
          "name": "stderr"
        },
        {
          "output_type": "stream",
          "text": [
            "61/61 [==============================] - 43s 490ms/step - loss: 1.3857 - accuracy: 0.5488\n",
            "Epoch 2/10\n",
            "61/61 [==============================] - 31s 501ms/step - loss: 1.0881 - accuracy: 0.6946\n",
            "Epoch 3/10\n",
            "61/61 [==============================] - 31s 511ms/step - loss: 0.7674 - accuracy: 0.8003\n",
            "Epoch 4/10\n",
            "61/61 [==============================] - 32s 518ms/step - loss: 0.4464 - accuracy: 0.8828\n",
            "Epoch 5/10\n",
            "61/61 [==============================] - 32s 526ms/step - loss: 0.3842 - accuracy: 0.9131\n",
            "Epoch 6/10\n",
            "61/61 [==============================] - 32s 527ms/step - loss: 0.2278 - accuracy: 0.9439\n",
            "Epoch 7/10\n",
            "61/61 [==============================] - 32s 533ms/step - loss: 0.1783 - accuracy: 0.9604\n",
            "Epoch 8/10\n",
            "61/61 [==============================] - 33s 537ms/step - loss: 0.1960 - accuracy: 0.9541\n",
            "Epoch 9/10\n",
            "61/61 [==============================] - 33s 541ms/step - loss: 0.1241 - accuracy: 0.9757\n",
            "Epoch 10/10\n",
            "61/61 [==============================] - 33s 545ms/step - loss: 0.1129 - accuracy: 0.9749\n"
          ],
          "name": "stdout"
        }
      ]
    },
    {
      "cell_type": "markdown",
      "metadata": {
        "id": "AXx9sgKEt1Ky"
      },
      "source": [
        "## 1.4 Evaluation of the sentiment model"
      ]
    },
    {
      "cell_type": "code",
      "metadata": {
        "id": "CX-vYEZCYitY",
        "colab": {
          "base_uri": "https://localhost:8080/"
        },
        "outputId": "43e84bf3-3b9d-4964-f3dc-67a28bcd4eb0"
      },
      "source": [
        "# evaluating the accuracy on the test set - it is not amazing\r\n",
        "model.evaluate(X_test_dic, y_test)"
      ],
      "execution_count": 28,
      "outputs": [
        {
          "output_type": "stream",
          "text": [
            "WARNING:tensorflow:Layers in a Sequential model should only have a single input tensor, but we receive a <class 'dict'> input: {'input_word_ids': <tf.Tensor 'IteratorGetNext:2' shape=(None, 40) dtype=int32>, 'input_mask': <tf.Tensor 'IteratorGetNext:0' shape=(None, 40) dtype=int32>, 'input_type_ids': <tf.Tensor 'ExpandDims:0' shape=(None, 1) dtype=int32>}\n",
            "Consider rewriting this model with the Functional API.\n"
          ],
          "name": "stdout"
        },
        {
          "output_type": "stream",
          "text": [
            "WARNING:tensorflow:Layers in a Sequential model should only have a single input tensor, but we receive a <class 'dict'> input: {'input_word_ids': <tf.Tensor 'IteratorGetNext:2' shape=(None, 40) dtype=int32>, 'input_mask': <tf.Tensor 'IteratorGetNext:0' shape=(None, 40) dtype=int32>, 'input_type_ids': <tf.Tensor 'ExpandDims:0' shape=(None, 1) dtype=int32>}\n",
            "Consider rewriting this model with the Functional API.\n"
          ],
          "name": "stderr"
        },
        {
          "output_type": "stream",
          "text": [
            "31/31 [==============================] - 4s 95ms/step - loss: 1.5621 - accuracy: 0.7822\n"
          ],
          "name": "stdout"
        },
        {
          "output_type": "execute_result",
          "data": {
            "text/plain": [
              "[1.5621421337127686, 0.7822497487068176]"
            ]
          },
          "metadata": {
            "tags": []
          },
          "execution_count": 28
        }
      ]
    },
    {
      "cell_type": "code",
      "metadata": {
        "id": "RdXmU8juxEJ9",
        "colab": {
          "base_uri": "https://localhost:8080/"
        },
        "outputId": "aa7664e4-d70e-4f12-930e-8dc4eb326e04"
      },
      "source": [
        "# finding the predictions\n",
        "y_pred = model.predict(X_test_dic)\n",
        "# creating a numpy array filled with zeroes\n",
        "y_pred_hardmax = np.zeros_like(y_pred)\n",
        "# assigning one to the class with the highest outcome\n",
        "y_pred_hardmax[np.arange(len(y_pred)), y_pred.argmax(1)] = 1"
      ],
      "execution_count": 29,
      "outputs": [
        {
          "output_type": "stream",
          "text": [
            "WARNING:tensorflow:Layers in a Sequential model should only have a single input tensor, but we receive a <class 'dict'> input: {'input_word_ids': <tf.Tensor 'IteratorGetNext:2' shape=(None, 40) dtype=int32>, 'input_mask': <tf.Tensor 'IteratorGetNext:0' shape=(None, 40) dtype=int32>, 'input_type_ids': <tf.Tensor 'ExpandDims:0' shape=(None, 1) dtype=int32>}\n",
            "Consider rewriting this model with the Functional API.\n"
          ],
          "name": "stdout"
        },
        {
          "output_type": "stream",
          "text": [
            "WARNING:tensorflow:Layers in a Sequential model should only have a single input tensor, but we receive a <class 'dict'> input: {'input_word_ids': <tf.Tensor 'IteratorGetNext:2' shape=(None, 40) dtype=int32>, 'input_mask': <tf.Tensor 'IteratorGetNext:0' shape=(None, 40) dtype=int32>, 'input_type_ids': <tf.Tensor 'ExpandDims:0' shape=(None, 1) dtype=int32>}\n",
            "Consider rewriting this model with the Functional API.\n"
          ],
          "name": "stderr"
        }
      ]
    },
    {
      "cell_type": "code",
      "metadata": {
        "id": "RFCWor2BzMf1"
      },
      "source": [
        "# changing back from one hot encoding to a list of classes\n",
        "y_pred_hardmax= [np.argmax(y, axis=None, out=None) for y in y_pred_hardmax]\n",
        "y_test= [np.argmax(y, axis=None, out=None) for y in y_test]"
      ],
      "execution_count": 30,
      "outputs": []
    },
    {
      "cell_type": "code",
      "metadata": {
        "id": "kq3Vowg9w4cR"
      },
      "source": [
        "# reversing the encoding\n",
        "y_test = labelencoder_y.inverse_transform(y_test)\n",
        "y_pred_hardmax = labelencoder_y.inverse_transform(y_pred_hardmax)"
      ],
      "execution_count": 31,
      "outputs": []
    },
    {
      "cell_type": "code",
      "metadata": {
        "id": "MYTOyrGfr2yJ",
        "colab": {
          "base_uri": "https://localhost:8080/",
          "height": 498
        },
        "outputId": "d358ea41-d509-4bef-f6c9-1f389d3ddb9c"
      },
      "source": [
        "# creating a confusion matrix \r\n",
        "plt.figure(figsize=(12,8))\r\n",
        "sns.heatmap(confusion_matrix(y_pred_hardmax,y_test), annot = True, cmap = \"YlGnBu\",fmt='g')"
      ],
      "execution_count": 32,
      "outputs": [
        {
          "output_type": "execute_result",
          "data": {
            "text/plain": [
              "<matplotlib.axes._subplots.AxesSubplot at 0x7f51095f0860>"
            ]
          },
          "metadata": {
            "tags": []
          },
          "execution_count": 32
        },
        {
          "output_type": "display_data",
          "data": {
            "image/png": "[encoded data removed]",
            "text/plain": [
              "<Figure size 864x576 with 2 Axes>"
            ]
          },
          "metadata": {
            "tags": [],
            "needs_background": "light"
          }
        }
      ]
    },
    {
      "cell_type": "code",
      "metadata": {
        "id": "iFJUZ8kn1C_a",
        "colab": {
          "base_uri": "https://localhost:8080/"
        },
        "outputId": "bfd39049-f38c-4fd0-f54e-fda3d60727ff"
      },
      "source": [
        "# printing out the classification report\r\n",
        "print(classification_report(y_pred_hardmax,y_test))"
      ],
      "execution_count": 33,
      "outputs": [
        {
          "output_type": "stream",
          "text": [
            "              precision    recall  f1-score   support\n",
            "\n",
            "    negative       0.68      0.76      0.72       106\n",
            "     neutral       0.83      0.86      0.84       555\n",
            "    positive       0.73      0.65      0.69       308\n",
            "\n",
            "    accuracy                           0.78       969\n",
            "   macro avg       0.74      0.76      0.75       969\n",
            "weighted avg       0.78      0.78      0.78       969\n",
            "\n"
          ],
          "name": "stdout"
        }
      ]
    },
    {
      "cell_type": "code",
      "metadata": {
        "id": "HYEEz1Z51MhD"
      },
      "source": [
        "# creating a dataframe from X_test\n",
        "X_test_initial = pd.DataFrame(X_test_initial)\n",
        "# resetting the index\n",
        "X_test_initial = X_test_initial.reset_index()\n",
        "# only keeping the title column\n",
        "X_test_initial = X_test_initial.loc[:,\"title\"]\n",
        "# turning it into a dataframe again\n",
        "X_test_initial = pd.DataFrame(X_test_initial)"
      ],
      "execution_count": 34,
      "outputs": []
    },
    {
      "cell_type": "code",
      "metadata": {
        "id": "SaG55f03HkP9",
        "colab": {
          "base_uri": "https://localhost:8080/",
          "height": 277
        },
        "outputId": "a32226d4-97c0-47f9-b23c-8040f12bd32c"
      },
      "source": [
        "# creating a dataframe from y_test\n",
        "y_test = pd.DataFrame(y_test)\n",
        "# creating a dataframe from the label predictions\n",
        "y_pred_hardmax = pd.DataFrame(y_pred_hardmax)\n",
        "# adding the new columns to X_test_initial\n",
        "X_test_initial[\"y\"] = y_test\n",
        "X_test_initial[\"pred\"] = y_pred_hardmax\n",
        "# turning the softmax predictions into a dataframe\n",
        "y_pred = pd.DataFrame(y_pred)\n",
        "# merging the dataframes\n",
        "X_test_initial = X_test_initial.merge(y_pred, left_index = True, right_index=True,copy = False)\n",
        "X_test_initial.describe()"
      ],
      "execution_count": 35,
      "outputs": [
        {
          "output_type": "execute_result",
          "data": {
            "text/html": [
              "<div>\n",
              "<style scoped>\n",
              "    .dataframe tbody tr th:only-of-type {\n",
              "        vertical-align: middle;\n",
              "    }\n",
              "\n",
              "    .dataframe tbody tr th {\n",
              "        vertical-align: top;\n",
              "    }\n",
              "\n",
              "    .dataframe thead th {\n",
              "        text-align: right;\n",
              "    }\n",
              "</style>\n",
              "<table border=\"1\" class=\"dataframe\">\n",
              "  <thead>\n",
              "    <tr style=\"text-align: right;\">\n",
              "      <th></th>\n",
              "      <th>0</th>\n",
              "      <th>1</th>\n",
              "      <th>2</th>\n",
              "    </tr>\n",
              "  </thead>\n",
              "  <tbody>\n",
              "    <tr>\n",
              "      <th>count</th>\n",
              "      <td>969.000000</td>\n",
              "      <td>969.000000</td>\n",
              "      <td>969.000000</td>\n",
              "    </tr>\n",
              "    <tr>\n",
              "      <th>mean</th>\n",
              "      <td>0.109133</td>\n",
              "      <td>0.572375</td>\n",
              "      <td>0.318490</td>\n",
              "    </tr>\n",
              "    <tr>\n",
              "      <th>std</th>\n",
              "      <td>0.291206</td>\n",
              "      <td>0.471568</td>\n",
              "      <td>0.440366</td>\n",
              "    </tr>\n",
              "    <tr>\n",
              "      <th>min</th>\n",
              "      <td>0.000058</td>\n",
              "      <td>0.000725</td>\n",
              "      <td>0.002082</td>\n",
              "    </tr>\n",
              "    <tr>\n",
              "      <th>25%</th>\n",
              "      <td>0.000068</td>\n",
              "      <td>0.008915</td>\n",
              "      <td>0.002332</td>\n",
              "    </tr>\n",
              "    <tr>\n",
              "      <th>50%</th>\n",
              "      <td>0.000392</td>\n",
              "      <td>0.986147</td>\n",
              "      <td>0.004962</td>\n",
              "    </tr>\n",
              "    <tr>\n",
              "      <th>75%</th>\n",
              "      <td>0.001384</td>\n",
              "      <td>0.997602</td>\n",
              "      <td>0.969107</td>\n",
              "    </tr>\n",
              "    <tr>\n",
              "      <th>max</th>\n",
              "      <td>0.982210</td>\n",
              "      <td>0.997857</td>\n",
              "      <td>0.998395</td>\n",
              "    </tr>\n",
              "  </tbody>\n",
              "</table>\n",
              "</div>"
            ],
            "text/plain": [
              "                0           1           2\n",
              "count  969.000000  969.000000  969.000000\n",
              "mean     0.109133    0.572375    0.318490\n",
              "std      0.291206    0.471568    0.440366\n",
              "min      0.000058    0.000725    0.002082\n",
              "25%      0.000068    0.008915    0.002332\n",
              "50%      0.000392    0.986147    0.004962\n",
              "75%      0.001384    0.997602    0.969107\n",
              "max      0.982210    0.997857    0.998395"
            ]
          },
          "metadata": {
            "tags": []
          },
          "execution_count": 35
        }
      ]
    },
    {
      "cell_type": "markdown",
      "metadata": {
        "id": "TD3VGPUoYqWV"
      },
      "source": [
        "## 1.5 Sentiment analysis for articles for the chosen companies"
      ]
    },
    {
      "cell_type": "code",
      "metadata": {
        "id": "8D6P5tlpRMAJ",
        "colab": {
          "base_uri": "https://localhost:8080/",
          "height": 191
        },
        "outputId": "b516c69a-a365-405e-e1f7-7fa0ea0565bd"
      },
      "source": [
        "#INSERT THE NEW ARTICLES HERE\r\n",
        "alxn_art = pd.read_csv(\"https://raw.githubusercontent.com/AnnaBujniewicz/semester_project/main/data/proc_alxn_data.csv\")\r\n",
        "alxn_art.head()"
      ],
      "execution_count": 36,
      "outputs": [
        {
          "output_type": "execute_result",
          "data": {
            "text/html": [
              "<div>\n",
              "<style scoped>\n",
              "    .dataframe tbody tr th:only-of-type {\n",
              "        vertical-align: middle;\n",
              "    }\n",
              "\n",
              "    .dataframe tbody tr th {\n",
              "        vertical-align: top;\n",
              "    }\n",
              "\n",
              "    .dataframe thead th {\n",
              "        text-align: right;\n",
              "    }\n",
              "</style>\n",
              "<table border=\"1\" class=\"dataframe\">\n",
              "  <thead>\n",
              "    <tr style=\"text-align: right;\">\n",
              "      <th></th>\n",
              "      <th>Unnamed: 0</th>\n",
              "      <th>1</th>\n",
              "      <th>link</th>\n",
              "      <th>title</th>\n",
              "    </tr>\n",
              "  </thead>\n",
              "  <tbody>\n",
              "    <tr>\n",
              "      <th>0</th>\n",
              "      <td>1</td>\n",
              "      <td>2020-12-23</td>\n",
              "      <td>https://t.co/v7UATxnMUy</td>\n",
              "      <td>CVS &amp; Walgreens Hiring 35,000 To Help With Vac...</td>\n",
              "    </tr>\n",
              "    <tr>\n",
              "      <th>1</th>\n",
              "      <td>5</td>\n",
              "      <td>2020-12-22</td>\n",
              "      <td>https://t.co/wMy1spFJMS</td>\n",
              "      <td>StockCharts.com</td>\n",
              "    </tr>\n",
              "    <tr>\n",
              "      <th>2</th>\n",
              "      <td>7</td>\n",
              "      <td>2020-12-22</td>\n",
              "      <td>https://t.co/cCk00oo4ZF</td>\n",
              "      <td>Are you a robot?</td>\n",
              "    </tr>\n",
              "    <tr>\n",
              "      <th>3</th>\n",
              "      <td>8</td>\n",
              "      <td>2020-12-22</td>\n",
              "      <td>https://t.co/AqJYWoUC0J</td>\n",
              "      <td>FDA approves Pfizer's Covid vaccine for emerge...</td>\n",
              "    </tr>\n",
              "    <tr>\n",
              "      <th>4</th>\n",
              "      <td>9</td>\n",
              "      <td>2020-12-22</td>\n",
              "      <td>https://t.co/22qlhrlW30</td>\n",
              "      <td>Stock Market Insights</td>\n",
              "    </tr>\n",
              "  </tbody>\n",
              "</table>\n",
              "</div>"
            ],
            "text/plain": [
              "   Unnamed: 0  ...                                              title\n",
              "0           1  ...  CVS & Walgreens Hiring 35,000 To Help With Vac...\n",
              "1           5  ...                                    StockCharts.com\n",
              "2           7  ...                                   Are you a robot?\n",
              "3           8  ...  FDA approves Pfizer's Covid vaccine for emerge...\n",
              "4           9  ...                              Stock Market Insights\n",
              "\n",
              "[5 rows x 4 columns]"
            ]
          },
          "metadata": {
            "tags": []
          },
          "execution_count": 36
        }
      ]
    },
    {
      "cell_type": "code",
      "metadata": {
        "id": "xnE6inLLYkCy",
        "colab": {
          "base_uri": "https://localhost:8080/",
          "height": 191
        },
        "outputId": "1a16ea93-ecf7-41f4-a89f-bfb7ce489056"
      },
      "source": [
        "alxn_art.rename(columns = {'1':'date'}, inplace = True)\n",
        "# only keeping the relevant columns\n",
        "alxn_art = alxn_art.loc[:,[\"title\",\"date\"]]\n",
        "alxn_art[\"title\"] = alxn_art[\"title\"].astype(str)\n",
        "# applying the cleanup function to each row of the dataframe\n",
        "alxn_art.title = alxn_art.title.apply(lambda x: sneaky_cleanup(x))\n",
        "# turning the date column to datetime format\n",
        "alxn_art[\"date\"] = pd.to_datetime(alxn_art[\"date\"], format='%Y-%m-%d', errors='coerce')\n",
        "# dropping the duplicated dates - we only want one article per day\n",
        "alxn_art = alxn_art.drop_duplicates(subset = \"title\")\n",
        "#dropping the titles with 5 words or less - they likely aren't titles at all\n",
        "alxn_art = alxn_art[alxn_art['title'].str.split().str.len().ge(5)]\n",
        "alxn_art.reset_index(inplace=True)\n",
        "# inspecting the changes\n",
        "alxn_art.head()"
      ],
      "execution_count": 37,
      "outputs": [
        {
          "output_type": "execute_result",
          "data": {
            "text/html": [
              "<div>\n",
              "<style scoped>\n",
              "    .dataframe tbody tr th:only-of-type {\n",
              "        vertical-align: middle;\n",
              "    }\n",
              "\n",
              "    .dataframe tbody tr th {\n",
              "        vertical-align: top;\n",
              "    }\n",
              "\n",
              "    .dataframe thead th {\n",
              "        text-align: right;\n",
              "    }\n",
              "</style>\n",
              "<table border=\"1\" class=\"dataframe\">\n",
              "  <thead>\n",
              "    <tr style=\"text-align: right;\">\n",
              "      <th></th>\n",
              "      <th>index</th>\n",
              "      <th>title</th>\n",
              "      <th>date</th>\n",
              "    </tr>\n",
              "  </thead>\n",
              "  <tbody>\n",
              "    <tr>\n",
              "      <th>0</th>\n",
              "      <td>0</td>\n",
              "      <td>CVS Walgreens Hiring To Help With Vaccine Dist...</td>\n",
              "      <td>2020-12-23</td>\n",
              "    </tr>\n",
              "    <tr>\n",
              "      <th>1</th>\n",
              "      <td>3</td>\n",
              "      <td>FDA approves Covid vaccine emergency use reach...</td>\n",
              "      <td>2020-12-22</td>\n",
              "    </tr>\n",
              "    <tr>\n",
              "      <th>2</th>\n",
              "      <td>7</td>\n",
              "      <td>Should Investors Consider This Biotech Takeover</td>\n",
              "      <td>2020-12-22</td>\n",
              "    </tr>\n",
              "    <tr>\n",
              "      <th>3</th>\n",
              "      <td>12</td>\n",
              "      <td>Daniel Bazarko Net worth insider trading</td>\n",
              "      <td>2020-12-21</td>\n",
              "    </tr>\n",
              "    <tr>\n",
              "      <th>4</th>\n",
              "      <td>13</td>\n",
              "      <td>3 Biotech Stocks That Could Explode Higher 2021</td>\n",
              "      <td>2020-12-21</td>\n",
              "    </tr>\n",
              "  </tbody>\n",
              "</table>\n",
              "</div>"
            ],
            "text/plain": [
              "   index                                              title       date\n",
              "0      0  CVS Walgreens Hiring To Help With Vaccine Dist... 2020-12-23\n",
              "1      3  FDA approves Covid vaccine emergency use reach... 2020-12-22\n",
              "2      7    Should Investors Consider This Biotech Takeover 2020-12-22\n",
              "3     12           Daniel Bazarko Net worth insider trading 2020-12-21\n",
              "4     13    3 Biotech Stocks That Could Explode Higher 2021 2020-12-21"
            ]
          },
          "metadata": {
            "tags": []
          },
          "execution_count": 37
        }
      ]
    },
    {
      "cell_type": "code",
      "metadata": {
        "colab": {
          "base_uri": "https://localhost:8080/"
        },
        "id": "vuuGSK4C_PmP",
        "outputId": "3655d7f7-4937-4ede-be50-af2f77c2b0d5"
      },
      "source": [
        "alxn_art[\"date\"].value_counts().describe()"
      ],
      "execution_count": 38,
      "outputs": [
        {
          "output_type": "execute_result",
          "data": {
            "text/plain": [
              "count    440.000000\n",
              "mean       2.481818\n",
              "std        3.540155\n",
              "min        1.000000\n",
              "25%        1.000000\n",
              "50%        2.000000\n",
              "75%        3.000000\n",
              "max       60.000000\n",
              "Name: date, dtype: float64"
            ]
          },
          "metadata": {
            "tags": []
          },
          "execution_count": 38
        }
      ]
    },
    {
      "cell_type": "code",
      "metadata": {
        "id": "kVf9uJnk_34I"
      },
      "source": [
        "alxn_titles = alxn_art.title\r\n",
        "alxn_inputs, alxn_masks = preprocessing_for_bert(alxn_titles)\r\n",
        "alxn_ids = torch.tensor(alxn_titles.index.tolist())\r\n",
        "alxn_inputs = alxn_inputs.numpy().astype(\"int32\")\r\n",
        "alxn_masks = alxn_masks.numpy().astype(\"int32\")\r\n",
        "alxn_ids = alxn_ids.numpy().astype(\"int32\")\r\n",
        "alxn_dic = {\"input_word_ids\":alxn_inputs,\"input_mask\":alxn_masks,\"input_type_ids\":alxn_ids}"
      ],
      "execution_count": 39,
      "outputs": []
    },
    {
      "cell_type": "code",
      "metadata": {
        "id": "LrU-M2hobUci",
        "colab": {
          "base_uri": "https://localhost:8080/"
        },
        "outputId": "879ae217-84d0-407a-994c-bef7e3189001"
      },
      "source": [
        "# predicting the headings\r\n",
        "alxn_preds = model.predict(alxn_dic)\r\n",
        "alxn_preds"
      ],
      "execution_count": 40,
      "outputs": [
        {
          "output_type": "execute_result",
          "data": {
            "text/plain": [
              "array([[6.2780993e-05, 9.9761707e-01, 2.3201564e-03],\n",
              "       [4.3852747e-04, 2.1178782e-02, 9.7838265e-01],\n",
              "       [1.3047011e-04, 9.9666864e-01, 3.2009014e-03],\n",
              "       ...,\n",
              "       [4.0913469e-04, 2.2529315e-03, 9.9733788e-01],\n",
              "       [1.4849105e-04, 9.9493486e-01, 4.9166698e-03],\n",
              "       [7.2561394e-05, 9.9749005e-01, 2.4374498e-03]], dtype=float32)"
            ]
          },
          "metadata": {
            "tags": []
          },
          "execution_count": 40
        }
      ]
    },
    {
      "cell_type": "code",
      "metadata": {
        "id": "NXa2wljXeS9U",
        "colab": {
          "base_uri": "https://localhost:8080/",
          "height": 191
        },
        "outputId": "7331025a-0108-4412-d6d0-a16de0c05834"
      },
      "source": [
        "# turning the predictions into a dataframe\n",
        "alxn_preds = pd.DataFrame(alxn_preds)\n",
        "# merging the articles and predictions dataframe\n",
        "alxn_sent = alxn_art.merge(alxn_preds, left_index = True, right_index=True)\n",
        "alxn_sent.head()"
      ],
      "execution_count": 41,
      "outputs": [
        {
          "output_type": "execute_result",
          "data": {
            "text/html": [
              "<div>\n",
              "<style scoped>\n",
              "    .dataframe tbody tr th:only-of-type {\n",
              "        vertical-align: middle;\n",
              "    }\n",
              "\n",
              "    .dataframe tbody tr th {\n",
              "        vertical-align: top;\n",
              "    }\n",
              "\n",
              "    .dataframe thead th {\n",
              "        text-align: right;\n",
              "    }\n",
              "</style>\n",
              "<table border=\"1\" class=\"dataframe\">\n",
              "  <thead>\n",
              "    <tr style=\"text-align: right;\">\n",
              "      <th></th>\n",
              "      <th>index</th>\n",
              "      <th>title</th>\n",
              "      <th>date</th>\n",
              "      <th>0</th>\n",
              "      <th>1</th>\n",
              "      <th>2</th>\n",
              "    </tr>\n",
              "  </thead>\n",
              "  <tbody>\n",
              "    <tr>\n",
              "      <th>0</th>\n",
              "      <td>0</td>\n",
              "      <td>CVS Walgreens Hiring To Help With Vaccine Dist...</td>\n",
              "      <td>2020-12-23</td>\n",
              "      <td>0.000063</td>\n",
              "      <td>0.997617</td>\n",
              "      <td>0.002320</td>\n",
              "    </tr>\n",
              "    <tr>\n",
              "      <th>1</th>\n",
              "      <td>3</td>\n",
              "      <td>FDA approves Covid vaccine emergency use reach...</td>\n",
              "      <td>2020-12-22</td>\n",
              "      <td>0.000439</td>\n",
              "      <td>0.021179</td>\n",
              "      <td>0.978383</td>\n",
              "    </tr>\n",
              "    <tr>\n",
              "      <th>2</th>\n",
              "      <td>7</td>\n",
              "      <td>Should Investors Consider This Biotech Takeover</td>\n",
              "      <td>2020-12-22</td>\n",
              "      <td>0.000130</td>\n",
              "      <td>0.996669</td>\n",
              "      <td>0.003201</td>\n",
              "    </tr>\n",
              "    <tr>\n",
              "      <th>3</th>\n",
              "      <td>12</td>\n",
              "      <td>Daniel Bazarko Net worth insider trading</td>\n",
              "      <td>2020-12-21</td>\n",
              "      <td>0.000064</td>\n",
              "      <td>0.997796</td>\n",
              "      <td>0.002141</td>\n",
              "    </tr>\n",
              "    <tr>\n",
              "      <th>4</th>\n",
              "      <td>13</td>\n",
              "      <td>3 Biotech Stocks That Could Explode Higher 2021</td>\n",
              "      <td>2020-12-21</td>\n",
              "      <td>0.001398</td>\n",
              "      <td>0.959625</td>\n",
              "      <td>0.038977</td>\n",
              "    </tr>\n",
              "  </tbody>\n",
              "</table>\n",
              "</div>"
            ],
            "text/plain": [
              "   index                                              title  ...         1         2\n",
              "0      0  CVS Walgreens Hiring To Help With Vaccine Dist...  ...  0.997617  0.002320\n",
              "1      3  FDA approves Covid vaccine emergency use reach...  ...  0.021179  0.978383\n",
              "2      7    Should Investors Consider This Biotech Takeover  ...  0.996669  0.003201\n",
              "3     12           Daniel Bazarko Net worth insider trading  ...  0.997796  0.002141\n",
              "4     13    3 Biotech Stocks That Could Explode Higher 2021  ...  0.959625  0.038977\n",
              "\n",
              "[5 rows x 6 columns]"
            ]
          },
          "metadata": {
            "tags": []
          },
          "execution_count": 41
        }
      ]
    },
    {
      "cell_type": "code",
      "metadata": {
        "id": "2h8P0sfhfHxv",
        "colab": {
          "base_uri": "https://localhost:8080/",
          "height": 277
        },
        "outputId": "43f55788-4cc3-482f-f75f-5c0e44adfa57"
      },
      "source": [
        "# checking the variability of the class columns\r\n",
        "# the differences between the values seem to be high enough\r\n",
        "alxn_sent.describe()"
      ],
      "execution_count": 42,
      "outputs": [
        {
          "output_type": "execute_result",
          "data": {
            "text/html": [
              "<div>\n",
              "<style scoped>\n",
              "    .dataframe tbody tr th:only-of-type {\n",
              "        vertical-align: middle;\n",
              "    }\n",
              "\n",
              "    .dataframe tbody tr th {\n",
              "        vertical-align: top;\n",
              "    }\n",
              "\n",
              "    .dataframe thead th {\n",
              "        text-align: right;\n",
              "    }\n",
              "</style>\n",
              "<table border=\"1\" class=\"dataframe\">\n",
              "  <thead>\n",
              "    <tr style=\"text-align: right;\">\n",
              "      <th></th>\n",
              "      <th>index</th>\n",
              "      <th>0</th>\n",
              "      <th>1</th>\n",
              "      <th>2</th>\n",
              "    </tr>\n",
              "  </thead>\n",
              "  <tbody>\n",
              "    <tr>\n",
              "      <th>count</th>\n",
              "      <td>1092.000000</td>\n",
              "      <td>1092.000000</td>\n",
              "      <td>1092.000000</td>\n",
              "      <td>1092.000000</td>\n",
              "    </tr>\n",
              "    <tr>\n",
              "      <th>mean</th>\n",
              "      <td>3158.169414</td>\n",
              "      <td>0.044014</td>\n",
              "      <td>0.727897</td>\n",
              "      <td>0.228088</td>\n",
              "    </tr>\n",
              "    <tr>\n",
              "      <th>std</th>\n",
              "      <td>2185.939209</td>\n",
              "      <td>0.187985</td>\n",
              "      <td>0.415086</td>\n",
              "      <td>0.390551</td>\n",
              "    </tr>\n",
              "    <tr>\n",
              "      <th>min</th>\n",
              "      <td>0.000000</td>\n",
              "      <td>0.000057</td>\n",
              "      <td>0.000720</td>\n",
              "      <td>0.002058</td>\n",
              "    </tr>\n",
              "    <tr>\n",
              "      <th>25%</th>\n",
              "      <td>1230.750000</td>\n",
              "      <td>0.000069</td>\n",
              "      <td>0.320433</td>\n",
              "      <td>0.002330</td>\n",
              "    </tr>\n",
              "    <tr>\n",
              "      <th>50%</th>\n",
              "      <td>2870.000000</td>\n",
              "      <td>0.000131</td>\n",
              "      <td>0.996543</td>\n",
              "      <td>0.003339</td>\n",
              "    </tr>\n",
              "    <tr>\n",
              "      <th>75%</th>\n",
              "      <td>5149.750000</td>\n",
              "      <td>0.000762</td>\n",
              "      <td>0.997605</td>\n",
              "      <td>0.246552</td>\n",
              "    </tr>\n",
              "    <tr>\n",
              "      <th>max</th>\n",
              "      <td>7097.000000</td>\n",
              "      <td>0.979052</td>\n",
              "      <td>0.997879</td>\n",
              "      <td>0.998380</td>\n",
              "    </tr>\n",
              "  </tbody>\n",
              "</table>\n",
              "</div>"
            ],
            "text/plain": [
              "             index            0            1            2\n",
              "count  1092.000000  1092.000000  1092.000000  1092.000000\n",
              "mean   3158.169414     0.044014     0.727897     0.228088\n",
              "std    2185.939209     0.187985     0.415086     0.390551\n",
              "min       0.000000     0.000057     0.000720     0.002058\n",
              "25%    1230.750000     0.000069     0.320433     0.002330\n",
              "50%    2870.000000     0.000131     0.996543     0.003339\n",
              "75%    5149.750000     0.000762     0.997605     0.246552\n",
              "max    7097.000000     0.979052     0.997879     0.998380"
            ]
          },
          "metadata": {
            "tags": []
          },
          "execution_count": 42
        }
      ]
    },
    {
      "cell_type": "code",
      "metadata": {
        "id": "rh8DgQfYEK9J",
        "colab": {
          "base_uri": "https://localhost:8080/",
          "height": 220
        },
        "outputId": "638ea500-ffcc-43af-9cfc-a6231ce873cf"
      },
      "source": [
        "alxn_sent = alxn_sent.groupby([\"date\"]).mean()\r\n",
        "alxn_sent.rename(columns = {0:'negative',1:'neutral',2:'positive'}, inplace = True)\r\n",
        "alxn_sent = alxn_sent.loc[:,[\"negative\",\"neutral\",\"positive\"]]\r\n",
        "alxn_sent.head()"
      ],
      "execution_count": 43,
      "outputs": [
        {
          "output_type": "execute_result",
          "data": {
            "text/html": [
              "<div>\n",
              "<style scoped>\n",
              "    .dataframe tbody tr th:only-of-type {\n",
              "        vertical-align: middle;\n",
              "    }\n",
              "\n",
              "    .dataframe tbody tr th {\n",
              "        vertical-align: top;\n",
              "    }\n",
              "\n",
              "    .dataframe thead th {\n",
              "        text-align: right;\n",
              "    }\n",
              "</style>\n",
              "<table border=\"1\" class=\"dataframe\">\n",
              "  <thead>\n",
              "    <tr style=\"text-align: right;\">\n",
              "      <th></th>\n",
              "      <th>negative</th>\n",
              "      <th>neutral</th>\n",
              "      <th>positive</th>\n",
              "    </tr>\n",
              "    <tr>\n",
              "      <th>date</th>\n",
              "      <th></th>\n",
              "      <th></th>\n",
              "      <th></th>\n",
              "    </tr>\n",
              "  </thead>\n",
              "  <tbody>\n",
              "    <tr>\n",
              "      <th>2019-01-03</th>\n",
              "      <td>0.000179</td>\n",
              "      <td>0.748008</td>\n",
              "      <td>0.251813</td>\n",
              "    </tr>\n",
              "    <tr>\n",
              "      <th>2019-01-05</th>\n",
              "      <td>0.000681</td>\n",
              "      <td>0.973831</td>\n",
              "      <td>0.025488</td>\n",
              "    </tr>\n",
              "    <tr>\n",
              "      <th>2019-01-06</th>\n",
              "      <td>0.000074</td>\n",
              "      <td>0.997519</td>\n",
              "      <td>0.002407</td>\n",
              "    </tr>\n",
              "    <tr>\n",
              "      <th>2019-01-07</th>\n",
              "      <td>0.000083</td>\n",
              "      <td>0.997097</td>\n",
              "      <td>0.002820</td>\n",
              "    </tr>\n",
              "    <tr>\n",
              "      <th>2019-01-08</th>\n",
              "      <td>0.000087</td>\n",
              "      <td>0.997104</td>\n",
              "      <td>0.002809</td>\n",
              "    </tr>\n",
              "  </tbody>\n",
              "</table>\n",
              "</div>"
            ],
            "text/plain": [
              "            negative   neutral  positive\n",
              "date                                    \n",
              "2019-01-03  0.000179  0.748008  0.251813\n",
              "2019-01-05  0.000681  0.973831  0.025488\n",
              "2019-01-06  0.000074  0.997519  0.002407\n",
              "2019-01-07  0.000083  0.997097  0.002820\n",
              "2019-01-08  0.000087  0.997104  0.002809"
            ]
          },
          "metadata": {
            "tags": []
          },
          "execution_count": 43
        }
      ]
    },
    {
      "cell_type": "markdown",
      "metadata": {
        "id": "DQPNTcfqhJ_I"
      },
      "source": [
        "## 1.6 Building an embedding layer"
      ]
    },
    {
      "cell_type": "code",
      "metadata": {
        "id": "XI_Uu9UcALA0"
      },
      "source": [
        "articles = pd.read_csv(\"https://github.com/AnnaBujniewicz/semester_project/blob/main/data/raw_partner_headlines.csv.zip?raw=true\", compression = \"zip\")"
      ],
      "execution_count": 44,
      "outputs": []
    },
    {
      "cell_type": "code",
      "metadata": {
        "id": "rIGenE9zAYsG",
        "colab": {
          "base_uri": "https://localhost:8080/",
          "height": 191
        },
        "outputId": "befcbb6f-e7cd-432e-c197-85c2d301a181"
      },
      "source": [
        "articles_for_embed = pd.DataFrame(articles.loc[:,\"headline\"])\r\n",
        "sent_df_for_embed = pd.DataFrame(sent_df[\"title\"])\r\n",
        "embed = pd.concat([sent_df_for_embed,articles_for_embed], ignore_index = True)\r\n",
        "embed[\"title\"].fillna(embed[\"headline\"], inplace = True)\r\n",
        "embed = embed.loc[:,[\"title\"]]\r\n",
        "embed1 = embed[:int(len(embed)/3)]\r\n",
        "embed2 = embed[int(len(embed)/3):int(len(embed)*(2/3))].reset_index()\r\n",
        "embed3 = embed[int(len(embed)*(2/3)):].reset_index()\r\n",
        "embed1[\"title2\"] = embed2[\"title\"]\r\n",
        "embed1[\"title3\"] = embed3[\"title\"]\r\n",
        "embed1[\"titles\"] = embed1[\"title\"]+ \" \" + embed1[\"title2\"]+ \" \" +embed1[\"title3\"]\r\n",
        "embed = embed1.loc[:,[\"titles\"]]\r\n",
        "titles_for_embedding = embed[\"titles\"]\r\n",
        "embed.head()"
      ],
      "execution_count": 45,
      "outputs": [
        {
          "output_type": "execute_result",
          "data": {
            "text/html": [
              "<div>\n",
              "<style scoped>\n",
              "    .dataframe tbody tr th:only-of-type {\n",
              "        vertical-align: middle;\n",
              "    }\n",
              "\n",
              "    .dataframe tbody tr th {\n",
              "        vertical-align: top;\n",
              "    }\n",
              "\n",
              "    .dataframe thead th {\n",
              "        text-align: right;\n",
              "    }\n",
              "</style>\n",
              "<table border=\"1\" class=\"dataframe\">\n",
              "  <thead>\n",
              "    <tr style=\"text-align: right;\">\n",
              "      <th></th>\n",
              "      <th>titles</th>\n",
              "    </tr>\n",
              "  </thead>\n",
              "  <tbody>\n",
              "    <tr>\n",
              "      <th>0</th>\n",
              "      <td>Technopolis plan develop stage area le square ...</td>\n",
              "    </tr>\n",
              "    <tr>\n",
              "      <th>1</th>\n",
              "      <td>The international electronic industry company ...</td>\n",
              "    </tr>\n",
              "    <tr>\n",
              "      <th>2</th>\n",
              "      <td>With new production plant company would increa...</td>\n",
              "    </tr>\n",
              "    <tr>\n",
              "      <th>3</th>\n",
              "      <td>According company updated strategy year Baswar...</td>\n",
              "    </tr>\n",
              "    <tr>\n",
              "      <th>4</th>\n",
              "      <td>FINANCING OF ASPOCOMP GROWTH Aspocomp aggressi...</td>\n",
              "    </tr>\n",
              "  </tbody>\n",
              "</table>\n",
              "</div>"
            ],
            "text/plain": [
              "                                              titles\n",
              "0  Technopolis plan develop stage area le square ...\n",
              "1  The international electronic industry company ...\n",
              "2  With new production plant company would increa...\n",
              "3  According company updated strategy year Baswar...\n",
              "4  FINANCING OF ASPOCOMP GROWTH Aspocomp aggressi..."
            ]
          },
          "metadata": {
            "tags": []
          },
          "execution_count": 45
        }
      ]
    },
    {
      "cell_type": "code",
      "metadata": {
        "colab": {
          "base_uri": "https://localhost:8080/"
        },
        "id": "SsgnNBbQJoRK",
        "outputId": "ff53eb11-e07a-4059-bbf8-b7990a45e5e4"
      },
      "source": [
        "embed1[\"words\"] = embed1[\"titles\"].map(lambda x: len(x.split()))\r\n",
        "embed1[\"words\"].describe()"
      ],
      "execution_count": 46,
      "outputs": [
        {
          "output_type": "execute_result",
          "data": {
            "text/plain": [
              "count    616801.000000\n",
              "mean         27.573582\n",
              "std           5.515953\n",
              "min           7.000000\n",
              "25%          24.000000\n",
              "50%          27.000000\n",
              "75%          31.000000\n",
              "max          67.000000\n",
              "Name: words, dtype: float64"
            ]
          },
          "metadata": {
            "tags": []
          },
          "execution_count": 46
        }
      ]
    },
    {
      "cell_type": "code",
      "metadata": {
        "id": "lSwyevOGg2iY"
      },
      "source": [
        "# creating a tokenizer instance\n",
        "tokenizer = Tokenizer()\n",
        "# fitting the tokenizer on the training set\n",
        "tokenizer.fit_on_texts(titles_for_embedding)\n",
        "# finding the vocabulary size equal to 90% of all the used words\n",
        "vocab_size = int((len(tokenizer.word_index) + 1)*0.9)"
      ],
      "execution_count": 47,
      "outputs": []
    },
    {
      "cell_type": "code",
      "metadata": {
        "id": "VB8Z78ghg4nM"
      },
      "source": [
        "# creating a tokenizer instance - this time with a correct number of words\n",
        "tokenizer = Tokenizer(num_words=vocab_size)\n",
        "# fitting it to the train set\n",
        "tokenizer.fit_on_texts(titles_for_embedding)"
      ],
      "execution_count": 48,
      "outputs": []
    },
    {
      "cell_type": "code",
      "metadata": {
        "id": "33LLHRuWhOxc",
        "colab": {
          "base_uri": "https://localhost:8080/"
        },
        "outputId": "b37e097e-25cb-411e-bb9c-f96405a7ce2a"
      },
      "source": [
        "# initiating a word2vec model\n",
        "w2v_model = gensim.models.word2vec.Word2Vec(size=100, window = 5, min_count = 1, workers = 4)\n",
        "# creating a list of all words\n",
        "documents = [_title.split() for _title in embed.titles]\n",
        "#  using the list of all words as vocabulary\n",
        "w2v_model.build_vocab(documents)\n",
        "# assigning all the unique words to a new variable - words\n",
        "words = w2v_model.wv.vocab.keys()\n",
        "# creating a new variable vocab_size that's the number of all the used words\n",
        "vocab_size = len(words)\n",
        "# training the model based on the list of all the words\n",
        "w2v_model.train(documents, total_examples=len(documents), epochs=16)\n",
        "# checking the most similar words to industry\n",
        "# it seems to work\n",
        "w2v_model.most_similar(\"sector\")"
      ],
      "execution_count": 49,
      "outputs": [
        {
          "output_type": "execute_result",
          "data": {
            "text/plain": [
              "[('stocks', 0.6917380094528198),\n",
              " ('distressed', 0.6313723921775818),\n",
              " ('retailers', 0.6220848560333252),\n",
              " ('industry', 0.6216937303543091),\n",
              " ('sectors', 0.6057112216949463),\n",
              " ('averages', 0.6055923700332642),\n",
              " ('athletic', 0.6045375466346741),\n",
              " ('sauce', 0.6042302250862122),\n",
              " ('chains', 0.6036836504936218),\n",
              " ('giants', 0.599871814250946)]"
            ]
          },
          "metadata": {
            "tags": []
          },
          "execution_count": 49
        }
      ]
    },
    {
      "cell_type": "code",
      "metadata": {
        "id": "tl6A5Ctyheyc"
      },
      "source": [
        "# creating a matrix filled with 0\n",
        "embedding_matrix = np.zeros((vocab_size, 100))\n",
        "# iterating over the words in the previously used tokenizer\n",
        "for word, i in tokenizer.word_index.items():\n",
        "# checking if a given word appears in the model\n",
        "  if word in w2v_model.wv:\n",
        "# filling the matrix with the word vectors\n",
        "    embedding_matrix[i] = w2v_model.wv[word]"
      ],
      "execution_count": 50,
      "outputs": []
    },
    {
      "cell_type": "code",
      "metadata": {
        "id": "rtFjq4uRhhmH"
      },
      "source": [
        "# creating a non-trainable embedding layer using the embedding matrix\n",
        "embedding_layer = layers.Embedding(vocab_size, 100, weights=[embedding_matrix], input_length=60, trainable=False)"
      ],
      "execution_count": 51,
      "outputs": []
    },
    {
      "cell_type": "markdown",
      "metadata": {
        "id": "TlLhjRt8V6vT"
      },
      "source": [
        "## 1.7 Preparing the stock data and sentiment data"
      ]
    },
    {
      "cell_type": "code",
      "metadata": {
        "colab": {
          "base_uri": "https://localhost:8080/",
          "height": 191
        },
        "id": "96hujXaCV_Op",
        "outputId": "b99fec32-16ea-4bad-a3d2-e9b338ca8d67"
      },
      "source": [
        "yf_df = pd.read_csv(\"https://raw.githubusercontent.com/AnnaBujniewicz/semester_project/main/data/yf_chosen_comp.csv\")\r\n",
        "yf_df.head()"
      ],
      "execution_count": 52,
      "outputs": [
        {
          "output_type": "execute_result",
          "data": {
            "text/html": [
              "<div>\n",
              "<style scoped>\n",
              "    .dataframe tbody tr th:only-of-type {\n",
              "        vertical-align: middle;\n",
              "    }\n",
              "\n",
              "    .dataframe tbody tr th {\n",
              "        vertical-align: top;\n",
              "    }\n",
              "\n",
              "    .dataframe thead th {\n",
              "        text-align: right;\n",
              "    }\n",
              "</style>\n",
              "<table border=\"1\" class=\"dataframe\">\n",
              "  <thead>\n",
              "    <tr style=\"text-align: right;\">\n",
              "      <th></th>\n",
              "      <th>date</th>\n",
              "      <th>TSLA</th>\n",
              "      <th>GOOGL</th>\n",
              "      <th>ALXN</th>\n",
              "      <th>AMZN</th>\n",
              "    </tr>\n",
              "  </thead>\n",
              "  <tbody>\n",
              "    <tr>\n",
              "      <th>0</th>\n",
              "      <td>2019-01-02</td>\n",
              "      <td>62.023998</td>\n",
              "      <td>1054.680054</td>\n",
              "      <td>98.050003</td>\n",
              "      <td>1539.130005</td>\n",
              "    </tr>\n",
              "    <tr>\n",
              "      <th>1</th>\n",
              "      <td>2019-01-03</td>\n",
              "      <td>60.071999</td>\n",
              "      <td>1025.469971</td>\n",
              "      <td>100.209999</td>\n",
              "      <td>1500.280029</td>\n",
              "    </tr>\n",
              "    <tr>\n",
              "      <th>2</th>\n",
              "      <td>2019-01-04</td>\n",
              "      <td>63.537998</td>\n",
              "      <td>1078.069946</td>\n",
              "      <td>106.000000</td>\n",
              "      <td>1575.390015</td>\n",
              "    </tr>\n",
              "    <tr>\n",
              "      <th>3</th>\n",
              "      <td>2019-01-07</td>\n",
              "      <td>66.991997</td>\n",
              "      <td>1075.920044</td>\n",
              "      <td>107.940002</td>\n",
              "      <td>1629.510010</td>\n",
              "    </tr>\n",
              "    <tr>\n",
              "      <th>4</th>\n",
              "      <td>2019-01-08</td>\n",
              "      <td>67.070000</td>\n",
              "      <td>1085.369995</td>\n",
              "      <td>108.610001</td>\n",
              "      <td>1656.579956</td>\n",
              "    </tr>\n",
              "  </tbody>\n",
              "</table>\n",
              "</div>"
            ],
            "text/plain": [
              "         date       TSLA        GOOGL        ALXN         AMZN\n",
              "0  2019-01-02  62.023998  1054.680054   98.050003  1539.130005\n",
              "1  2019-01-03  60.071999  1025.469971  100.209999  1500.280029\n",
              "2  2019-01-04  63.537998  1078.069946  106.000000  1575.390015\n",
              "3  2019-01-07  66.991997  1075.920044  107.940002  1629.510010\n",
              "4  2019-01-08  67.070000  1085.369995  108.610001  1656.579956"
            ]
          },
          "metadata": {
            "tags": []
          },
          "execution_count": 52
        }
      ]
    },
    {
      "cell_type": "code",
      "metadata": {
        "id": "hnR5E6eXWYcE",
        "colab": {
          "base_uri": "https://localhost:8080/",
          "height": 220
        },
        "outputId": "a01c639f-0ffc-4a0e-d327-bd470196445d"
      },
      "source": [
        "yf_df.set_index(\"date\", inplace = True)\r\n",
        "yf_df = yf_df.loc[:,[\"ALXN\"]]\r\n",
        "\r\n",
        "scaler = MinMaxScaler(feature_range=(0, 1))\r\n",
        "# scaling the close column\r\n",
        "yf_df['ALXN'] = scaler.fit_transform(yf_df['ALXN'].values.reshape(-1,1))\r\n",
        "\r\n",
        "yf_df['ALXN-1'] = yf_df['ALXN']\r\n",
        "# shifting the column 25 days back (so roughly a month as we exclude weekends)\r\n",
        "yf_df['ALXN-1'] = yf_df['ALXN-1'].shift(1)\r\n",
        "\r\n",
        "yf_df.dropna(inplace = True)\r\n",
        "yf_df.head()"
      ],
      "execution_count": 53,
      "outputs": [
        {
          "output_type": "execute_result",
          "data": {
            "text/html": [
              "<div>\n",
              "<style scoped>\n",
              "    .dataframe tbody tr th:only-of-type {\n",
              "        vertical-align: middle;\n",
              "    }\n",
              "\n",
              "    .dataframe tbody tr th {\n",
              "        vertical-align: top;\n",
              "    }\n",
              "\n",
              "    .dataframe thead th {\n",
              "        text-align: right;\n",
              "    }\n",
              "</style>\n",
              "<table border=\"1\" class=\"dataframe\">\n",
              "  <thead>\n",
              "    <tr style=\"text-align: right;\">\n",
              "      <th></th>\n",
              "      <th>ALXN</th>\n",
              "      <th>ALXN-1</th>\n",
              "    </tr>\n",
              "    <tr>\n",
              "      <th>date</th>\n",
              "      <th></th>\n",
              "      <th></th>\n",
              "    </tr>\n",
              "  </thead>\n",
              "  <tbody>\n",
              "    <tr>\n",
              "      <th>2019-01-03</th>\n",
              "      <td>0.374962</td>\n",
              "      <td>0.342105</td>\n",
              "    </tr>\n",
              "    <tr>\n",
              "      <th>2019-01-04</th>\n",
              "      <td>0.463036</td>\n",
              "      <td>0.374962</td>\n",
              "    </tr>\n",
              "    <tr>\n",
              "      <th>2019-01-07</th>\n",
              "      <td>0.492546</td>\n",
              "      <td>0.463036</td>\n",
              "    </tr>\n",
              "    <tr>\n",
              "      <th>2019-01-08</th>\n",
              "      <td>0.502738</td>\n",
              "      <td>0.492546</td>\n",
              "    </tr>\n",
              "    <tr>\n",
              "      <th>2019-01-09</th>\n",
              "      <td>0.523273</td>\n",
              "      <td>0.502738</td>\n",
              "    </tr>\n",
              "  </tbody>\n",
              "</table>\n",
              "</div>"
            ],
            "text/plain": [
              "                ALXN    ALXN-1\n",
              "date                          \n",
              "2019-01-03  0.374962  0.342105\n",
              "2019-01-04  0.463036  0.374962\n",
              "2019-01-07  0.492546  0.463036\n",
              "2019-01-08  0.502738  0.492546\n",
              "2019-01-09  0.523273  0.502738"
            ]
          },
          "metadata": {
            "tags": []
          },
          "execution_count": 53
        }
      ]
    },
    {
      "cell_type": "code",
      "metadata": {
        "colab": {
          "base_uri": "https://localhost:8080/",
          "height": 220
        },
        "id": "caw2kwY4ZQYg",
        "outputId": "6c1fe785-b3f4-439e-a316-27a4f9384593"
      },
      "source": [
        "data_with_sent = yf_df.merge(alxn_sent, how = \"left\", left_index = True, right_index=True)\r\n",
        "data_with_sent.ffill(inplace = True)\r\n",
        "data_with_sent.head()"
      ],
      "execution_count": 54,
      "outputs": [
        {
          "output_type": "execute_result",
          "data": {
            "text/html": [
              "<div>\n",
              "<style scoped>\n",
              "    .dataframe tbody tr th:only-of-type {\n",
              "        vertical-align: middle;\n",
              "    }\n",
              "\n",
              "    .dataframe tbody tr th {\n",
              "        vertical-align: top;\n",
              "    }\n",
              "\n",
              "    .dataframe thead th {\n",
              "        text-align: right;\n",
              "    }\n",
              "</style>\n",
              "<table border=\"1\" class=\"dataframe\">\n",
              "  <thead>\n",
              "    <tr style=\"text-align: right;\">\n",
              "      <th></th>\n",
              "      <th>ALXN</th>\n",
              "      <th>ALXN-1</th>\n",
              "      <th>negative</th>\n",
              "      <th>neutral</th>\n",
              "      <th>positive</th>\n",
              "    </tr>\n",
              "    <tr>\n",
              "      <th>date</th>\n",
              "      <th></th>\n",
              "      <th></th>\n",
              "      <th></th>\n",
              "      <th></th>\n",
              "      <th></th>\n",
              "    </tr>\n",
              "  </thead>\n",
              "  <tbody>\n",
              "    <tr>\n",
              "      <th>2019-01-03</th>\n",
              "      <td>0.374962</td>\n",
              "      <td>0.342105</td>\n",
              "      <td>0.000179</td>\n",
              "      <td>0.748008</td>\n",
              "      <td>0.251813</td>\n",
              "    </tr>\n",
              "    <tr>\n",
              "      <th>2019-01-04</th>\n",
              "      <td>0.463036</td>\n",
              "      <td>0.374962</td>\n",
              "      <td>0.000179</td>\n",
              "      <td>0.748008</td>\n",
              "      <td>0.251813</td>\n",
              "    </tr>\n",
              "    <tr>\n",
              "      <th>2019-01-07</th>\n",
              "      <td>0.492546</td>\n",
              "      <td>0.463036</td>\n",
              "      <td>0.000083</td>\n",
              "      <td>0.997097</td>\n",
              "      <td>0.002820</td>\n",
              "    </tr>\n",
              "    <tr>\n",
              "      <th>2019-01-08</th>\n",
              "      <td>0.502738</td>\n",
              "      <td>0.492546</td>\n",
              "      <td>0.000087</td>\n",
              "      <td>0.997104</td>\n",
              "      <td>0.002809</td>\n",
              "    </tr>\n",
              "    <tr>\n",
              "      <th>2019-01-09</th>\n",
              "      <td>0.523273</td>\n",
              "      <td>0.502738</td>\n",
              "      <td>0.001089</td>\n",
              "      <td>0.795416</td>\n",
              "      <td>0.203495</td>\n",
              "    </tr>\n",
              "  </tbody>\n",
              "</table>\n",
              "</div>"
            ],
            "text/plain": [
              "                ALXN    ALXN-1  negative   neutral  positive\n",
              "date                                                        \n",
              "2019-01-03  0.374962  0.342105  0.000179  0.748008  0.251813\n",
              "2019-01-04  0.463036  0.374962  0.000179  0.748008  0.251813\n",
              "2019-01-07  0.492546  0.463036  0.000083  0.997097  0.002820\n",
              "2019-01-08  0.502738  0.492546  0.000087  0.997104  0.002809\n",
              "2019-01-09  0.523273  0.502738  0.001089  0.795416  0.203495"
            ]
          },
          "metadata": {
            "tags": []
          },
          "execution_count": 54
        }
      ]
    },
    {
      "cell_type": "code",
      "metadata": {
        "id": "Zanodx2TaNah"
      },
      "source": [
        "X_train_sent = data_with_sent.iloc[:,1:][:int(len(data_with_sent[\"ALXN\"])*0.8)]\r\n",
        "X_test_sent = data_with_sent.iloc[:,1:][int(len(data_with_sent[\"ALXN\"])*0.8):]\r\n",
        "y_train_sent = data_with_sent[\"ALXN\"][:int(len(data_with_sent[\"ALXN\"])*0.8)]\r\n",
        "y_test_sent = data_with_sent[\"ALXN\"][int(len(data_with_sent[\"ALXN\"])*0.8):]"
      ],
      "execution_count": 55,
      "outputs": []
    },
    {
      "cell_type": "code",
      "metadata": {
        "id": "_w7-ua1vZgbF"
      },
      "source": [
        "X_train_sent = X_train_sent.values.reshape(-1,4)\r\n",
        "X_test_sent = X_test_sent.values.reshape(-1,4)\r\n",
        "y_train_sent = y_train_sent.values.reshape(-1,1)\r\n",
        "X_train_sent = np.reshape(X_train_sent, (X_train_sent.shape[0],1,4))\r\n",
        "X_test_sent = np.reshape(X_test_sent, (X_test_sent.shape[0],1,4))"
      ],
      "execution_count": 56,
      "outputs": []
    },
    {
      "cell_type": "markdown",
      "metadata": {
        "id": "1R_h8ee5KJI3"
      },
      "source": [
        "## 1.8 Preparing stock data with article titles"
      ]
    },
    {
      "cell_type": "code",
      "metadata": {
        "id": "wRb3zRLcKZ3e"
      },
      "source": [
        "alxn_title_by_date = {\"date\":[], \"titles\":[]}\r\n",
        "for date in alxn_art[\"date\"]:\r\n",
        "  alxn_title_by_date[\"titles\"].append(\" \".join(alxn_art[alxn_art[\"date\"]==date][\"title\"]))\r\n",
        "  alxn_title_by_date[\"date\"].append(date)"
      ],
      "execution_count": 57,
      "outputs": []
    },
    {
      "cell_type": "code",
      "metadata": {
        "id": "vCgv4xgeKcto"
      },
      "source": [
        "alxn_title_by_date = pd.DataFrame(alxn_title_by_date)\r\n",
        "alxn_title_by_date.drop_duplicates(inplace = True)\r\n",
        "alxn_title_by_date.reset_index(inplace = True)\r\n",
        "alxn_title_by_date.set_index(\"date\", inplace = True)\r\n",
        "alxn_title_by_date = yf_df.merge(alxn_title_by_date, how = \"left\", left_index = True, right_index=True)\r\n",
        "alxn_title_by_date.ffill(inplace = True)"
      ],
      "execution_count": 58,
      "outputs": []
    },
    {
      "cell_type": "code",
      "metadata": {
        "id": "XO5srJyYJ8zR"
      },
      "source": [
        "# creating a jpm_titles list from the headlines\r\n",
        "alxn_titles = alxn_title_by_date.titles\r\n",
        "# tokenizing it\r\n",
        "alxn_titles = tokenizer.texts_to_sequences(alxn_titles)\r\n",
        "# padding it to be 60, like the previous titles\r\n",
        "alxn_titles =  keras.preprocessing.sequence.pad_sequences(alxn_titles, maxlen=60)\r\n",
        "alxn_titles_embed = embedding_layer(alxn_titles)"
      ],
      "execution_count": 59,
      "outputs": []
    },
    {
      "cell_type": "code",
      "metadata": {
        "colab": {
          "base_uri": "https://localhost:8080/"
        },
        "id": "TPfanGMlerE1",
        "outputId": "f41391ef-433f-4574-91d3-4c88a61fbcdc"
      },
      "source": [
        "alxn_titles_embed"
      ],
      "execution_count": 61,
      "outputs": [
        {
          "output_type": "execute_result",
          "data": {
            "text/plain": [
              "<tf.Tensor: shape=(481, 60, 100), dtype=float32, numpy=\n",
              "array([[[ 0.        ,  0.        ,  0.        , ...,  0.        ,\n",
              "          0.        ,  0.        ],\n",
              "        [ 0.        ,  0.        ,  0.        , ...,  0.        ,\n",
              "          0.        ,  0.        ],\n",
              "        [ 0.        ,  0.        ,  0.        , ...,  0.        ,\n",
              "          0.        ,  0.        ],\n",
              "        ...,\n",
              "        [-1.3223467 , -3.1686358 , -2.438987  , ...,  1.369831  ,\n",
              "          5.3814178 ,  2.1723878 ],\n",
              "        [ 1.2439672 ,  0.7195486 ,  1.0566039 , ...,  0.40767038,\n",
              "          0.6122677 , -0.02442166],\n",
              "        [ 0.        ,  0.        ,  0.        , ...,  0.        ,\n",
              "          0.        ,  0.        ]],\n",
              "\n",
              "       [[ 0.        ,  0.        ,  0.        , ...,  0.        ,\n",
              "          0.        ,  0.        ],\n",
              "        [ 0.        ,  0.        ,  0.        , ...,  0.        ,\n",
              "          0.        ,  0.        ],\n",
              "        [ 0.        ,  0.        ,  0.        , ...,  0.        ,\n",
              "          0.        ,  0.        ],\n",
              "        ...,\n",
              "        [-1.3223467 , -3.1686358 , -2.438987  , ...,  1.369831  ,\n",
              "          5.3814178 ,  2.1723878 ],\n",
              "        [ 1.2439672 ,  0.7195486 ,  1.0566039 , ...,  0.40767038,\n",
              "          0.6122677 , -0.02442166],\n",
              "        [ 0.        ,  0.        ,  0.        , ...,  0.        ,\n",
              "          0.        ,  0.        ]],\n",
              "\n",
              "       [[ 0.        ,  0.        ,  0.        , ...,  0.        ,\n",
              "          0.        ,  0.        ],\n",
              "        [ 0.        ,  0.        ,  0.        , ...,  0.        ,\n",
              "          0.        ,  0.        ],\n",
              "        [ 0.        ,  0.        ,  0.        , ...,  0.        ,\n",
              "          0.        ,  0.        ],\n",
              "        ...,\n",
              "        [ 0.        ,  0.        ,  0.        , ...,  0.        ,\n",
              "          0.        ,  0.        ],\n",
              "        [ 2.4216444 ,  3.6098094 ,  0.40319484, ...,  1.0036135 ,\n",
              "          0.9554786 , -0.9497962 ],\n",
              "        [ 0.43845713,  0.5186405 ,  0.30465332, ...,  0.4920076 ,\n",
              "          0.08605246, -0.30924556]],\n",
              "\n",
              "       ...,\n",
              "\n",
              "       [[ 0.        ,  0.        ,  0.        , ...,  0.        ,\n",
              "          0.        ,  0.        ],\n",
              "        [ 0.        ,  0.        ,  0.        , ...,  0.        ,\n",
              "          0.        ,  0.        ],\n",
              "        [ 0.        ,  0.        ,  0.        , ...,  0.        ,\n",
              "          0.        ,  0.        ],\n",
              "        ...,\n",
              "        [ 1.8201152 ,  0.41870674,  0.20200558, ...,  0.19531928,\n",
              "          0.53404206, -0.5960723 ],\n",
              "        [ 0.2002571 ,  0.13998078,  0.10198585, ...,  0.28213066,\n",
              "          0.01707303, -0.05034693],\n",
              "        [ 3.2670937 , -1.0200994 ,  0.21193273, ...,  1.3570619 ,\n",
              "          3.746374  , -0.07344476]],\n",
              "\n",
              "       [[ 0.        ,  0.        ,  0.        , ...,  0.        ,\n",
              "          0.        ,  0.        ],\n",
              "        [ 0.        ,  0.        ,  0.        , ...,  0.        ,\n",
              "          0.        ,  0.        ],\n",
              "        [ 0.        ,  0.        ,  0.        , ...,  0.        ,\n",
              "          0.        ,  0.        ],\n",
              "        ...,\n",
              "        [ 1.8201152 ,  0.41870674,  0.20200558, ...,  0.19531928,\n",
              "          0.53404206, -0.5960723 ],\n",
              "        [ 0.2002571 ,  0.13998078,  0.10198585, ...,  0.28213066,\n",
              "          0.01707303, -0.05034693],\n",
              "        [ 3.2670937 , -1.0200994 ,  0.21193273, ...,  1.3570619 ,\n",
              "          3.746374  , -0.07344476]],\n",
              "\n",
              "       [[ 0.        ,  0.        ,  0.        , ...,  0.        ,\n",
              "          0.        ,  0.        ],\n",
              "        [ 0.        ,  0.        ,  0.        , ...,  0.        ,\n",
              "          0.        ,  0.        ],\n",
              "        [ 0.        ,  0.        ,  0.        , ...,  0.        ,\n",
              "          0.        ,  0.        ],\n",
              "        ...,\n",
              "        [ 1.8201152 ,  0.41870674,  0.20200558, ...,  0.19531928,\n",
              "          0.53404206, -0.5960723 ],\n",
              "        [ 0.2002571 ,  0.13998078,  0.10198585, ...,  0.28213066,\n",
              "          0.01707303, -0.05034693],\n",
              "        [ 3.2670937 , -1.0200994 ,  0.21193273, ...,  1.3570619 ,\n",
              "          3.746374  , -0.07344476]]], dtype=float32)>"
            ]
          },
          "metadata": {
            "tags": []
          },
          "execution_count": 61
        }
      ]
    },
    {
      "cell_type": "code",
      "metadata": {
        "id": "d3Y4uEZ9YtkW"
      },
      "source": [
        "def join_stock_and_embed(stock, tensor):\r\n",
        "  assert len(tensor.shape) == 2, \"Tensor should be of 2 dimensions nothing more\"\r\n",
        "  stock_tensor = np.repeat(stock, tensor.shape[-1])\r\n",
        "  new_tensor = np.concatenate((np.expand_dims(stock_tensor,0), tensor))\r\n",
        "  return new_tensor\r\n"
      ],
      "execution_count": 106,
      "outputs": []
    },
    {
      "cell_type": "code",
      "metadata": {
        "colab": {
          "base_uri": "https://localhost:8080/"
        },
        "id": "2rEYJhS4TzTi",
        "outputId": "099b75d1-bc6f-4f84-fb53-8efb03b23e13"
      },
      "source": [
        "target = yf_df[\"ALXN\"].tolist()\r\n",
        "stock = yf_df[\"ALXN-1\"].tolist()\r\n",
        "tensors = alxn_titles_embed.numpy()\r\n",
        "input_tensor = []\r\n",
        "\r\n",
        "assert (len(target), len(stock), len(tensors)) == (len(target), len(target), len(target))\r\n",
        "\r\n",
        "for i, x in enumerate(stock):\r\n",
        "  input_tensor.append(join_stock_and_embed(x, tensors[i]))\r\n",
        "\r\n",
        "np.asarray(input_tensor).shape\r\n"
      ],
      "execution_count": 107,
      "outputs": [
        {
          "output_type": "execute_result",
          "data": {
            "text/plain": [
              "(481, 61, 100)"
            ]
          },
          "metadata": {
            "tags": []
          },
          "execution_count": 107
        }
      ]
    },
    {
      "cell_type": "code",
      "metadata": {
        "id": "ucJa_gWyb8Lx"
      },
      "source": [
        "X_train_titl = np.asarray(input_tensor)[:int(np.asarray(input_tensor).shape[0]*0.8)]\r\n",
        "X_test_titl = np.asarray(input_tensor)[int(np.asarray(input_tensor).shape[0]*0.8):]\r\n",
        "y_train_titl = yf_df[\"ALXN\"][:int(len(yf_df[\"ALXN\"])*0.8)]\r\n",
        "y_test_titl = yf_df[\"ALXN\"][int(len(yf_df[\"ALXN\"])*0.8):]"
      ],
      "execution_count": 108,
      "outputs": []
    },
    {
      "cell_type": "code",
      "metadata": {
        "id": "PQtNU5qGdrxb"
      },
      "source": [
        "#X_train_sent = X_train_sent.values.reshape(-1,4)\r\n",
        "#X_test_sent = X_test_sent.values.reshape(-1,4)\r\n",
        "y_train_titl = y_train_titl.values.reshape(-1,1)\r\n",
        "#X_train_sent = np.reshape(X_train_sent, (X_train_sent.shape[0],1,4))\r\n",
        "#X_test_sent = np.reshape(X_test_sent, (X_test_sent.shape[0],1,4))"
      ],
      "execution_count": 109,
      "outputs": []
    },
    {
      "cell_type": "markdown",
      "metadata": {
        "id": "Re5JOrrJih-O"
      },
      "source": [
        "# 2 Neural network with sentiment analysis"
      ]
    },
    {
      "cell_type": "markdown",
      "metadata": {
        "id": "u5XUtUv1GQSJ"
      },
      "source": [
        "Scaling was not used for the new variables since they were already between 0 and 1. Additionally, the relation in between them is likely important to consider.\n"
      ]
    },
    {
      "cell_type": "code",
      "metadata": {
        "id": "9_sHqerzlY5l",
        "colab": {
          "base_uri": "https://localhost:8080/"
        },
        "outputId": "83fe30b0-f756-4fb9-f6b7-e439741bdeff"
      },
      "source": [
        "# creating a sequential model\n",
        "model = Sequential()\n",
        "# adding the firstLSTM layer with 128 neurons, 0.2 dropout and recurrent dropout and return_sequences = True (to connect another LSTM layer)\n",
        "model.add(layers.LSTM(128, return_sequences=True, dropout=0.2, recurrent_dropout=0.2, input_shape = (1,4)))\n",
        "# adding another LSTM layer - this time 64 neurons and no returning sequences\n",
        "model.add(layers.LSTM(64, dropout=0.2, recurrent_dropout=0.2))\n",
        "# adding a dropout layer with 0.5 dropout rate\n",
        "model.add(layers.Dropout(0.5))\n",
        "# adding a dense layer with 128 neurons\n",
        "model.add(layers.Dense(256, activation = \"relu\"))\n",
        "model.add(layers.Dense(128, activation = \"relu\"))\n",
        "# adding a dense layer with 64 neurons\n",
        "model.add(layers.Dense(64, activation = \"relu\"))\n",
        "# adding another dropout layer, this time just 0.2 dropout rate\n",
        "model.add(layers.Dropout(0.2))\n",
        "# adding the output layer with one neuron\n",
        "model.add(layers.Dense(1))"
      ],
      "execution_count": 122,
      "outputs": [
        {
          "output_type": "stream",
          "text": [
            "WARNING:tensorflow:Layer lstm_4 will not use cuDNN kernel since it doesn't meet the cuDNN kernel criteria. It will use generic GPU kernel as fallback when running on GPU\n"
          ],
          "name": "stdout"
        },
        {
          "output_type": "stream",
          "text": [
            "WARNING:tensorflow:Layer lstm_4 will not use cuDNN kernel since it doesn't meet the cuDNN kernel criteria. It will use generic GPU kernel as fallback when running on GPU\n"
          ],
          "name": "stderr"
        },
        {
          "output_type": "stream",
          "text": [
            "WARNING:tensorflow:Layer lstm_5 will not use cuDNN kernel since it doesn't meet the cuDNN kernel criteria. It will use generic GPU kernel as fallback when running on GPU\n"
          ],
          "name": "stdout"
        },
        {
          "output_type": "stream",
          "text": [
            "WARNING:tensorflow:Layer lstm_5 will not use cuDNN kernel since it doesn't meet the cuDNN kernel criteria. It will use generic GPU kernel as fallback when running on GPU\n"
          ],
          "name": "stderr"
        }
      ]
    },
    {
      "cell_type": "code",
      "metadata": {
        "id": "litLCXp6leJA"
      },
      "source": [
        "# defining early stopping with the patience of 5 periods\n",
        "stop = EarlyStopping(monitor = \"loss\", patience = 1, mode = \"min\", restore_best_weights=True)\n",
        "# the same learning rate as for the first model - again caused by stability issues\n",
        "opt = optimizers.Adam(learning_rate=0.0001)"
      ],
      "execution_count": 123,
      "outputs": []
    },
    {
      "cell_type": "code",
      "metadata": {
        "id": "65soyLFWl98-"
      },
      "source": [
        "# compiling the model\r\n",
        "model.compile(loss='mean_squared_error', optimizer=opt)"
      ],
      "execution_count": 124,
      "outputs": []
    },
    {
      "cell_type": "code",
      "metadata": {
        "id": "F6IQ7tUQl2oN",
        "colab": {
          "base_uri": "https://localhost:8080/"
        },
        "outputId": "bfb9f75e-b1dc-4087-9462-ecb386da1803"
      },
      "source": [
        "# fitting the model to the data\r\n",
        "history = model.fit(X_train_sent, y_train_sent, epochs=50, batch_size=1, verbose=1, callbacks = [stop])"
      ],
      "execution_count": 125,
      "outputs": [
        {
          "output_type": "stream",
          "text": [
            "Epoch 1/50\n",
            "384/384 [==============================] - 4s 5ms/step - loss: 0.2234\n",
            "Epoch 2/50\n",
            "384/384 [==============================] - 2s 6ms/step - loss: 0.0431\n",
            "Epoch 3/50\n",
            "384/384 [==============================] - 2s 6ms/step - loss: 0.0410\n",
            "Epoch 4/50\n",
            "384/384 [==============================] - 2s 5ms/step - loss: 0.0422\n",
            "Epoch 5/50\n",
            "384/384 [==============================] - 2s 6ms/step - loss: 0.0421\n",
            "Epoch 6/50\n",
            "384/384 [==============================] - 2s 5ms/step - loss: 0.0335\n",
            "Epoch 7/50\n",
            "384/384 [==============================] - 2s 5ms/step - loss: 0.0368\n"
          ],
          "name": "stdout"
        }
      ]
    },
    {
      "cell_type": "code",
      "metadata": {
        "id": "QCPBY0K1rSxZ"
      },
      "source": [
        "# predicting the data\r\n",
        "y_pred = model.predict(X_test_sent)"
      ],
      "execution_count": 126,
      "outputs": []
    },
    {
      "cell_type": "code",
      "metadata": {
        "id": "uDcR5GIxrWK8"
      },
      "source": [
        "# filling a column with missing values\n",
        "data_with_sent[\"pred\"] = np.nan\n",
        "# filling the column with the predictions\n",
        "data_with_sent[\"pred\"][int(len(data_with_sent[\"ALXN\"])*0.8):] = np.array(y_pred).squeeze(1)"
      ],
      "execution_count": 127,
      "outputs": []
    },
    {
      "cell_type": "code",
      "metadata": {
        "id": "ELMoh6GIraHb",
        "colab": {
          "base_uri": "https://localhost:8080/",
          "height": 525
        },
        "outputId": "9f8360dc-759f-401d-f2db-38c671bcfa0a"
      },
      "source": [
        "# plotting the predictions as an extension of the training data\n",
        "plt.figure(figsize=(12,8))\n",
        "plt.figure(figsize=(12,8))\n",
        "plt.xticks(rotation=45)\n",
        "plt.plot(data_with_sent.ALXN[:int(len(data_with_sent[\"ALXN\"])*0.8)])\n",
        "plt.plot(data_with_sent[\"pred\"][int(len(data_with_sent[\"ALXN\"])*0.8):])\n",
        "plt.legend(['Train','Predictions'], loc='upper_center')\n",
        "plt.show()"
      ],
      "execution_count": 128,
      "outputs": [
        {
          "output_type": "display_data",
          "data": {
            "text/plain": [
              "<Figure size 864x576 with 0 Axes>"
            ]
          },
          "metadata": {
            "tags": []
          }
        },
        {
          "output_type": "display_data",
          "data": {
            "image/png": "[encoded data removed]",
            "text/plain": [
              "<Figure size 864x576 with 1 Axes>"
            ]
          },
          "metadata": {
            "tags": [],
            "needs_background": "light"
          }
        }
      ]
    },
    {
      "cell_type": "code",
      "metadata": {
        "id": "Pd40IAqErdXU",
        "colab": {
          "base_uri": "https://localhost:8080/",
          "height": 537
        },
        "outputId": "71e59312-c18c-4629-f059-30df6daa1485"
      },
      "source": [
        "# plotting the predictions against the test data\n",
        "plt.figure(figsize=(12,8))\n",
        "plt.figure(figsize=(12,8))\n",
        "plt.xticks(rotation=45)\n",
        "plt.plot(y_test_sent)\n",
        "plt.plot(data_with_sent[\"pred\"][int(len(data_with_sent[\"ALXN\"])*0.8):])\n",
        "plt.legend(['Test','Predictions'], loc='upper_center')\n",
        "plt.show()"
      ],
      "execution_count": 129,
      "outputs": [
        {
          "output_type": "display_data",
          "data": {
            "text/plain": [
              "<Figure size 864x576 with 0 Axes>"
            ]
          },
          "metadata": {
            "tags": []
          }
        },
        {
          "output_type": "display_data",
          "data": {
            "image/png": "[encoded data removed]",
            "text/plain": [
              "<Figure size 864x576 with 1 Axes>"
            ]
          },
          "metadata": {
            "tags": [],
            "needs_background": "light"
          }
        }
      ]
    },
    {
      "cell_type": "code",
      "metadata": {
        "id": "bh3xxYL0rit4",
        "colab": {
          "base_uri": "https://localhost:8080/"
        },
        "outputId": "4bf8324d-6c18-4f59-e8b8-8333df3bdae3"
      },
      "source": [
        "# checking the mean squared error\r\n",
        "np.sqrt(np.mean(data_with_sent[\"pred\"][int(len(data_with_sent[\"ALXN\"])*0.8):] - y_test_sent)**2)"
      ],
      "execution_count": 130,
      "outputs": [
        {
          "output_type": "execute_result",
          "data": {
            "text/plain": [
              "0.03812370072199698"
            ]
          },
          "metadata": {
            "tags": []
          },
          "execution_count": 130
        }
      ]
    },
    {
      "cell_type": "markdown",
      "metadata": {
        "id": "GA4mreLb2NMV"
      },
      "source": [
        "# 3 Neural network for the articles with title text"
      ]
    },
    {
      "cell_type": "code",
      "metadata": {
        "id": "2LFC1dmIdfJG",
        "colab": {
          "base_uri": "https://localhost:8080/"
        },
        "outputId": "91207707-58cd-4d9d-efe2-603543486a18"
      },
      "source": [
        "# creating a sequential model\r\n",
        "model = Sequential()\r\n",
        "# adding the firstLSTM layer with 128 neurons, 0.2 dropout and recurrent dropout and return_sequences = True (to connect another LSTM layer)\r\n",
        "model.add(layers.LSTM(128, return_sequences=True, dropout=0.2, recurrent_dropout=0.2, input_shape = (61,100)))\r\n",
        "# adding another LSTM layer - this time 64 neurons and no returning sequences\r\n",
        "model.add(layers.LSTM(64, dropout=0.2, recurrent_dropout=0.2))\r\n",
        "# adding a dropout layer with 0.5 dropout rate\r\n",
        "model.add(layers.Dropout(0.5))\r\n",
        "# adding a dense layer with 128 neurons\r\n",
        "model.add(layers.Dense(256, activation = \"relu\"))\r\n",
        "model.add(layers.Dense(128, activation = \"relu\"))\r\n",
        "# adding a dense layer with 64 neurons\r\n",
        "model.add(layers.Dense(64, activation = \"relu\"))\r\n",
        "# adding another dropout layer, this time just 0.2 dropout rate\r\n",
        "model.add(layers.Dropout(0.2))\r\n",
        "# adding the output layer with one neuron\r\n",
        "model.add(layers.Dense(1))"
      ],
      "execution_count": 152,
      "outputs": [
        {
          "output_type": "stream",
          "text": [
            "WARNING:tensorflow:Layer lstm_8 will not use cuDNN kernel since it doesn't meet the cuDNN kernel criteria. It will use generic GPU kernel as fallback when running on GPU\n"
          ],
          "name": "stdout"
        },
        {
          "output_type": "stream",
          "text": [
            "WARNING:tensorflow:Layer lstm_8 will not use cuDNN kernel since it doesn't meet the cuDNN kernel criteria. It will use generic GPU kernel as fallback when running on GPU\n"
          ],
          "name": "stderr"
        },
        {
          "output_type": "stream",
          "text": [
            "WARNING:tensorflow:Layer lstm_9 will not use cuDNN kernel since it doesn't meet the cuDNN kernel criteria. It will use generic GPU kernel as fallback when running on GPU\n"
          ],
          "name": "stdout"
        },
        {
          "output_type": "stream",
          "text": [
            "WARNING:tensorflow:Layer lstm_9 will not use cuDNN kernel since it doesn't meet the cuDNN kernel criteria. It will use generic GPU kernel as fallback when running on GPU\n"
          ],
          "name": "stderr"
        }
      ]
    },
    {
      "cell_type": "code",
      "metadata": {
        "id": "ZGiLZ9pmdhmO"
      },
      "source": [
        "# defining early stopping with the patience of 5 periods\r\n",
        "stop = EarlyStopping(monitor = \"loss\", patience = 1, mode = \"min\", restore_best_weights=True)\r\n",
        "# the same learning rate as for the first model - again caused by stability issues\r\n",
        "opt = optimizers.Adam(learning_rate=0.0001)"
      ],
      "execution_count": 153,
      "outputs": []
    },
    {
      "cell_type": "code",
      "metadata": {
        "id": "xe0Gs0lfdjey"
      },
      "source": [
        "# compiling the model\r\n",
        "model.compile(loss='mean_squared_error', optimizer=opt)"
      ],
      "execution_count": 154,
      "outputs": []
    },
    {
      "cell_type": "code",
      "metadata": {
        "id": "HRJLSQdWdlaF",
        "colab": {
          "base_uri": "https://localhost:8080/"
        },
        "outputId": "6eb4532b-5855-49bb-8a96-1564bd11573c"
      },
      "source": [
        "# fitting the model to the data\r\n",
        "history = model.fit(X_train_titl, y_train_titl, epochs=50, batch_size=1, verbose=1, callbacks = [stop])"
      ],
      "execution_count": 155,
      "outputs": [
        {
          "output_type": "stream",
          "text": [
            "Epoch 1/50\n",
            "384/384 [==============================] - 71s 180ms/step - loss: 0.1989\n",
            "Epoch 2/50\n",
            "384/384 [==============================] - 66s 173ms/step - loss: 0.0546\n",
            "Epoch 3/50\n",
            "384/384 [==============================] - 68s 177ms/step - loss: 0.0492\n",
            "Epoch 4/50\n",
            "384/384 [==============================] - 67s 174ms/step - loss: 0.0524\n"
          ],
          "name": "stdout"
        }
      ]
    },
    {
      "cell_type": "code",
      "metadata": {
        "id": "AlwGIUW9doK6"
      },
      "source": [
        "# predicting the data\r\n",
        "y_pred = model.predict(X_test_titl)"
      ],
      "execution_count": 156,
      "outputs": []
    },
    {
      "cell_type": "code",
      "metadata": {
        "id": "Y4dgLpqJdqUR"
      },
      "source": [
        "# filling a column with missing values\r\n",
        "yf_df[\"pred\"] = np.nan\r\n",
        "# filling the column with the predictions\r\n",
        "yf_df[\"pred\"][int(len(yf_df[\"ALXN\"])*0.8):] = np.array(y_pred).squeeze(1)"
      ],
      "execution_count": 157,
      "outputs": []
    },
    {
      "cell_type": "code",
      "metadata": {
        "id": "bDPyK1W_dszt",
        "colab": {
          "base_uri": "https://localhost:8080/",
          "height": 537
        },
        "outputId": "ca96b200-93bf-4f6b-f916-26bfe8dc742c"
      },
      "source": [
        "# plotting the predictions as an extension of the training data\r\n",
        "plt.figure(figsize=(12,8))\r\n",
        "plt.figure(figsize=(12,8))\r\n",
        "plt.xticks(rotation=45)\r\n",
        "plt.plot(yf_df.ALXN[:int(len(yf_df[\"ALXN\"])*0.8)])\r\n",
        "plt.plot(yf_df[\"pred\"][int(len(yf_df[\"ALXN\"])*0.8):])\r\n",
        "plt.legend(['Train','Predictions'], loc='upper_center')\r\n",
        "plt.show()"
      ],
      "execution_count": 158,
      "outputs": [
        {
          "output_type": "display_data",
          "data": {
            "text/plain": [
              "<Figure size 864x576 with 0 Axes>"
            ]
          },
          "metadata": {
            "tags": []
          }
        },
        {
          "output_type": "display_data",
          "data": {
            "image/png": "[encoded data removed]",
            "text/plain": [
              "<Figure size 864x576 with 1 Axes>"
            ]
          },
          "metadata": {
            "tags": [],
            "needs_background": "light"
          }
        }
      ]
    },
    {
      "cell_type": "code",
      "metadata": {
        "id": "6buWu2KWdurW",
        "colab": {
          "base_uri": "https://localhost:8080/",
          "height": 537
        },
        "outputId": "238a339e-9923-4559-ff09-e00b76fefcec"
      },
      "source": [
        "# plotting the predictions against the test data\r\n",
        "plt.figure(figsize=(12,8))\r\n",
        "plt.figure(figsize=(12,8))\r\n",
        "plt.xticks(rotation=45)\r\n",
        "plt.plot(y_test_titl)\r\n",
        "plt.plot(yf_df[\"pred\"][int(len(yf_df[\"ALXN\"])*0.8):])\r\n",
        "plt.legend(['Test','Predictions'], loc='upper_center')\r\n",
        "plt.show()"
      ],
      "execution_count": 159,
      "outputs": [
        {
          "output_type": "display_data",
          "data": {
            "text/plain": [
              "<Figure size 864x576 with 0 Axes>"
            ]
          },
          "metadata": {
            "tags": []
          }
        },
        {
          "output_type": "display_data",
          "data": {
            "image/png": "[encoded data removed]",
            "text/plain": [
              "<Figure size 864x576 with 1 Axes>"
            ]
          },
          "metadata": {
            "tags": [],
            "needs_background": "light"
          }
        }
      ]
    },
    {
      "cell_type": "code",
      "metadata": {
        "id": "t7DXmuundwT1",
        "colab": {
          "base_uri": "https://localhost:8080/"
        },
        "outputId": "6abbea6b-e7d3-4b62-935b-f89d477be7f4"
      },
      "source": [
        "# checking the mean squared error\r\n",
        "np.sqrt(np.mean(yf_df[\"pred\"][int(len(data_with_sent[\"ALXN\"])*0.8):] - y_test_titl)**2)"
      ],
      "execution_count": 160,
      "outputs": [
        {
          "output_type": "execute_result",
          "data": {
            "text/plain": [
              "0.10286076903836819"
            ]
          },
          "metadata": {
            "tags": []
          },
          "execution_count": 160
        }
      ]
    }
  ]
}