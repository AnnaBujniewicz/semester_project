{
  "nbformat": 4,
  "nbformat_minor": 0,
  "metadata": {
    "colab": {
      "name": "ml models for stock data and titles",
      "provenance": [],
      "collapsed_sections": [
        "kxVS15ZV0rDP"
      ],
      "toc_visible": true,
      "include_colab_link": true
    },
    "kernelspec": {
      "name": "python3",
      "display_name": "Python 3"
    },
    "accelerator": "GPU",
    "widgets": {
      "application/vnd.jupyter.widget-state+json": {
        "4027822b4e6b4804b576bee0018cb223": {
          "model_module": "@jupyter-widgets/controls",
          "model_name": "HBoxModel",
          "state": {
            "_view_name": "HBoxView",
            "_dom_classes": [],
            "_model_name": "HBoxModel",
            "_view_module": "@jupyter-widgets/controls",
            "_model_module_version": "1.5.0",
            "_view_count": null,
            "_view_module_version": "1.5.0",
            "box_style": "",
            "layout": "IPY_MODEL_31ebe6dbb3d44b02abb0b9f9ba98500c",
            "_model_module": "@jupyter-widgets/controls",
            "children": [
              "IPY_MODEL_c3eb3ca7b3614048a279ead7323cdb8b",
              "IPY_MODEL_87597f0a89b84a8f953d100f7fd45309"
            ]
          }
        },
        "31ebe6dbb3d44b02abb0b9f9ba98500c": {
          "model_module": "@jupyter-widgets/base",
          "model_name": "LayoutModel",
          "state": {
            "_view_name": "LayoutView",
            "grid_template_rows": null,
            "right": null,
            "justify_content": null,
            "_view_module": "@jupyter-widgets/base",
            "overflow": null,
            "_model_module_version": "1.2.0",
            "_view_count": null,
            "flex_flow": null,
            "width": null,
            "min_width": null,
            "border": null,
            "align_items": null,
            "bottom": null,
            "_model_module": "@jupyter-widgets/base",
            "top": null,
            "grid_column": null,
            "overflow_y": null,
            "overflow_x": null,
            "grid_auto_flow": null,
            "grid_area": null,
            "grid_template_columns": null,
            "flex": null,
            "_model_name": "LayoutModel",
            "justify_items": null,
            "grid_row": null,
            "max_height": null,
            "align_content": null,
            "visibility": null,
            "align_self": null,
            "height": null,
            "min_height": null,
            "padding": null,
            "grid_auto_rows": null,
            "grid_gap": null,
            "max_width": null,
            "order": null,
            "_view_module_version": "1.2.0",
            "grid_template_areas": null,
            "object_position": null,
            "object_fit": null,
            "grid_auto_columns": null,
            "margin": null,
            "display": null,
            "left": null
          }
        },
        "c3eb3ca7b3614048a279ead7323cdb8b": {
          "model_module": "@jupyter-widgets/controls",
          "model_name": "FloatProgressModel",
          "state": {
            "_view_name": "ProgressView",
            "style": "IPY_MODEL_1b5f17c6589c44aeabaf5f827511928d",
            "_dom_classes": [],
            "description": "Downloading: 100%",
            "_model_name": "FloatProgressModel",
            "bar_style": "success",
            "max": 231508,
            "_view_module": "@jupyter-widgets/controls",
            "_model_module_version": "1.5.0",
            "value": 231508,
            "_view_count": null,
            "_view_module_version": "1.5.0",
            "orientation": "horizontal",
            "min": 0,
            "description_tooltip": null,
            "_model_module": "@jupyter-widgets/controls",
            "layout": "IPY_MODEL_ac726aff95e147c588e75433a243946c"
          }
        },
        "87597f0a89b84a8f953d100f7fd45309": {
          "model_module": "@jupyter-widgets/controls",
          "model_name": "HTMLModel",
          "state": {
            "_view_name": "HTMLView",
            "style": "IPY_MODEL_ebff337644ab4d3cb058570b54eb903e",
            "_dom_classes": [],
            "description": "",
            "_model_name": "HTMLModel",
            "placeholder": "​",
            "_view_module": "@jupyter-widgets/controls",
            "_model_module_version": "1.5.0",
            "value": " 232k/232k [00:00&lt;00:00, 3.22MB/s]",
            "_view_count": null,
            "_view_module_version": "1.5.0",
            "description_tooltip": null,
            "_model_module": "@jupyter-widgets/controls",
            "layout": "IPY_MODEL_9555a703495d480b81bf925e2e205069"
          }
        },
        "1b5f17c6589c44aeabaf5f827511928d": {
          "model_module": "@jupyter-widgets/controls",
          "model_name": "ProgressStyleModel",
          "state": {
            "_view_name": "StyleView",
            "_model_name": "ProgressStyleModel",
            "description_width": "initial",
            "_view_module": "@jupyter-widgets/base",
            "_model_module_version": "1.5.0",
            "_view_count": null,
            "_view_module_version": "1.2.0",
            "bar_color": null,
            "_model_module": "@jupyter-widgets/controls"
          }
        },
        "ac726aff95e147c588e75433a243946c": {
          "model_module": "@jupyter-widgets/base",
          "model_name": "LayoutModel",
          "state": {
            "_view_name": "LayoutView",
            "grid_template_rows": null,
            "right": null,
            "justify_content": null,
            "_view_module": "@jupyter-widgets/base",
            "overflow": null,
            "_model_module_version": "1.2.0",
            "_view_count": null,
            "flex_flow": null,
            "width": null,
            "min_width": null,
            "border": null,
            "align_items": null,
            "bottom": null,
            "_model_module": "@jupyter-widgets/base",
            "top": null,
            "grid_column": null,
            "overflow_y": null,
            "overflow_x": null,
            "grid_auto_flow": null,
            "grid_area": null,
            "grid_template_columns": null,
            "flex": null,
            "_model_name": "LayoutModel",
            "justify_items": null,
            "grid_row": null,
            "max_height": null,
            "align_content": null,
            "visibility": null,
            "align_self": null,
            "height": null,
            "min_height": null,
            "padding": null,
            "grid_auto_rows": null,
            "grid_gap": null,
            "max_width": null,
            "order": null,
            "_view_module_version": "1.2.0",
            "grid_template_areas": null,
            "object_position": null,
            "object_fit": null,
            "grid_auto_columns": null,
            "margin": null,
            "display": null,
            "left": null
          }
        },
        "ebff337644ab4d3cb058570b54eb903e": {
          "model_module": "@jupyter-widgets/controls",
          "model_name": "DescriptionStyleModel",
          "state": {
            "_view_name": "StyleView",
            "_model_name": "DescriptionStyleModel",
            "description_width": "",
            "_view_module": "@jupyter-widgets/base",
            "_model_module_version": "1.5.0",
            "_view_count": null,
            "_view_module_version": "1.2.0",
            "_model_module": "@jupyter-widgets/controls"
          }
        },
        "9555a703495d480b81bf925e2e205069": {
          "model_module": "@jupyter-widgets/base",
          "model_name": "LayoutModel",
          "state": {
            "_view_name": "LayoutView",
            "grid_template_rows": null,
            "right": null,
            "justify_content": null,
            "_view_module": "@jupyter-widgets/base",
            "overflow": null,
            "_model_module_version": "1.2.0",
            "_view_count": null,
            "flex_flow": null,
            "width": null,
            "min_width": null,
            "border": null,
            "align_items": null,
            "bottom": null,
            "_model_module": "@jupyter-widgets/base",
            "top": null,
            "grid_column": null,
            "overflow_y": null,
            "overflow_x": null,
            "grid_auto_flow": null,
            "grid_area": null,
            "grid_template_columns": null,
            "flex": null,
            "_model_name": "LayoutModel",
            "justify_items": null,
            "grid_row": null,
            "max_height": null,
            "align_content": null,
            "visibility": null,
            "align_self": null,
            "height": null,
            "min_height": null,
            "padding": null,
            "grid_auto_rows": null,
            "grid_gap": null,
            "max_width": null,
            "order": null,
            "_view_module_version": "1.2.0",
            "grid_template_areas": null,
            "object_position": null,
            "object_fit": null,
            "grid_auto_columns": null,
            "margin": null,
            "display": null,
            "left": null
          }
        }
      }
    }
  },
  "cells": [
    {
      "cell_type": "markdown",
      "metadata": {
        "id": "view-in-github",
        "colab_type": "text"
      },
      "source": [
        "<a href=\"https://colab.research.google.com/github/AnnaBujniewicz/semester_project/blob/main/ml_models_for_stock_data_and_titles.ipynb\" target=\"_parent\"><img src=\"https://colab.research.google.com/assets/colab-badge.svg\" alt=\"Open In Colab\"/></a>"
      ]
    },
    {
      "cell_type": "markdown",
      "metadata": {
        "id": "LkC1bBzAyGLR"
      },
      "source": [
        "# Initial steps"
      ]
    },
    {
      "cell_type": "code",
      "metadata": {
        "id": "KJnH3qVStGda",
        "colab": {
          "base_uri": "https://localhost:8080/"
        },
        "outputId": "3b051352-958e-4ef8-f692-5b967d064508"
      },
      "source": [
        "# importing the needed packages\n",
        "!pip install transformers &> /dev/null\n",
        "!pip install yfinance &> /dev/null\n",
        "!pip install bert-for-tf2 &> /dev/null\n",
        "import bert\n",
        "import os\n",
        "import tensorflow_hub as hub\n",
        "import pandas as pd\n",
        "import matplotlib.pyplot as plt\n",
        "import seaborn as sns\n",
        "import sklearn.metrics as metrics\n",
        "import numpy as np\n",
        "from sklearn.preprocessing import MinMaxScaler\n",
        "from keras.models import Sequential\n",
        "from keras import optimizers\n",
        "from keras.callbacks import EarlyStopping\n",
        "from tensorflow import keras\n",
        "from tensorflow.keras import layers\n",
        "import warnings\n",
        "import seaborn as sns\n",
        "from sklearn.model_selection import train_test_split\n",
        "from keras.preprocessing.text import Tokenizer\n",
        "from sklearn.preprocessing import LabelEncoder\n",
        "from sklearn.metrics import confusion_matrix, classification_report\n",
        "from keras.utils import np_utils\n",
        "import gensim\n",
        "from nltk.stem import WordNetLemmatizer\n",
        "import nltk\n",
        "nltk.download('stopwords')\n",
        "from nltk.corpus import stopwords\n",
        "from datetime import datetime\n",
        "nltk.download('wordnet')\n",
        "warnings.filterwarnings('ignore')\n",
        "from collections import Counter\n",
        "import itertools\n",
        "from nltk.tokenize import word_tokenize\n",
        "nltk.download('punkt')\n",
        "from keras import backend as K\n",
        "from transformers import BertTokenizer\n",
        "import torch\n",
        "import re\n",
        "import tensorflow as tf"
      ],
      "execution_count": 1,
      "outputs": [
        {
          "output_type": "stream",
          "text": [
            "[nltk_data] Downloading package stopwords to /root/nltk_data...\n",
            "[nltk_data]   Unzipping corpora/stopwords.zip.\n",
            "[nltk_data] Downloading package wordnet to /root/nltk_data...\n",
            "[nltk_data]   Unzipping corpora/wordnet.zip.\n",
            "[nltk_data] Downloading package punkt to /root/nltk_data...\n",
            "[nltk_data]   Unzipping tokenizers/punkt.zip.\n"
          ],
          "name": "stdout"
        }
      ]
    },
    {
      "cell_type": "markdown",
      "metadata": {
        "id": "ev6v54sjaO5N"
      },
      "source": [
        "# 1 Preparing data for the models"
      ]
    },
    {
      "cell_type": "markdown",
      "metadata": {
        "id": "jKPWRpiWabWr"
      },
      "source": [
        "## 1.1 Cleaning and exploring the sentiment analysis dataset"
      ]
    },
    {
      "cell_type": "code",
      "metadata": {
        "id": "ByfjoDZ2aiGp"
      },
      "source": [
        "# loading in the dataframe for sentiment analysis\r\n",
        "sent_df = pd.read_csv(\"https://raw.githubusercontent.com/AnnaBujniewicz/semester_project/main/data/sentiment_data.csv\", header = 0, names = [\"sentiment\", \"title\"], encoding = \"latin-1\")"
      ],
      "execution_count": 2,
      "outputs": []
    },
    {
      "cell_type": "code",
      "metadata": {
        "id": "nBZvENDxcIro",
        "colab": {
          "base_uri": "https://localhost:8080/",
          "height": 191
        },
        "outputId": "11c688a5-5c40-4b0f-ec82-fc8b4e4195d0"
      },
      "source": [
        "# inspecting the dataframe\r\n",
        "sent_df.head()"
      ],
      "execution_count": 3,
      "outputs": [
        {
          "output_type": "execute_result",
          "data": {
            "text/html": [
              "<div>\n",
              "<style scoped>\n",
              "    .dataframe tbody tr th:only-of-type {\n",
              "        vertical-align: middle;\n",
              "    }\n",
              "\n",
              "    .dataframe tbody tr th {\n",
              "        vertical-align: top;\n",
              "    }\n",
              "\n",
              "    .dataframe thead th {\n",
              "        text-align: right;\n",
              "    }\n",
              "</style>\n",
              "<table border=\"1\" class=\"dataframe\">\n",
              "  <thead>\n",
              "    <tr style=\"text-align: right;\">\n",
              "      <th></th>\n",
              "      <th>sentiment</th>\n",
              "      <th>title</th>\n",
              "    </tr>\n",
              "  </thead>\n",
              "  <tbody>\n",
              "    <tr>\n",
              "      <th>0</th>\n",
              "      <td>neutral</td>\n",
              "      <td>Technopolis plans to develop in stages an area...</td>\n",
              "    </tr>\n",
              "    <tr>\n",
              "      <th>1</th>\n",
              "      <td>negative</td>\n",
              "      <td>The international electronic industry company ...</td>\n",
              "    </tr>\n",
              "    <tr>\n",
              "      <th>2</th>\n",
              "      <td>positive</td>\n",
              "      <td>With the new production plant the company woul...</td>\n",
              "    </tr>\n",
              "    <tr>\n",
              "      <th>3</th>\n",
              "      <td>positive</td>\n",
              "      <td>According to the company 's updated strategy f...</td>\n",
              "    </tr>\n",
              "    <tr>\n",
              "      <th>4</th>\n",
              "      <td>positive</td>\n",
              "      <td>FINANCING OF ASPOCOMP 'S GROWTH Aspocomp is ag...</td>\n",
              "    </tr>\n",
              "  </tbody>\n",
              "</table>\n",
              "</div>"
            ],
            "text/plain": [
              "  sentiment                                              title\n",
              "0   neutral  Technopolis plans to develop in stages an area...\n",
              "1  negative  The international electronic industry company ...\n",
              "2  positive  With the new production plant the company woul...\n",
              "3  positive  According to the company 's updated strategy f...\n",
              "4  positive  FINANCING OF ASPOCOMP 'S GROWTH Aspocomp is ag..."
            ]
          },
          "metadata": {
            "tags": []
          },
          "execution_count": 3
        }
      ]
    },
    {
      "cell_type": "code",
      "metadata": {
        "id": "bkVs_6RscLzM",
        "colab": {
          "base_uri": "https://localhost:8080/",
          "height": 483
        },
        "outputId": "7f4f5750-479b-48e2-95f6-18628aab4507"
      },
      "source": [
        "# inspecting the classes\n",
        "# they are rather unbalanced\n",
        "plt.figure(figsize=(12,8))\n",
        "sns.barplot(x=pd.DataFrame(sent_df[\"sentiment\"].value_counts()).index,y=pd.DataFrame(sent_df[\"sentiment\"].value_counts())[\"sentiment\"])\n",
        "plt.show()"
      ],
      "execution_count": 4,
      "outputs": [
        {
          "output_type": "display_data",
          "data": {
            "image/png": "[encoded data removed]",
            "text/plain": [
              "<Figure size 864x576 with 1 Axes>"
            ]
          },
          "metadata": {
            "tags": [],
            "needs_background": "light"
          }
        }
      ]
    },
    {
      "cell_type": "code",
      "metadata": {
        "id": "8BWSHnKCkrLf"
      },
      "source": [
        "# initiating a lemmatizer instance\n",
        "lemmatizer = WordNetLemmatizer()\n",
        "# making a list of stopwords\n",
        "stop_words = set(stopwords.words('english'))\n",
        "# making a function that lemmatizes the titles and then puts them together\n",
        "def sneaky_cleanup(title):\n",
        "  tokens = []\n",
        "  for token in title.split():\n",
        "    if token not in stop_words:\n",
        "      if token.isalnum():\n",
        "        tokens.append(lemmatizer.lemmatize(token))\n",
        "  return \" \".join(tokens)"
      ],
      "execution_count": 5,
      "outputs": []
    },
    {
      "cell_type": "code",
      "metadata": {
        "id": "rhYd6Fd2kuBs",
        "colab": {
          "base_uri": "https://localhost:8080/",
          "height": 191
        },
        "outputId": "9268f958-e102-4784-aaf2-13cd25f65977"
      },
      "source": [
        "# applying the lemmatizer to each row of the dataframe\n",
        "sent_df.title = sent_df.title.apply(lambda x: sneaky_cleanup(x))\n",
        "sent_df.head()"
      ],
      "execution_count": 6,
      "outputs": [
        {
          "output_type": "execute_result",
          "data": {
            "text/html": [
              "<div>\n",
              "<style scoped>\n",
              "    .dataframe tbody tr th:only-of-type {\n",
              "        vertical-align: middle;\n",
              "    }\n",
              "\n",
              "    .dataframe tbody tr th {\n",
              "        vertical-align: top;\n",
              "    }\n",
              "\n",
              "    .dataframe thead th {\n",
              "        text-align: right;\n",
              "    }\n",
              "</style>\n",
              "<table border=\"1\" class=\"dataframe\">\n",
              "  <thead>\n",
              "    <tr style=\"text-align: right;\">\n",
              "      <th></th>\n",
              "      <th>sentiment</th>\n",
              "      <th>title</th>\n",
              "    </tr>\n",
              "  </thead>\n",
              "  <tbody>\n",
              "    <tr>\n",
              "      <th>0</th>\n",
              "      <td>neutral</td>\n",
              "      <td>Technopolis plan develop stage area le square ...</td>\n",
              "    </tr>\n",
              "    <tr>\n",
              "      <th>1</th>\n",
              "      <td>negative</td>\n",
              "      <td>The international electronic industry company ...</td>\n",
              "    </tr>\n",
              "    <tr>\n",
              "      <th>2</th>\n",
              "      <td>positive</td>\n",
              "      <td>With new production plant company would increa...</td>\n",
              "    </tr>\n",
              "    <tr>\n",
              "      <th>3</th>\n",
              "      <td>positive</td>\n",
              "      <td>According company updated strategy year Baswar...</td>\n",
              "    </tr>\n",
              "    <tr>\n",
              "      <th>4</th>\n",
              "      <td>positive</td>\n",
              "      <td>FINANCING OF ASPOCOMP GROWTH Aspocomp aggressi...</td>\n",
              "    </tr>\n",
              "  </tbody>\n",
              "</table>\n",
              "</div>"
            ],
            "text/plain": [
              "  sentiment                                              title\n",
              "0   neutral  Technopolis plan develop stage area le square ...\n",
              "1  negative  The international electronic industry company ...\n",
              "2  positive  With new production plant company would increa...\n",
              "3  positive  According company updated strategy year Baswar...\n",
              "4  positive  FINANCING OF ASPOCOMP GROWTH Aspocomp aggressi..."
            ]
          },
          "metadata": {
            "tags": []
          },
          "execution_count": 6
        }
      ]
    },
    {
      "cell_type": "markdown",
      "metadata": {
        "id": "ZE6hW-tABRf1"
      },
      "source": [
        "We decided that cleaning up the text before applying a machine learning model would be beneficial. We lemmatized the words, removed the stopwords and interpunctions.\r\n",
        "\r\n",
        "We chose lemmatization over stemming as it preserves the original meaning of a word better - lemmatiztion changes the word to its lemma (base of the word), whereas stemming simply cuts off the ending.\r\n",
        "\r\n",
        "The stopwords and interpunctions were removed despite their potential importance for the context, as they typically don't improve performance in the case of sentiment analysis, as the model only needs to classify the titles into the category of positive, negative and neutral ones.\r\n"
      ]
    },
    {
      "cell_type": "code",
      "metadata": {
        "id": "OOKksXH1g-a8"
      },
      "source": [
        "# creating three new dataframes for the three sentiments\n",
        "sent_pos=sent_df[sent_df[\"sentiment\"] == \"positive\"]\n",
        "sent_neg=sent_df[sent_df[\"sentiment\"] == \"negative\"]\n",
        "sent_neu=sent_df[sent_df[\"sentiment\"] == \"neutral\"]\n",
        "# tokenizing the titles in the dataframes\n",
        "sent_pos[\"title\"]=sent_pos[\"title\"].apply(lambda x: word_tokenize(x))\n",
        "sent_neg[\"title\"]=sent_neg[\"title\"].apply(lambda x: word_tokenize(x))\n",
        "sent_neu[\"title\"]=sent_neu[\"title\"].apply(lambda x: word_tokenize(x))"
      ],
      "execution_count": 7,
      "outputs": []
    },
    {
      "cell_type": "code",
      "metadata": {
        "id": "xrhOH2mZgS4X",
        "colab": {
          "base_uri": "https://localhost:8080/"
        },
        "outputId": "c538fcc3-3da2-42ea-c983-75322a6da9c6"
      },
      "source": [
        "# finding the most popular words in the negative titles\r\n",
        "Counter(itertools.chain(*sent_neg[\"title\"])).most_common(10)"
      ],
      "execution_count": 8,
      "outputs": [
        {
          "output_type": "execute_result",
          "data": {
            "text/plain": [
              "[('EUR', 307),\n",
              " ('mn', 224),\n",
              " ('profit', 151),\n",
              " ('The', 105),\n",
              " ('company', 104),\n",
              " ('Finnish', 99),\n",
              " ('sale', 96),\n",
              " ('period', 89),\n",
              " ('net', 88),\n",
              " ('2009', 85)]"
            ]
          },
          "metadata": {
            "tags": []
          },
          "execution_count": 8
        }
      ]
    },
    {
      "cell_type": "code",
      "metadata": {
        "id": "fBZUThcChidp",
        "colab": {
          "base_uri": "https://localhost:8080/"
        },
        "outputId": "afc63734-c748-47eb-b070-0ff7494ba2d9"
      },
      "source": [
        "# finding the most popular words in the neutral titles\r\n",
        "Counter(itertools.chain(*sent_neu[\"title\"])).most_common(10)"
      ],
      "execution_count": 9,
      "outputs": [
        {
          "output_type": "execute_result",
          "data": {
            "text/plain": [
              "[('The', 969),\n",
              " ('company', 553),\n",
              " ('share', 293),\n",
              " ('said', 237),\n",
              " ('Finland', 219),\n",
              " ('EUR', 217),\n",
              " ('Finnish', 215),\n",
              " ('million', 192),\n",
              " ('service', 189),\n",
              " ('sale', 187)]"
            ]
          },
          "metadata": {
            "tags": []
          },
          "execution_count": 9
        }
      ]
    },
    {
      "cell_type": "code",
      "metadata": {
        "id": "EDf1EZIXhjDc",
        "colab": {
          "base_uri": "https://localhost:8080/"
        },
        "outputId": "a72d6bc9-893a-4270-c66d-64635b37eb3f"
      },
      "source": [
        "# finding the most popular words in the positive titles\r\n",
        "Counter(itertools.chain(*sent_pos[\"title\"])).most_common(10)"
      ],
      "execution_count": 10,
      "outputs": [
        {
          "output_type": "execute_result",
          "data": {
            "text/plain": [
              "[('EUR', 394),\n",
              " ('The', 280),\n",
              " ('company', 262),\n",
              " ('mn', 241),\n",
              " ('said', 230),\n",
              " ('Finnish', 198),\n",
              " ('sale', 187),\n",
              " ('profit', 183),\n",
              " ('net', 175),\n",
              " ('million', 171)]"
            ]
          },
          "metadata": {
            "tags": []
          },
          "execution_count": 10
        }
      ]
    },
    {
      "cell_type": "markdown",
      "metadata": {
        "id": "w9F35rHxCkiR"
      },
      "source": [
        "As can be seen, the words in all the titles are very similar, showing how difficult the task of predicting the sentiment will be."
      ]
    },
    {
      "cell_type": "code",
      "metadata": {
        "id": "E8uREb2wfXw0",
        "colab": {
          "base_uri": "https://localhost:8080/"
        },
        "outputId": "d3a2bc83-9083-498f-c75a-a7fd2503801e"
      },
      "source": [
        "# inspecting the length of the titles - the longest title is just above 40 words\n",
        "sent_df[\"words\"] = sent_df[\"title\"].map(lambda x: len(x.split()))\n",
        "sent_df[\"words\"].describe()"
      ],
      "execution_count": 11,
      "outputs": [
        {
          "output_type": "execute_result",
          "data": {
            "text/plain": [
              "count    4845.000000\n",
              "mean       12.831373\n",
              "std         5.831930\n",
              "min         1.000000\n",
              "25%         8.000000\n",
              "50%        12.000000\n",
              "75%        16.000000\n",
              "max        42.000000\n",
              "Name: words, dtype: float64"
            ]
          },
          "metadata": {
            "tags": []
          },
          "execution_count": 11
        }
      ]
    },
    {
      "cell_type": "code",
      "metadata": {
        "id": "GtyWv1bWje52"
      },
      "source": [
        "# creating a series of all the sentiments\n",
        "y = sent_df[\"sentiment\"]\n",
        "# creating a labelencoder instance\n",
        "labelencoder_y = LabelEncoder()\n",
        "# encoding the sentiments\n",
        "y = labelencoder_y.fit_transform(y)\n",
        "# changing the sentiments to one-hot encoding\n",
        "y = np_utils.to_categorical(y)"
      ],
      "execution_count": 12,
      "outputs": []
    },
    {
      "cell_type": "code",
      "metadata": {
        "id": "GMwsCTs1gI1r"
      },
      "source": [
        "# creating training and testing samples\r\n",
        "X_train, X_test, y_train, y_test = train_test_split(sent_df[\"title\"], y, test_size = 0.2, random_state = 44)\r\n",
        "X_test_initial = X_test"
      ],
      "execution_count": 13,
      "outputs": []
    },
    {
      "cell_type": "markdown",
      "metadata": {
        "id": "h9y-AAhjVBck"
      },
      "source": [
        "## 1.2 Preparing the dataset for transformers use and creating transformers layer"
      ]
    },
    {
      "cell_type": "code",
      "metadata": {
        "id": "I1hyVCFsZkP0",
        "colab": {
          "base_uri": "https://localhost:8080/",
          "height": 65,
          "referenced_widgets": [
            "4027822b4e6b4804b576bee0018cb223",
            "31ebe6dbb3d44b02abb0b9f9ba98500c",
            "c3eb3ca7b3614048a279ead7323cdb8b",
            "87597f0a89b84a8f953d100f7fd45309",
            "1b5f17c6589c44aeabaf5f827511928d",
            "ac726aff95e147c588e75433a243946c",
            "ebff337644ab4d3cb058570b54eb903e",
            "9555a703495d480b81bf925e2e205069"
          ]
        },
        "outputId": "82c456f0-5f82-46df-90cd-de34ed097ed4"
      },
      "source": [
        "# initiating a bert tokenizer\r\n",
        "tokenizer = BertTokenizer.from_pretrained('bert-base-uncased', do_lower_case=True)"
      ],
      "execution_count": 14,
      "outputs": [
        {
          "output_type": "display_data",
          "data": {
            "application/vnd.jupyter.widget-view+json": {
              "model_id": "4027822b4e6b4804b576bee0018cb223",
              "version_minor": 0,
              "version_major": 2
            },
            "text/plain": [
              "HBox(children=(FloatProgress(value=0.0, description='Downloading', max=231508.0, style=ProgressStyle(descripti…"
            ]
          },
          "metadata": {
            "tags": []
          }
        },
        {
          "output_type": "stream",
          "text": [
            "\n"
          ],
          "name": "stdout"
        }
      ]
    },
    {
      "cell_type": "code",
      "metadata": {
        "id": "Aped6vXXZqCs"
      },
      "source": [
        "# using a slightly modified pre-made function that partially processes the data for bert\r\n",
        "# the function runs on torch, not tensorflow, so the outputs will need to be turned into numpy arrays\r\n",
        "def preprocessing_for_bert(data):\r\n",
        "    \"\"\"Perform required preprocessing steps for pretrained BERT.\r\n",
        "    @param    data (np.array): Array of texts to be processed.\r\n",
        "    @return   input_ids (torch.Tensor): Tensor of token ids to be fed to a model.\r\n",
        "    @return   attention_masks (torch.Tensor): Tensor of indices specifying which\r\n",
        "                  tokens should be attended to by the model.\r\n",
        "    \"\"\"\r\n",
        "    # Create empty lists to store outputs\r\n",
        "    input_ids = []\r\n",
        "    attention_masks = []\r\n",
        "\r\n",
        "    # For every sentence...\r\n",
        "    for sent in data:\r\n",
        "        # `encode_plus` will:\r\n",
        "        #    (1) Tokenize the sentence\r\n",
        "        #    (2) Add the `[CLS]` and `[SEP]` token to the start and end\r\n",
        "        #    (3) Truncate/Pad sentence to max length\r\n",
        "        #    (4) Map tokens to their IDs\r\n",
        "        #    (5) Create attention mask\r\n",
        "        #    (6) Return a dictionary of outputs\r\n",
        "        encoded_sent = tokenizer.encode_plus(\r\n",
        "            text=sent,  # Preprocess sentence\r\n",
        "            add_special_tokens=True,        # Add `[CLS]` and `[SEP]`\r\n",
        "            max_length=MAX_LEN,                  # Max length to truncate/pad\r\n",
        "            pad_to_max_length=True,         # Pad sentence to max length\r\n",
        "            #return_tensors='pt',           # Return PyTorch tensor\r\n",
        "            return_attention_mask=True      # Return attention mask\r\n",
        "            )\r\n",
        "        \r\n",
        "        # Add the outputs to the lists\r\n",
        "        input_ids.append(encoded_sent.get('input_ids'))\r\n",
        "        attention_masks.append(encoded_sent.get('attention_mask'))\r\n",
        "\r\n",
        "    # Convert lists to tensors\r\n",
        "    input_ids = torch.tensor(input_ids)\r\n",
        "    attention_masks = torch.tensor(attention_masks)\r\n",
        "\r\n",
        "    return input_ids, attention_masks"
      ],
      "execution_count": 15,
      "outputs": []
    },
    {
      "cell_type": "code",
      "metadata": {
        "id": "WHecOJCcaAvB",
        "colab": {
          "base_uri": "https://localhost:8080/"
        },
        "outputId": "de7f92c8-3856-4f79-984c-0dec78fd650a"
      },
      "source": [
        "# Specifying MAX_LEN based on the previuously inspected title length\r\n",
        "MAX_LEN = 40\r\n",
        "\r\n",
        "# Run function preprocessing_for_bert on the train set and the test set\r\n",
        "train_inputs, train_masks = preprocessing_for_bert(X_train)\r\n",
        "val_inputs, val_masks = preprocessing_for_bert(X_test)"
      ],
      "execution_count": 16,
      "outputs": [
        {
          "output_type": "stream",
          "text": [
            "Truncation was not explicitly activated but `max_length` is provided a specific value, please use `truncation=True` to explicitly truncate examples to max length. Defaulting to 'longest_first' truncation strategy. If you encode pairs of sequences (GLUE-style) with the tokenizer you can select this strategy more precisely by providing a specific strategy to `truncation`.\n"
          ],
          "name": "stderr"
        }
      ]
    },
    {
      "cell_type": "code",
      "metadata": {
        "id": "u0ERElH7qtoY"
      },
      "source": [
        "# creating id columns based on the index\r\n",
        "train_ids = torch.tensor(X_train.index.tolist())\r\n",
        "test_ids = torch.tensor(X_test.index.tolist())"
      ],
      "execution_count": 17,
      "outputs": []
    },
    {
      "cell_type": "code",
      "metadata": {
        "id": "X5wVTujrtJt6"
      },
      "source": [
        "# turning the torch tensors into numpy arrays of the required type\r\n",
        "train_inputs = train_inputs.numpy().astype(\"int32\")\r\n",
        "train_masks = train_masks.numpy().astype(\"int32\")\r\n",
        "train_ids = train_ids.numpy().astype(\"int32\")\r\n",
        "val_inputs = val_inputs.numpy().astype(\"int32\")\r\n",
        "val_masks = val_masks.numpy().astype(\"int32\")\r\n",
        "test_ids = test_ids.numpy().astype(\"int32\")"
      ],
      "execution_count": 18,
      "outputs": []
    },
    {
      "cell_type": "code",
      "metadata": {
        "id": "eOGbsjA1o-3R"
      },
      "source": [
        "# putting the id, mask and tensor in a dictionary\r\n",
        "X_train_dic = {\"input_word_ids\":train_inputs,\"input_mask\":train_masks,\"input_type_ids\":train_ids}\r\n",
        "X_test_dic = {\"input_word_ids\":val_inputs,\"input_mask\":val_masks,\"input_type_ids\":test_ids}"
      ],
      "execution_count": 19,
      "outputs": []
    },
    {
      "cell_type": "code",
      "metadata": {
        "colab": {
          "base_uri": "https://localhost:8080/"
        },
        "id": "U2O9f6FWmMYj",
        "outputId": "ce8dfa62-d956-40b9-f217-319471148c0d"
      },
      "source": [
        "# importing bert for tf2\r\n",
        "bert_v2 = hub.KerasLayer(\"https://tfhub.dev/tensorflow/bert_en_uncased_L-12_H-768_A-12/3\", trainable=True, output_key=\"pooled_output\")"
      ],
      "execution_count": 20,
      "outputs": [
        {
          "output_type": "stream",
          "text": [
            "INFO:absl:resolver HttpCompressedFileResolver does not support the provided handle.\n",
            "INFO:absl:resolver GcsCompressedFileResolver does not support the provided handle.\n"
          ],
          "name": "stderr"
        }
      ]
    },
    {
      "cell_type": "markdown",
      "metadata": {
        "id": "OIOj8MljjDAE"
      },
      "source": [
        "## 1.3 Creating the sentiment analysis model"
      ]
    },
    {
      "cell_type": "code",
      "metadata": {
        "id": "ba5smMu7jNZc"
      },
      "source": [
        "# creating a model\n",
        "model = Sequential()\n",
        "model.add(bert_v2)\n",
        "model.add(layers.Dense(128, activation = \"relu\"))\n",
        "model.add(layers.Dense(264, activation = \"relu\"))\n",
        "model.add(layers.Dropout(0.2))\n",
        "model.add(layers.Dense(64, activation = \"relu\"))\n",
        "model.add(layers.Dense(3, activation='softmax'))"
      ],
      "execution_count": 21,
      "outputs": []
    },
    {
      "cell_type": "code",
      "metadata": {
        "id": "KZCQKT5VkcBV"
      },
      "source": [
        "# changing the learning rate to a much lower rate\n",
        "# it makes the results vastly more stable\n",
        "opt = optimizers.Adam(learning_rate=0.0001)"
      ],
      "execution_count": 22,
      "outputs": []
    },
    {
      "cell_type": "code",
      "metadata": {
        "id": "NHfrON-xMNf2"
      },
      "source": [
        "# defining a custom loss function\r\n",
        "def weighted_categorical_crossentropy(weights):\r\n",
        "\r\n",
        "    weights = K.variable(weights)\r\n",
        "        \r\n",
        "    def loss(y_true, y_pred):\r\n",
        "        # scale predictions so that the class probas of each sample sum to 1\r\n",
        "        y_pred /= K.sum(y_pred, axis=-1, keepdims=True)\r\n",
        "        # clip to prevent NaN's and Inf's\r\n",
        "        y_pred = K.clip(y_pred, K.epsilon(), 1 - K.epsilon())\r\n",
        "        # calculate\r\n",
        "        loss = y_true * K.log(y_pred) * weights\r\n",
        "        loss = -K.sum(loss, -1)\r\n",
        "        return loss\r\n",
        "    \r\n",
        "    return loss"
      ],
      "execution_count": 23,
      "outputs": []
    },
    {
      "cell_type": "code",
      "metadata": {
        "id": "enwFpk8XDjJl"
      },
      "source": [
        "# calculating the fraction of the dataset for each class\r\n",
        "perc_neu = sent_df[sent_df[\"sentiment\"]==\"neutral\"][\"sentiment\"].count()/sent_df[\"sentiment\"].count()\r\n",
        "perc_pos = sent_df[sent_df[\"sentiment\"]==\"positive\"][\"sentiment\"].count()/sent_df[\"sentiment\"].count()\r\n",
        "perc_neg = sent_df[sent_df[\"sentiment\"]==\"negative\"][\"sentiment\"].count()/sent_df[\"sentiment\"].count()"
      ],
      "execution_count": 24,
      "outputs": []
    },
    {
      "cell_type": "code",
      "metadata": {
        "id": "zztMyGS-MYHt"
      },
      "source": [
        "# choosing the weights - those seemed to present the best results\r\n",
        "weights = np.array([2,1,2-perc_pos])"
      ],
      "execution_count": 25,
      "outputs": []
    },
    {
      "cell_type": "code",
      "metadata": {
        "id": "ZgS7nx8mkfoL"
      },
      "source": [
        "model.compile(optimizer = opt, loss=weighted_categorical_crossentropy(weights), metrics=['accuracy'])"
      ],
      "execution_count": 26,
      "outputs": []
    },
    {
      "cell_type": "code",
      "metadata": {
        "id": "dc4GSQb0kkZR",
        "colab": {
          "base_uri": "https://localhost:8080/"
        },
        "outputId": "a858d4d4-cfdc-49c2-d908-52e98f11c5ce"
      },
      "source": [
        "# batch size and number of epochs chosen based on the best results\r\n",
        "history = model.fit(X_train_dic, y_train, batch_size=64, epochs = 10)"
      ],
      "execution_count": 27,
      "outputs": [
        {
          "output_type": "stream",
          "text": [
            "Epoch 1/10\n",
            "WARNING:tensorflow:Layers in a Sequential model should only have a single input tensor, but we receive a <class 'dict'> input: {'input_word_ids': <tf.Tensor 'IteratorGetNext:2' shape=(None, 40) dtype=int32>, 'input_mask': <tf.Tensor 'IteratorGetNext:0' shape=(None, 40) dtype=int32>, 'input_type_ids': <tf.Tensor 'ExpandDims:0' shape=(None, 1) dtype=int32>}\n",
            "Consider rewriting this model with the Functional API.\n"
          ],
          "name": "stdout"
        },
        {
          "output_type": "stream",
          "text": [
            "WARNING:tensorflow:Layers in a Sequential model should only have a single input tensor, but we receive a <class 'dict'> input: {'input_word_ids': <tf.Tensor 'IteratorGetNext:2' shape=(None, 40) dtype=int32>, 'input_mask': <tf.Tensor 'IteratorGetNext:0' shape=(None, 40) dtype=int32>, 'input_type_ids': <tf.Tensor 'ExpandDims:0' shape=(None, 1) dtype=int32>}\n",
            "Consider rewriting this model with the Functional API.\n"
          ],
          "name": "stderr"
        },
        {
          "output_type": "stream",
          "text": [
            "WARNING:tensorflow:Layers in a Sequential model should only have a single input tensor, but we receive a <class 'dict'> input: {'input_word_ids': <tf.Tensor 'IteratorGetNext:2' shape=(None, 40) dtype=int32>, 'input_mask': <tf.Tensor 'IteratorGetNext:0' shape=(None, 40) dtype=int32>, 'input_type_ids': <tf.Tensor 'ExpandDims:0' shape=(None, 1) dtype=int32>}\n",
            "Consider rewriting this model with the Functional API.\n"
          ],
          "name": "stdout"
        },
        {
          "output_type": "stream",
          "text": [
            "WARNING:tensorflow:Layers in a Sequential model should only have a single input tensor, but we receive a <class 'dict'> input: {'input_word_ids': <tf.Tensor 'IteratorGetNext:2' shape=(None, 40) dtype=int32>, 'input_mask': <tf.Tensor 'IteratorGetNext:0' shape=(None, 40) dtype=int32>, 'input_type_ids': <tf.Tensor 'ExpandDims:0' shape=(None, 1) dtype=int32>}\n",
            "Consider rewriting this model with the Functional API.\n"
          ],
          "name": "stderr"
        },
        {
          "output_type": "stream",
          "text": [
            "61/61 [==============================] - 44s 507ms/step - loss: 1.2277 - accuracy: 0.6130\n",
            "Epoch 2/10\n",
            "61/61 [==============================] - 32s 524ms/step - loss: 0.7041 - accuracy: 0.8010\n",
            "Epoch 3/10\n",
            "61/61 [==============================] - 33s 539ms/step - loss: 0.4905 - accuracy: 0.8694\n",
            "Epoch 4/10\n",
            "61/61 [==============================] - 33s 545ms/step - loss: 0.3147 - accuracy: 0.9213\n",
            "Epoch 5/10\n",
            "61/61 [==============================] - 33s 539ms/step - loss: 0.1952 - accuracy: 0.9553\n",
            "Epoch 6/10\n",
            "61/61 [==============================] - 33s 542ms/step - loss: 0.1736 - accuracy: 0.9597\n",
            "Epoch 7/10\n",
            "61/61 [==============================] - 33s 542ms/step - loss: 0.1217 - accuracy: 0.9718\n",
            "Epoch 8/10\n",
            "61/61 [==============================] - 33s 540ms/step - loss: 0.0999 - accuracy: 0.9786\n",
            "Epoch 9/10\n",
            "61/61 [==============================] - 33s 542ms/step - loss: 0.1537 - accuracy: 0.9648\n",
            "Epoch 10/10\n",
            "61/61 [==============================] - 33s 543ms/step - loss: 0.1176 - accuracy: 0.9785\n"
          ],
          "name": "stdout"
        }
      ]
    },
    {
      "cell_type": "markdown",
      "metadata": {
        "id": "AXx9sgKEt1Ky"
      },
      "source": [
        "## 1.4 Evaluation of the sentiment model"
      ]
    },
    {
      "cell_type": "code",
      "metadata": {
        "id": "CX-vYEZCYitY",
        "colab": {
          "base_uri": "https://localhost:8080/"
        },
        "outputId": "a573ae49-7fe6-464d-b875-1c9ccc184e3e"
      },
      "source": [
        "# evaluating the accuracy on the test set - close to 80%\r\n",
        "model.evaluate(X_test_dic, y_test)"
      ],
      "execution_count": 28,
      "outputs": [
        {
          "output_type": "stream",
          "text": [
            "WARNING:tensorflow:Layers in a Sequential model should only have a single input tensor, but we receive a <class 'dict'> input: {'input_word_ids': <tf.Tensor 'IteratorGetNext:2' shape=(None, 40) dtype=int32>, 'input_mask': <tf.Tensor 'IteratorGetNext:0' shape=(None, 40) dtype=int32>, 'input_type_ids': <tf.Tensor 'ExpandDims:0' shape=(None, 1) dtype=int32>}\n",
            "Consider rewriting this model with the Functional API.\n"
          ],
          "name": "stdout"
        },
        {
          "output_type": "stream",
          "text": [
            "WARNING:tensorflow:Layers in a Sequential model should only have a single input tensor, but we receive a <class 'dict'> input: {'input_word_ids': <tf.Tensor 'IteratorGetNext:2' shape=(None, 40) dtype=int32>, 'input_mask': <tf.Tensor 'IteratorGetNext:0' shape=(None, 40) dtype=int32>, 'input_type_ids': <tf.Tensor 'ExpandDims:0' shape=(None, 1) dtype=int32>}\n",
            "Consider rewriting this model with the Functional API.\n"
          ],
          "name": "stderr"
        },
        {
          "output_type": "stream",
          "text": [
            "31/31 [==============================] - 4s 92ms/step - loss: 1.2829 - accuracy: 0.7771\n"
          ],
          "name": "stdout"
        },
        {
          "output_type": "execute_result",
          "data": {
            "text/plain": [
              "[1.2829114198684692, 0.7770897746086121]"
            ]
          },
          "metadata": {
            "tags": []
          },
          "execution_count": 28
        }
      ]
    },
    {
      "cell_type": "code",
      "metadata": {
        "id": "RdXmU8juxEJ9",
        "colab": {
          "base_uri": "https://localhost:8080/"
        },
        "outputId": "95609fa3-20d7-4b08-f1d5-009d559462d2"
      },
      "source": [
        "# finding the predictions\n",
        "y_pred = model.predict(X_test_dic)\n",
        "y_pred_hardmax = np.zeros_like(y_pred)\n",
        "y_pred_hardmax[np.arange(len(y_pred)), y_pred.argmax(1)] = 1"
      ],
      "execution_count": 29,
      "outputs": [
        {
          "output_type": "stream",
          "text": [
            "WARNING:tensorflow:Layers in a Sequential model should only have a single input tensor, but we receive a <class 'dict'> input: {'input_word_ids': <tf.Tensor 'IteratorGetNext:2' shape=(None, 40) dtype=int32>, 'input_mask': <tf.Tensor 'IteratorGetNext:0' shape=(None, 40) dtype=int32>, 'input_type_ids': <tf.Tensor 'ExpandDims:0' shape=(None, 1) dtype=int32>}\n",
            "Consider rewriting this model with the Functional API.\n"
          ],
          "name": "stdout"
        },
        {
          "output_type": "stream",
          "text": [
            "WARNING:tensorflow:Layers in a Sequential model should only have a single input tensor, but we receive a <class 'dict'> input: {'input_word_ids': <tf.Tensor 'IteratorGetNext:2' shape=(None, 40) dtype=int32>, 'input_mask': <tf.Tensor 'IteratorGetNext:0' shape=(None, 40) dtype=int32>, 'input_type_ids': <tf.Tensor 'ExpandDims:0' shape=(None, 1) dtype=int32>}\n",
            "Consider rewriting this model with the Functional API.\n"
          ],
          "name": "stderr"
        }
      ]
    },
    {
      "cell_type": "code",
      "metadata": {
        "id": "RFCWor2BzMf1"
      },
      "source": [
        "# changing back from one hot encoding to a list of classes\n",
        "y_pred_hardmax= [np.argmax(y, axis=None, out=None) for y in y_pred_hardmax]\n",
        "y_test= [np.argmax(y, axis=None, out=None) for y in y_test]\n",
        "# reversing the encoding\n",
        "y_test = labelencoder_y.inverse_transform(y_test)\n",
        "y_pred_hardmax = labelencoder_y.inverse_transform(y_pred_hardmax)"
      ],
      "execution_count": 30,
      "outputs": []
    },
    {
      "cell_type": "code",
      "metadata": {
        "id": "MYTOyrGfr2yJ",
        "colab": {
          "base_uri": "https://localhost:8080/",
          "height": 498
        },
        "outputId": "84d2ad2a-6058-48ad-9125-37c2a2836ff1"
      },
      "source": [
        "# creating a confusion matrix - it looks rather well\r\n",
        "plt.figure(figsize=(12,8))\r\n",
        "sns.heatmap(confusion_matrix(y_pred_hardmax,y_test), annot = True, cmap = \"YlGnBu\",fmt='g')"
      ],
      "execution_count": 32,
      "outputs": [
        {
          "output_type": "execute_result",
          "data": {
            "text/plain": [
              "<matplotlib.axes._subplots.AxesSubplot at 0x7f002019e160>"
            ]
          },
          "metadata": {
            "tags": []
          },
          "execution_count": 32
        },
        {
          "output_type": "display_data",
          "data": {
            "image/png": "[encoded data removed]",
            "text/plain": [
              "<Figure size 864x576 with 2 Axes>"
            ]
          },
          "metadata": {
            "tags": [],
            "needs_background": "light"
          }
        }
      ]
    },
    {
      "cell_type": "code",
      "metadata": {
        "id": "iFJUZ8kn1C_a",
        "colab": {
          "base_uri": "https://localhost:8080/"
        },
        "outputId": "5fc873fa-15bf-4652-fe67-6f29f6e7bb41"
      },
      "source": [
        "# printing out the classification report\r\n",
        "print(classification_report(y_pred_hardmax,y_test))"
      ],
      "execution_count": 33,
      "outputs": [
        {
          "output_type": "stream",
          "text": [
            "              precision    recall  f1-score   support\n",
            "\n",
            "    negative       0.82      0.69      0.75       143\n",
            "     neutral       0.79      0.88      0.83       516\n",
            "    positive       0.72      0.65      0.68       310\n",
            "\n",
            "    accuracy                           0.78       969\n",
            "   macro avg       0.78      0.74      0.76       969\n",
            "weighted avg       0.78      0.78      0.77       969\n",
            "\n"
          ],
          "name": "stdout"
        }
      ]
    },
    {
      "cell_type": "code",
      "metadata": {
        "id": "HYEEz1Z51MhD"
      },
      "source": [
        "# creating aand cleaning a dataframe from X_test\n",
        "X_test_initial = pd.DataFrame(X_test_initial)\n",
        "X_test_initial = X_test_initial.reset_index()\n",
        "X_test_initial = X_test_initial.loc[:,\"title\"]\n",
        "X_test_initial = pd.DataFrame(X_test_initial)"
      ],
      "execution_count": 34,
      "outputs": []
    },
    {
      "cell_type": "code",
      "metadata": {
        "id": "SaG55f03HkP9",
        "colab": {
          "base_uri": "https://localhost:8080/",
          "height": 277
        },
        "outputId": "bb0eb41b-3aef-471f-8738-abae22344e49"
      },
      "source": [
        "# creating and cleaning a dataframe from y_test\n",
        "y_test = pd.DataFrame(y_test)\n",
        "# creating a dataframe from the label predictions\n",
        "y_pred_hardmax = pd.DataFrame(y_pred_hardmax)\n",
        "# adding the new columns to X_test_initial\n",
        "X_test_initial[\"y\"] = y_test\n",
        "X_test_initial[\"pred\"] = y_pred_hardmax\n",
        "# turning the softmax predictions into a dataframe\n",
        "y_pred = pd.DataFrame(y_pred)\n",
        "# merging the dataframes\n",
        "X_test_initial = X_test_initial.merge(y_pred, left_index = True, right_index=True,copy = False)\n",
        "X_test_initial.describe()"
      ],
      "execution_count": 35,
      "outputs": [
        {
          "output_type": "execute_result",
          "data": {
            "text/html": [
              "<div>\n",
              "<style scoped>\n",
              "    .dataframe tbody tr th:only-of-type {\n",
              "        vertical-align: middle;\n",
              "    }\n",
              "\n",
              "    .dataframe tbody tr th {\n",
              "        vertical-align: top;\n",
              "    }\n",
              "\n",
              "    .dataframe thead th {\n",
              "        text-align: right;\n",
              "    }\n",
              "</style>\n",
              "<table border=\"1\" class=\"dataframe\">\n",
              "  <thead>\n",
              "    <tr style=\"text-align: right;\">\n",
              "      <th></th>\n",
              "      <th>0</th>\n",
              "      <th>1</th>\n",
              "      <th>2</th>\n",
              "    </tr>\n",
              "  </thead>\n",
              "  <tbody>\n",
              "    <tr>\n",
              "      <th>count</th>\n",
              "      <td>969.000000</td>\n",
              "      <td>969.000000</td>\n",
              "      <td>969.000000</td>\n",
              "    </tr>\n",
              "    <tr>\n",
              "      <th>mean</th>\n",
              "      <td>0.147559</td>\n",
              "      <td>0.523382</td>\n",
              "      <td>0.329059</td>\n",
              "    </tr>\n",
              "    <tr>\n",
              "      <th>std</th>\n",
              "      <td>0.330384</td>\n",
              "      <td>0.465905</td>\n",
              "      <td>0.437003</td>\n",
              "    </tr>\n",
              "    <tr>\n",
              "      <th>min</th>\n",
              "      <td>0.000145</td>\n",
              "      <td>0.001200</td>\n",
              "      <td>0.000544</td>\n",
              "    </tr>\n",
              "    <tr>\n",
              "      <th>25%</th>\n",
              "      <td>0.000917</td>\n",
              "      <td>0.003840</td>\n",
              "      <td>0.001091</td>\n",
              "    </tr>\n",
              "    <tr>\n",
              "      <th>50%</th>\n",
              "      <td>0.001643</td>\n",
              "      <td>0.732161</td>\n",
              "      <td>0.012191</td>\n",
              "    </tr>\n",
              "    <tr>\n",
              "      <th>75%</th>\n",
              "      <td>0.014494</td>\n",
              "      <td>0.996814</td>\n",
              "      <td>0.952072</td>\n",
              "    </tr>\n",
              "    <tr>\n",
              "      <th>max</th>\n",
              "      <td>0.996141</td>\n",
              "      <td>0.998447</td>\n",
              "      <td>0.998607</td>\n",
              "    </tr>\n",
              "  </tbody>\n",
              "</table>\n",
              "</div>"
            ],
            "text/plain": [
              "                0           1           2\n",
              "count  969.000000  969.000000  969.000000\n",
              "mean     0.147559    0.523382    0.329059\n",
              "std      0.330384    0.465905    0.437003\n",
              "min      0.000145    0.001200    0.000544\n",
              "25%      0.000917    0.003840    0.001091\n",
              "50%      0.001643    0.732161    0.012191\n",
              "75%      0.014494    0.996814    0.952072\n",
              "max      0.996141    0.998447    0.998607"
            ]
          },
          "metadata": {
            "tags": []
          },
          "execution_count": 35
        }
      ]
    },
    {
      "cell_type": "markdown",
      "metadata": {
        "id": "-XefcS8PAawf"
      },
      "source": [
        "The variations between classes seem quite high and our accuracy of predictions wasn't perfect, so we decided to use the softmax numbers instead of simply using the final predictions."
      ]
    },
    {
      "cell_type": "markdown",
      "metadata": {
        "id": "TD3VGPUoYqWV"
      },
      "source": [
        "## 1.5 Sentiment analysis for articles for the chosen companies"
      ]
    },
    {
      "cell_type": "code",
      "metadata": {
        "id": "8D6P5tlpRMAJ",
        "colab": {
          "base_uri": "https://localhost:8080/",
          "height": 191
        },
        "outputId": "246f9283-3dfa-4307-aa2d-ccf991ba3fee"
      },
      "source": [
        "# loading in the scraped database\r\n",
        "alxn_art = pd.read_csv(\"https://raw.githubusercontent.com/AnnaBujniewicz/semester_project/main/data/proc_alxn_data.csv\")\r\n",
        "alxn_art.head()"
      ],
      "execution_count": 36,
      "outputs": [
        {
          "output_type": "execute_result",
          "data": {
            "text/html": [
              "<div>\n",
              "<style scoped>\n",
              "    .dataframe tbody tr th:only-of-type {\n",
              "        vertical-align: middle;\n",
              "    }\n",
              "\n",
              "    .dataframe tbody tr th {\n",
              "        vertical-align: top;\n",
              "    }\n",
              "\n",
              "    .dataframe thead th {\n",
              "        text-align: right;\n",
              "    }\n",
              "</style>\n",
              "<table border=\"1\" class=\"dataframe\">\n",
              "  <thead>\n",
              "    <tr style=\"text-align: right;\">\n",
              "      <th></th>\n",
              "      <th>Unnamed: 0</th>\n",
              "      <th>1</th>\n",
              "      <th>link</th>\n",
              "      <th>title</th>\n",
              "    </tr>\n",
              "  </thead>\n",
              "  <tbody>\n",
              "    <tr>\n",
              "      <th>0</th>\n",
              "      <td>1</td>\n",
              "      <td>2020-12-23</td>\n",
              "      <td>https://t.co/v7UATxnMUy</td>\n",
              "      <td>CVS &amp; Walgreens Hiring 35,000 To Help With Vac...</td>\n",
              "    </tr>\n",
              "    <tr>\n",
              "      <th>1</th>\n",
              "      <td>5</td>\n",
              "      <td>2020-12-22</td>\n",
              "      <td>https://t.co/wMy1spFJMS</td>\n",
              "      <td>StockCharts.com</td>\n",
              "    </tr>\n",
              "    <tr>\n",
              "      <th>2</th>\n",
              "      <td>7</td>\n",
              "      <td>2020-12-22</td>\n",
              "      <td>https://t.co/cCk00oo4ZF</td>\n",
              "      <td>Are you a robot?</td>\n",
              "    </tr>\n",
              "    <tr>\n",
              "      <th>3</th>\n",
              "      <td>8</td>\n",
              "      <td>2020-12-22</td>\n",
              "      <td>https://t.co/AqJYWoUC0J</td>\n",
              "      <td>FDA approves Pfizer's Covid vaccine for emerge...</td>\n",
              "    </tr>\n",
              "    <tr>\n",
              "      <th>4</th>\n",
              "      <td>9</td>\n",
              "      <td>2020-12-22</td>\n",
              "      <td>https://t.co/22qlhrlW30</td>\n",
              "      <td>Stock Market Insights</td>\n",
              "    </tr>\n",
              "  </tbody>\n",
              "</table>\n",
              "</div>"
            ],
            "text/plain": [
              "   Unnamed: 0  ...                                              title\n",
              "0           1  ...  CVS & Walgreens Hiring 35,000 To Help With Vac...\n",
              "1           5  ...                                    StockCharts.com\n",
              "2           7  ...                                   Are you a robot?\n",
              "3           8  ...  FDA approves Pfizer's Covid vaccine for emerge...\n",
              "4           9  ...                              Stock Market Insights\n",
              "\n",
              "[5 rows x 4 columns]"
            ]
          },
          "metadata": {
            "tags": []
          },
          "execution_count": 36
        }
      ]
    },
    {
      "cell_type": "code",
      "metadata": {
        "id": "xnE6inLLYkCy",
        "colab": {
          "base_uri": "https://localhost:8080/",
          "height": 191
        },
        "outputId": "857dec49-33a0-409a-edf3-6470f19c04db"
      },
      "source": [
        "# cleaning the database\n",
        "alxn_art.rename(columns = {'1':'date'}, inplace = True)\n",
        "alxn_art = alxn_art.loc[:,[\"title\",\"date\"]]\n",
        "alxn_art[\"title\"] = alxn_art[\"title\"].astype(str)\n",
        "alxn_art.title = alxn_art.title.apply(lambda x: sneaky_cleanup(x))\n",
        "alxn_art[\"date\"] = pd.to_datetime(alxn_art[\"date\"], format='%Y-%m-%d', errors='coerce')\n",
        "alxn_art = alxn_art.drop_duplicates(subset = \"title\")\n",
        "# dropping the titles with 5 words or less - they likely aren't titles at all\n",
        "alxn_art = alxn_art[alxn_art['title'].str.split().str.len().ge(5)]\n",
        "alxn_art.reset_index(inplace=True)\n",
        "alxn_art.head()"
      ],
      "execution_count": 37,
      "outputs": [
        {
          "output_type": "execute_result",
          "data": {
            "text/html": [
              "<div>\n",
              "<style scoped>\n",
              "    .dataframe tbody tr th:only-of-type {\n",
              "        vertical-align: middle;\n",
              "    }\n",
              "\n",
              "    .dataframe tbody tr th {\n",
              "        vertical-align: top;\n",
              "    }\n",
              "\n",
              "    .dataframe thead th {\n",
              "        text-align: right;\n",
              "    }\n",
              "</style>\n",
              "<table border=\"1\" class=\"dataframe\">\n",
              "  <thead>\n",
              "    <tr style=\"text-align: right;\">\n",
              "      <th></th>\n",
              "      <th>index</th>\n",
              "      <th>title</th>\n",
              "      <th>date</th>\n",
              "    </tr>\n",
              "  </thead>\n",
              "  <tbody>\n",
              "    <tr>\n",
              "      <th>0</th>\n",
              "      <td>0</td>\n",
              "      <td>CVS Walgreens Hiring To Help With Vaccine Dist...</td>\n",
              "      <td>2020-12-23</td>\n",
              "    </tr>\n",
              "    <tr>\n",
              "      <th>1</th>\n",
              "      <td>3</td>\n",
              "      <td>FDA approves Covid vaccine emergency use reach...</td>\n",
              "      <td>2020-12-22</td>\n",
              "    </tr>\n",
              "    <tr>\n",
              "      <th>2</th>\n",
              "      <td>7</td>\n",
              "      <td>Should Investors Consider This Biotech Takeover</td>\n",
              "      <td>2020-12-22</td>\n",
              "    </tr>\n",
              "    <tr>\n",
              "      <th>3</th>\n",
              "      <td>12</td>\n",
              "      <td>Daniel Bazarko Net worth insider trading</td>\n",
              "      <td>2020-12-21</td>\n",
              "    </tr>\n",
              "    <tr>\n",
              "      <th>4</th>\n",
              "      <td>13</td>\n",
              "      <td>3 Biotech Stocks That Could Explode Higher 2021</td>\n",
              "      <td>2020-12-21</td>\n",
              "    </tr>\n",
              "  </tbody>\n",
              "</table>\n",
              "</div>"
            ],
            "text/plain": [
              "   index                                              title       date\n",
              "0      0  CVS Walgreens Hiring To Help With Vaccine Dist... 2020-12-23\n",
              "1      3  FDA approves Covid vaccine emergency use reach... 2020-12-22\n",
              "2      7    Should Investors Consider This Biotech Takeover 2020-12-22\n",
              "3     12           Daniel Bazarko Net worth insider trading 2020-12-21\n",
              "4     13    3 Biotech Stocks That Could Explode Higher 2021 2020-12-21"
            ]
          },
          "metadata": {
            "tags": []
          },
          "execution_count": 37
        }
      ]
    },
    {
      "cell_type": "code",
      "metadata": {
        "colab": {
          "base_uri": "https://localhost:8080/"
        },
        "id": "vuuGSK4C_PmP",
        "outputId": "0fd3e0b6-c57e-4486-d344-f19607404948"
      },
      "source": [
        "# checking the number of articles written per day - on average it's roughly 2.5\r\n",
        "alxn_art[\"date\"].value_counts().describe()"
      ],
      "execution_count": 38,
      "outputs": [
        {
          "output_type": "execute_result",
          "data": {
            "text/plain": [
              "count    440.000000\n",
              "mean       2.481818\n",
              "std        3.540155\n",
              "min        1.000000\n",
              "25%        1.000000\n",
              "50%        2.000000\n",
              "75%        3.000000\n",
              "max       60.000000\n",
              "Name: date, dtype: float64"
            ]
          },
          "metadata": {
            "tags": []
          },
          "execution_count": 38
        }
      ]
    },
    {
      "cell_type": "code",
      "metadata": {
        "id": "kVf9uJnk_34I"
      },
      "source": [
        "# preprocessing the data for bert\r\n",
        "alxn_titles = alxn_art.title\r\n",
        "alxn_inputs, alxn_masks = preprocessing_for_bert(alxn_titles)\r\n",
        "alxn_ids = torch.tensor(alxn_titles.index.tolist())\r\n",
        "alxn_inputs = alxn_inputs.numpy().astype(\"int32\")\r\n",
        "alxn_masks = alxn_masks.numpy().astype(\"int32\")\r\n",
        "alxn_ids = alxn_ids.numpy().astype(\"int32\")\r\n",
        "alxn_dic = {\"input_word_ids\":alxn_inputs,\"input_mask\":alxn_masks,\"input_type_ids\":alxn_ids}"
      ],
      "execution_count": 39,
      "outputs": []
    },
    {
      "cell_type": "code",
      "metadata": {
        "id": "LrU-M2hobUci",
        "colab": {
          "base_uri": "https://localhost:8080/"
        },
        "outputId": "1a87131b-79e6-4010-e113-1f8a8490d07c"
      },
      "source": [
        "# predicting the headings\r\n",
        "alxn_preds = model.predict(alxn_dic)\r\n",
        "alxn_preds"
      ],
      "execution_count": 40,
      "outputs": [
        {
          "output_type": "execute_result",
          "data": {
            "text/plain": [
              "array([[1.4571656e-03, 9.9568897e-01, 2.8537426e-03],\n",
              "       [1.1512464e-03, 3.1260812e-01, 6.8624067e-01],\n",
              "       [1.6056178e-03, 9.9729127e-01, 1.1031309e-03],\n",
              "       ...,\n",
              "       [2.2596380e-04, 3.1879242e-03, 9.9658608e-01],\n",
              "       [2.2246482e-02, 7.0733738e-01, 2.7041614e-01],\n",
              "       [1.1333205e-03, 9.9808490e-01, 7.8186445e-04]], dtype=float32)"
            ]
          },
          "metadata": {
            "tags": []
          },
          "execution_count": 40
        }
      ]
    },
    {
      "cell_type": "code",
      "metadata": {
        "id": "NXa2wljXeS9U",
        "colab": {
          "base_uri": "https://localhost:8080/",
          "height": 191
        },
        "outputId": "118018f6-ac29-4692-a7cd-9ae13ddec4b4"
      },
      "source": [
        "# turning the predictions into a dataframe\n",
        "alxn_preds = pd.DataFrame(alxn_preds)\n",
        "# merging the articles and predictions dataframe\n",
        "alxn_sent = alxn_art.merge(alxn_preds, left_index = True, right_index=True)\n",
        "alxn_sent.head()"
      ],
      "execution_count": 41,
      "outputs": [
        {
          "output_type": "execute_result",
          "data": {
            "text/html": [
              "<div>\n",
              "<style scoped>\n",
              "    .dataframe tbody tr th:only-of-type {\n",
              "        vertical-align: middle;\n",
              "    }\n",
              "\n",
              "    .dataframe tbody tr th {\n",
              "        vertical-align: top;\n",
              "    }\n",
              "\n",
              "    .dataframe thead th {\n",
              "        text-align: right;\n",
              "    }\n",
              "</style>\n",
              "<table border=\"1\" class=\"dataframe\">\n",
              "  <thead>\n",
              "    <tr style=\"text-align: right;\">\n",
              "      <th></th>\n",
              "      <th>index</th>\n",
              "      <th>title</th>\n",
              "      <th>date</th>\n",
              "      <th>0</th>\n",
              "      <th>1</th>\n",
              "      <th>2</th>\n",
              "    </tr>\n",
              "  </thead>\n",
              "  <tbody>\n",
              "    <tr>\n",
              "      <th>0</th>\n",
              "      <td>0</td>\n",
              "      <td>CVS Walgreens Hiring To Help With Vaccine Dist...</td>\n",
              "      <td>2020-12-23</td>\n",
              "      <td>0.001457</td>\n",
              "      <td>0.995689</td>\n",
              "      <td>0.002854</td>\n",
              "    </tr>\n",
              "    <tr>\n",
              "      <th>1</th>\n",
              "      <td>3</td>\n",
              "      <td>FDA approves Covid vaccine emergency use reach...</td>\n",
              "      <td>2020-12-22</td>\n",
              "      <td>0.001151</td>\n",
              "      <td>0.312608</td>\n",
              "      <td>0.686241</td>\n",
              "    </tr>\n",
              "    <tr>\n",
              "      <th>2</th>\n",
              "      <td>7</td>\n",
              "      <td>Should Investors Consider This Biotech Takeover</td>\n",
              "      <td>2020-12-22</td>\n",
              "      <td>0.001606</td>\n",
              "      <td>0.997291</td>\n",
              "      <td>0.001103</td>\n",
              "    </tr>\n",
              "    <tr>\n",
              "      <th>3</th>\n",
              "      <td>12</td>\n",
              "      <td>Daniel Bazarko Net worth insider trading</td>\n",
              "      <td>2020-12-21</td>\n",
              "      <td>0.001675</td>\n",
              "      <td>0.996763</td>\n",
              "      <td>0.001562</td>\n",
              "    </tr>\n",
              "    <tr>\n",
              "      <th>4</th>\n",
              "      <td>13</td>\n",
              "      <td>3 Biotech Stocks That Could Explode Higher 2021</td>\n",
              "      <td>2020-12-21</td>\n",
              "      <td>0.001912</td>\n",
              "      <td>0.991855</td>\n",
              "      <td>0.006234</td>\n",
              "    </tr>\n",
              "  </tbody>\n",
              "</table>\n",
              "</div>"
            ],
            "text/plain": [
              "   index                                              title  ...         1         2\n",
              "0      0  CVS Walgreens Hiring To Help With Vaccine Dist...  ...  0.995689  0.002854\n",
              "1      3  FDA approves Covid vaccine emergency use reach...  ...  0.312608  0.686241\n",
              "2      7    Should Investors Consider This Biotech Takeover  ...  0.997291  0.001103\n",
              "3     12           Daniel Bazarko Net worth insider trading  ...  0.996763  0.001562\n",
              "4     13    3 Biotech Stocks That Could Explode Higher 2021  ...  0.991855  0.006234\n",
              "\n",
              "[5 rows x 6 columns]"
            ]
          },
          "metadata": {
            "tags": []
          },
          "execution_count": 41
        }
      ]
    },
    {
      "cell_type": "code",
      "metadata": {
        "id": "2h8P0sfhfHxv",
        "colab": {
          "base_uri": "https://localhost:8080/",
          "height": 277
        },
        "outputId": "919f4079-226d-4cdf-dddb-adc187ef5ecd"
      },
      "source": [
        "# checking the variability of the class columns\r\n",
        "# the differences between the values seem to be high enough\r\n",
        "alxn_sent.describe()"
      ],
      "execution_count": 42,
      "outputs": [
        {
          "output_type": "execute_result",
          "data": {
            "text/html": [
              "<div>\n",
              "<style scoped>\n",
              "    .dataframe tbody tr th:only-of-type {\n",
              "        vertical-align: middle;\n",
              "    }\n",
              "\n",
              "    .dataframe tbody tr th {\n",
              "        vertical-align: top;\n",
              "    }\n",
              "\n",
              "    .dataframe thead th {\n",
              "        text-align: right;\n",
              "    }\n",
              "</style>\n",
              "<table border=\"1\" class=\"dataframe\">\n",
              "  <thead>\n",
              "    <tr style=\"text-align: right;\">\n",
              "      <th></th>\n",
              "      <th>index</th>\n",
              "      <th>0</th>\n",
              "      <th>1</th>\n",
              "      <th>2</th>\n",
              "    </tr>\n",
              "  </thead>\n",
              "  <tbody>\n",
              "    <tr>\n",
              "      <th>count</th>\n",
              "      <td>1092.000000</td>\n",
              "      <td>1092.000000</td>\n",
              "      <td>1092.000000</td>\n",
              "      <td>1092.000000</td>\n",
              "    </tr>\n",
              "    <tr>\n",
              "      <th>mean</th>\n",
              "      <td>3158.169414</td>\n",
              "      <td>0.080609</td>\n",
              "      <td>0.671218</td>\n",
              "      <td>0.248173</td>\n",
              "    </tr>\n",
              "    <tr>\n",
              "      <th>std</th>\n",
              "      <td>2185.939209</td>\n",
              "      <td>0.238152</td>\n",
              "      <td>0.421887</td>\n",
              "      <td>0.392295</td>\n",
              "    </tr>\n",
              "    <tr>\n",
              "      <th>min</th>\n",
              "      <td>0.000000</td>\n",
              "      <td>0.000157</td>\n",
              "      <td>0.001177</td>\n",
              "      <td>0.000536</td>\n",
              "    </tr>\n",
              "    <tr>\n",
              "      <th>25%</th>\n",
              "      <td>1230.750000</td>\n",
              "      <td>0.001179</td>\n",
              "      <td>0.125477</td>\n",
              "      <td>0.001439</td>\n",
              "    </tr>\n",
              "    <tr>\n",
              "      <th>50%</th>\n",
              "      <td>2870.000000</td>\n",
              "      <td>0.002132</td>\n",
              "      <td>0.968956</td>\n",
              "      <td>0.009132</td>\n",
              "    </tr>\n",
              "    <tr>\n",
              "      <th>75%</th>\n",
              "      <td>5149.750000</td>\n",
              "      <td>0.009118</td>\n",
              "      <td>0.996443</td>\n",
              "      <td>0.405082</td>\n",
              "    </tr>\n",
              "    <tr>\n",
              "      <th>max</th>\n",
              "      <td>7097.000000</td>\n",
              "      <td>0.996086</td>\n",
              "      <td>0.998472</td>\n",
              "      <td>0.998579</td>\n",
              "    </tr>\n",
              "  </tbody>\n",
              "</table>\n",
              "</div>"
            ],
            "text/plain": [
              "             index            0            1            2\n",
              "count  1092.000000  1092.000000  1092.000000  1092.000000\n",
              "mean   3158.169414     0.080609     0.671218     0.248173\n",
              "std    2185.939209     0.238152     0.421887     0.392295\n",
              "min       0.000000     0.000157     0.001177     0.000536\n",
              "25%    1230.750000     0.001179     0.125477     0.001439\n",
              "50%    2870.000000     0.002132     0.968956     0.009132\n",
              "75%    5149.750000     0.009118     0.996443     0.405082\n",
              "max    7097.000000     0.996086     0.998472     0.998579"
            ]
          },
          "metadata": {
            "tags": []
          },
          "execution_count": 42
        }
      ]
    },
    {
      "cell_type": "code",
      "metadata": {
        "id": "rh8DgQfYEK9J",
        "colab": {
          "base_uri": "https://localhost:8080/",
          "height": 220
        },
        "outputId": "e590ce04-0135-4764-9f01-3c81737cef16"
      },
      "source": [
        "# final cleanup of the database\r\n",
        "# we decided to use the mean of all the predictions as it seemed to be giving the best results\r\n",
        "alxn_sent = alxn_sent.groupby([\"date\"]).mean()\r\n",
        "alxn_sent.rename(columns = {0:'negative',1:'neutral',2:'positive'}, inplace = True)\r\n",
        "alxn_sent = alxn_sent.loc[:,[\"negative\",\"neutral\",\"positive\"]]\r\n",
        "alxn_sent.head()"
      ],
      "execution_count": 43,
      "outputs": [
        {
          "output_type": "execute_result",
          "data": {
            "text/html": [
              "<div>\n",
              "<style scoped>\n",
              "    .dataframe tbody tr th:only-of-type {\n",
              "        vertical-align: middle;\n",
              "    }\n",
              "\n",
              "    .dataframe tbody tr th {\n",
              "        vertical-align: top;\n",
              "    }\n",
              "\n",
              "    .dataframe thead th {\n",
              "        text-align: right;\n",
              "    }\n",
              "</style>\n",
              "<table border=\"1\" class=\"dataframe\">\n",
              "  <thead>\n",
              "    <tr style=\"text-align: right;\">\n",
              "      <th></th>\n",
              "      <th>negative</th>\n",
              "      <th>neutral</th>\n",
              "      <th>positive</th>\n",
              "    </tr>\n",
              "    <tr>\n",
              "      <th>date</th>\n",
              "      <th></th>\n",
              "      <th></th>\n",
              "      <th></th>\n",
              "    </tr>\n",
              "  </thead>\n",
              "  <tbody>\n",
              "    <tr>\n",
              "      <th>2019-01-03</th>\n",
              "      <td>0.007312</td>\n",
              "      <td>0.671389</td>\n",
              "      <td>0.321299</td>\n",
              "    </tr>\n",
              "    <tr>\n",
              "      <th>2019-01-05</th>\n",
              "      <td>0.002655</td>\n",
              "      <td>0.314926</td>\n",
              "      <td>0.682420</td>\n",
              "    </tr>\n",
              "    <tr>\n",
              "      <th>2019-01-06</th>\n",
              "      <td>0.000931</td>\n",
              "      <td>0.417468</td>\n",
              "      <td>0.581601</td>\n",
              "    </tr>\n",
              "    <tr>\n",
              "      <th>2019-01-07</th>\n",
              "      <td>0.020544</td>\n",
              "      <td>0.628983</td>\n",
              "      <td>0.350473</td>\n",
              "    </tr>\n",
              "    <tr>\n",
              "      <th>2019-01-08</th>\n",
              "      <td>0.986615</td>\n",
              "      <td>0.011467</td>\n",
              "      <td>0.001918</td>\n",
              "    </tr>\n",
              "  </tbody>\n",
              "</table>\n",
              "</div>"
            ],
            "text/plain": [
              "            negative   neutral  positive\n",
              "date                                    \n",
              "2019-01-03  0.007312  0.671389  0.321299\n",
              "2019-01-05  0.002655  0.314926  0.682420\n",
              "2019-01-06  0.000931  0.417468  0.581601\n",
              "2019-01-07  0.020544  0.628983  0.350473\n",
              "2019-01-08  0.986615  0.011467  0.001918"
            ]
          },
          "metadata": {
            "tags": []
          },
          "execution_count": 43
        }
      ]
    },
    {
      "cell_type": "markdown",
      "metadata": {
        "id": "DQPNTcfqhJ_I"
      },
      "source": [
        "## 1.6 Building an embedding layer"
      ]
    },
    {
      "cell_type": "code",
      "metadata": {
        "id": "XI_Uu9UcALA0"
      },
      "source": [
        "# loading in a dataframe with millsions of article headlines\r\n",
        "articles = pd.read_csv(\"https://github.com/AnnaBujniewicz/semester_project/blob/main/data/raw_partner_headlines.csv.zip?raw=true\", compression = \"zip\")"
      ],
      "execution_count": 44,
      "outputs": []
    },
    {
      "cell_type": "code",
      "metadata": {
        "id": "rIGenE9zAYsG",
        "colab": {
          "base_uri": "https://localhost:8080/",
          "height": 191
        },
        "outputId": "1e4ed704-c739-49cb-eced-803b64fde679"
      },
      "source": [
        "# creating a dataframe for training the embedding layer\r\n",
        "# we're stacking three titles next to each other\r\n",
        "# we chose 3 as it's above the average number of articles per day\r\n",
        "articles_for_embed = pd.DataFrame(articles.loc[:,\"headline\"])\r\n",
        "sent_df_for_embed = pd.DataFrame(sent_df[\"title\"])\r\n",
        "embed = pd.concat([sent_df_for_embed,articles_for_embed], ignore_index = True)\r\n",
        "embed[\"title\"].fillna(embed[\"headline\"], inplace = True)\r\n",
        "embed = embed.loc[:,[\"title\"]]\r\n",
        "embed1 = embed[:int(len(embed)/3)]\r\n",
        "embed2 = embed[int(len(embed)/3):int(len(embed)*(2/3))].reset_index()\r\n",
        "embed3 = embed[int(len(embed)*(2/3)):].reset_index()\r\n",
        "embed1[\"title2\"] = embed2[\"title\"]\r\n",
        "embed1[\"title3\"] = embed3[\"title\"]\r\n",
        "embed1[\"titles\"] = embed1[\"title\"]+ \" \" + embed1[\"title2\"]+ \" \" +embed1[\"title3\"]\r\n",
        "embed = embed1.loc[:,[\"titles\"]]\r\n",
        "titles_for_embedding = embed[\"titles\"]\r\n",
        "embed.head()"
      ],
      "execution_count": 45,
      "outputs": [
        {
          "output_type": "execute_result",
          "data": {
            "text/html": [
              "<div>\n",
              "<style scoped>\n",
              "    .dataframe tbody tr th:only-of-type {\n",
              "        vertical-align: middle;\n",
              "    }\n",
              "\n",
              "    .dataframe tbody tr th {\n",
              "        vertical-align: top;\n",
              "    }\n",
              "\n",
              "    .dataframe thead th {\n",
              "        text-align: right;\n",
              "    }\n",
              "</style>\n",
              "<table border=\"1\" class=\"dataframe\">\n",
              "  <thead>\n",
              "    <tr style=\"text-align: right;\">\n",
              "      <th></th>\n",
              "      <th>titles</th>\n",
              "    </tr>\n",
              "  </thead>\n",
              "  <tbody>\n",
              "    <tr>\n",
              "      <th>0</th>\n",
              "      <td>Technopolis plan develop stage area le square ...</td>\n",
              "    </tr>\n",
              "    <tr>\n",
              "      <th>1</th>\n",
              "      <td>The international electronic industry company ...</td>\n",
              "    </tr>\n",
              "    <tr>\n",
              "      <th>2</th>\n",
              "      <td>With new production plant company would increa...</td>\n",
              "    </tr>\n",
              "    <tr>\n",
              "      <th>3</th>\n",
              "      <td>According company updated strategy year Baswar...</td>\n",
              "    </tr>\n",
              "    <tr>\n",
              "      <th>4</th>\n",
              "      <td>FINANCING OF ASPOCOMP GROWTH Aspocomp aggressi...</td>\n",
              "    </tr>\n",
              "  </tbody>\n",
              "</table>\n",
              "</div>"
            ],
            "text/plain": [
              "                                              titles\n",
              "0  Technopolis plan develop stage area le square ...\n",
              "1  The international electronic industry company ...\n",
              "2  With new production plant company would increa...\n",
              "3  According company updated strategy year Baswar...\n",
              "4  FINANCING OF ASPOCOMP GROWTH Aspocomp aggressi..."
            ]
          },
          "metadata": {
            "tags": []
          },
          "execution_count": 45
        }
      ]
    },
    {
      "cell_type": "code",
      "metadata": {
        "colab": {
          "base_uri": "https://localhost:8080/"
        },
        "id": "SsgnNBbQJoRK",
        "outputId": "10af8b3f-d240-451a-88f1-69a1d3d8d585"
      },
      "source": [
        "# checking the number of words in each row - max is 67\r\n",
        "embed1[\"words\"] = embed1[\"titles\"].map(lambda x: len(x.split()))\r\n",
        "embed1[\"words\"].describe()"
      ],
      "execution_count": 46,
      "outputs": [
        {
          "output_type": "execute_result",
          "data": {
            "text/plain": [
              "count    616801.000000\n",
              "mean         27.573582\n",
              "std           5.515953\n",
              "min           7.000000\n",
              "25%          24.000000\n",
              "50%          27.000000\n",
              "75%          31.000000\n",
              "max          67.000000\n",
              "Name: words, dtype: float64"
            ]
          },
          "metadata": {
            "tags": []
          },
          "execution_count": 46
        }
      ]
    },
    {
      "cell_type": "code",
      "metadata": {
        "id": "lSwyevOGg2iY"
      },
      "source": [
        "# creating and fitting a tokenizer instance\n",
        "tokenizer = Tokenizer()\n",
        "tokenizer.fit_on_texts(titles_for_embedding)\n",
        "# finding the vocabulary size equal to 90% of all the used words\n",
        "vocab_size = int((len(tokenizer.word_index) + 1)*0.9)"
      ],
      "execution_count": 47,
      "outputs": []
    },
    {
      "cell_type": "code",
      "metadata": {
        "id": "VB8Z78ghg4nM"
      },
      "source": [
        "# creating a tokenizer instance - this time with a correct number of words\n",
        "tokenizer = Tokenizer(num_words=vocab_size)\n",
        "# fitting it to the train set\n",
        "tokenizer.fit_on_texts(titles_for_embedding)"
      ],
      "execution_count": 48,
      "outputs": []
    },
    {
      "cell_type": "code",
      "metadata": {
        "id": "33LLHRuWhOxc",
        "colab": {
          "base_uri": "https://localhost:8080/"
        },
        "outputId": "270c0206-91b0-4d7e-d23d-88ac2f3f136b"
      },
      "source": [
        "# initiating a word2vec model\n",
        "w2v_model = gensim.models.word2vec.Word2Vec(size=100, window = 5, min_count = 1, workers = 4)\n",
        "documents = [_title.split() for _title in embed.titles]\n",
        "w2v_model.build_vocab(documents)\n",
        "words = w2v_model.wv.vocab.keys()\n",
        "vocab_size = len(words)\n",
        "# training the model based on the list of all the words\n",
        "w2v_model.train(documents, total_examples=len(documents), epochs=16)\n",
        "# checking the most similar words to industry\n",
        "# it seems to work\n",
        "w2v_model.most_similar(\"sector\")"
      ],
      "execution_count": 49,
      "outputs": [
        {
          "output_type": "execute_result",
          "data": {
            "text/plain": [
              "[('stocks', 0.7136110067367554),\n",
              " ('industry', 0.6353136301040649),\n",
              " ('distressed', 0.6058046817779541),\n",
              " ('chains', 0.6026628017425537),\n",
              " ('averages', 0.6026156544685364),\n",
              " ('giants', 0.5963733196258545),\n",
              " ('watch:', 0.5961951017379761),\n",
              " ('equipment,', 0.5866461396217346),\n",
              " ('suppliers', 0.5780730247497559),\n",
              " ('multifunctional', 0.5779206156730652)]"
            ]
          },
          "metadata": {
            "tags": []
          },
          "execution_count": 49
        }
      ]
    },
    {
      "cell_type": "code",
      "metadata": {
        "id": "tl6A5Ctyheyc"
      },
      "source": [
        "# creating a matrix filled with 0 and filling the matrix with the word vectors\n",
        "embedding_matrix = np.zeros((vocab_size, 100))\n",
        "for word, i in tokenizer.word_index.items():\n",
        "  if word in w2v_model.wv:\n",
        "    embedding_matrix[i] = w2v_model.wv[word]"
      ],
      "execution_count": 50,
      "outputs": []
    },
    {
      "cell_type": "code",
      "metadata": {
        "id": "rtFjq4uRhhmH"
      },
      "source": [
        "# creating a non-trainable embedding layer using the embedding matrix\n",
        "embedding_layer = layers.Embedding(vocab_size, 100, weights=[embedding_matrix], input_length=60, trainable=False)"
      ],
      "execution_count": 51,
      "outputs": []
    },
    {
      "cell_type": "markdown",
      "metadata": {
        "id": "TlLhjRt8V6vT"
      },
      "source": [
        "## 1.7 Preparing the stock data and sentiment data"
      ]
    },
    {
      "cell_type": "code",
      "metadata": {
        "colab": {
          "base_uri": "https://localhost:8080/",
          "height": 191
        },
        "id": "96hujXaCV_Op",
        "outputId": "6233e37b-be89-4a41-8667-b6bdd3215d7b"
      },
      "source": [
        "# loading in the dataframe with data for the chosen companies and dates \r\n",
        "yf_df = pd.read_csv(\"https://raw.githubusercontent.com/AnnaBujniewicz/semester_project/main/data/yf_chosen_comp.csv\")\r\n",
        "yf_df.head()"
      ],
      "execution_count": 52,
      "outputs": [
        {
          "output_type": "execute_result",
          "data": {
            "text/html": [
              "<div>\n",
              "<style scoped>\n",
              "    .dataframe tbody tr th:only-of-type {\n",
              "        vertical-align: middle;\n",
              "    }\n",
              "\n",
              "    .dataframe tbody tr th {\n",
              "        vertical-align: top;\n",
              "    }\n",
              "\n",
              "    .dataframe thead th {\n",
              "        text-align: right;\n",
              "    }\n",
              "</style>\n",
              "<table border=\"1\" class=\"dataframe\">\n",
              "  <thead>\n",
              "    <tr style=\"text-align: right;\">\n",
              "      <th></th>\n",
              "      <th>date</th>\n",
              "      <th>TSLA</th>\n",
              "      <th>GOOGL</th>\n",
              "      <th>ALXN</th>\n",
              "      <th>AMZN</th>\n",
              "    </tr>\n",
              "  </thead>\n",
              "  <tbody>\n",
              "    <tr>\n",
              "      <th>0</th>\n",
              "      <td>2019-01-02</td>\n",
              "      <td>62.023998</td>\n",
              "      <td>1054.680054</td>\n",
              "      <td>98.050003</td>\n",
              "      <td>1539.130005</td>\n",
              "    </tr>\n",
              "    <tr>\n",
              "      <th>1</th>\n",
              "      <td>2019-01-03</td>\n",
              "      <td>60.071999</td>\n",
              "      <td>1025.469971</td>\n",
              "      <td>100.209999</td>\n",
              "      <td>1500.280029</td>\n",
              "    </tr>\n",
              "    <tr>\n",
              "      <th>2</th>\n",
              "      <td>2019-01-04</td>\n",
              "      <td>63.537998</td>\n",
              "      <td>1078.069946</td>\n",
              "      <td>106.000000</td>\n",
              "      <td>1575.390015</td>\n",
              "    </tr>\n",
              "    <tr>\n",
              "      <th>3</th>\n",
              "      <td>2019-01-07</td>\n",
              "      <td>66.991997</td>\n",
              "      <td>1075.920044</td>\n",
              "      <td>107.940002</td>\n",
              "      <td>1629.510010</td>\n",
              "    </tr>\n",
              "    <tr>\n",
              "      <th>4</th>\n",
              "      <td>2019-01-08</td>\n",
              "      <td>67.070000</td>\n",
              "      <td>1085.369995</td>\n",
              "      <td>108.610001</td>\n",
              "      <td>1656.579956</td>\n",
              "    </tr>\n",
              "  </tbody>\n",
              "</table>\n",
              "</div>"
            ],
            "text/plain": [
              "         date       TSLA        GOOGL        ALXN         AMZN\n",
              "0  2019-01-02  62.023998  1054.680054   98.050003  1539.130005\n",
              "1  2019-01-03  60.071999  1025.469971  100.209999  1500.280029\n",
              "2  2019-01-04  63.537998  1078.069946  106.000000  1575.390015\n",
              "3  2019-01-07  66.991997  1075.920044  107.940002  1629.510010\n",
              "4  2019-01-08  67.070000  1085.369995  108.610001  1656.579956"
            ]
          },
          "metadata": {
            "tags": []
          },
          "execution_count": 52
        }
      ]
    },
    {
      "cell_type": "code",
      "metadata": {
        "id": "hnR5E6eXWYcE",
        "colab": {
          "base_uri": "https://localhost:8080/",
          "height": 220
        },
        "outputId": "6517face-8aab-4083-b3fb-74569ec5e7ca"
      },
      "source": [
        "# cleaning the dataframe up and preparing it for the neural network\r\n",
        "yf_df.set_index(\"date\", inplace = True)\r\n",
        "yf_df = yf_df.loc[:,[\"ALXN\"]]\r\n",
        "scaler = MinMaxScaler(feature_range=(0, 1))\r\n",
        "yf_df['ALXN'] = scaler.fit_transform(yf_df['ALXN'].values.reshape(-1,1))\r\n",
        "yf_df['ALXN-1'] = yf_df['ALXN']\r\n",
        "yf_df['ALXN-1'] = yf_df['ALXN-1'].shift(1)\r\n",
        "yf_df.dropna(inplace = True)\r\n",
        "yf_df.head()"
      ],
      "execution_count": 53,
      "outputs": [
        {
          "output_type": "execute_result",
          "data": {
            "text/html": [
              "<div>\n",
              "<style scoped>\n",
              "    .dataframe tbody tr th:only-of-type {\n",
              "        vertical-align: middle;\n",
              "    }\n",
              "\n",
              "    .dataframe tbody tr th {\n",
              "        vertical-align: top;\n",
              "    }\n",
              "\n",
              "    .dataframe thead th {\n",
              "        text-align: right;\n",
              "    }\n",
              "</style>\n",
              "<table border=\"1\" class=\"dataframe\">\n",
              "  <thead>\n",
              "    <tr style=\"text-align: right;\">\n",
              "      <th></th>\n",
              "      <th>ALXN</th>\n",
              "      <th>ALXN-1</th>\n",
              "    </tr>\n",
              "    <tr>\n",
              "      <th>date</th>\n",
              "      <th></th>\n",
              "      <th></th>\n",
              "    </tr>\n",
              "  </thead>\n",
              "  <tbody>\n",
              "    <tr>\n",
              "      <th>2019-01-03</th>\n",
              "      <td>0.374962</td>\n",
              "      <td>0.342105</td>\n",
              "    </tr>\n",
              "    <tr>\n",
              "      <th>2019-01-04</th>\n",
              "      <td>0.463036</td>\n",
              "      <td>0.374962</td>\n",
              "    </tr>\n",
              "    <tr>\n",
              "      <th>2019-01-07</th>\n",
              "      <td>0.492546</td>\n",
              "      <td>0.463036</td>\n",
              "    </tr>\n",
              "    <tr>\n",
              "      <th>2019-01-08</th>\n",
              "      <td>0.502738</td>\n",
              "      <td>0.492546</td>\n",
              "    </tr>\n",
              "    <tr>\n",
              "      <th>2019-01-09</th>\n",
              "      <td>0.523273</td>\n",
              "      <td>0.502738</td>\n",
              "    </tr>\n",
              "  </tbody>\n",
              "</table>\n",
              "</div>"
            ],
            "text/plain": [
              "                ALXN    ALXN-1\n",
              "date                          \n",
              "2019-01-03  0.374962  0.342105\n",
              "2019-01-04  0.463036  0.374962\n",
              "2019-01-07  0.492546  0.463036\n",
              "2019-01-08  0.502738  0.492546\n",
              "2019-01-09  0.523273  0.502738"
            ]
          },
          "metadata": {
            "tags": []
          },
          "execution_count": 53
        }
      ]
    },
    {
      "cell_type": "code",
      "metadata": {
        "colab": {
          "base_uri": "https://localhost:8080/",
          "height": 220
        },
        "id": "caw2kwY4ZQYg",
        "outputId": "dc979af3-d329-4d26-d86c-e597e9e76387"
      },
      "source": [
        "# merging the sentiment and stock data\r\n",
        "data_with_sent = yf_df.merge(alxn_sent, how = \"left\", left_index = True, right_index=True)\r\n",
        "# using forward fill to deal with missing values, as it can be assumed that if no new articles were realised\r\n",
        "# the previous day's articles impact still applies\r\n",
        "data_with_sent.ffill(inplace = True)\r\n",
        "data_with_sent.head()"
      ],
      "execution_count": 54,
      "outputs": [
        {
          "output_type": "execute_result",
          "data": {
            "text/html": [
              "<div>\n",
              "<style scoped>\n",
              "    .dataframe tbody tr th:only-of-type {\n",
              "        vertical-align: middle;\n",
              "    }\n",
              "\n",
              "    .dataframe tbody tr th {\n",
              "        vertical-align: top;\n",
              "    }\n",
              "\n",
              "    .dataframe thead th {\n",
              "        text-align: right;\n",
              "    }\n",
              "</style>\n",
              "<table border=\"1\" class=\"dataframe\">\n",
              "  <thead>\n",
              "    <tr style=\"text-align: right;\">\n",
              "      <th></th>\n",
              "      <th>ALXN</th>\n",
              "      <th>ALXN-1</th>\n",
              "      <th>negative</th>\n",
              "      <th>neutral</th>\n",
              "      <th>positive</th>\n",
              "    </tr>\n",
              "    <tr>\n",
              "      <th>date</th>\n",
              "      <th></th>\n",
              "      <th></th>\n",
              "      <th></th>\n",
              "      <th></th>\n",
              "      <th></th>\n",
              "    </tr>\n",
              "  </thead>\n",
              "  <tbody>\n",
              "    <tr>\n",
              "      <th>2019-01-03</th>\n",
              "      <td>0.374962</td>\n",
              "      <td>0.342105</td>\n",
              "      <td>0.007312</td>\n",
              "      <td>0.671389</td>\n",
              "      <td>0.321299</td>\n",
              "    </tr>\n",
              "    <tr>\n",
              "      <th>2019-01-04</th>\n",
              "      <td>0.463036</td>\n",
              "      <td>0.374962</td>\n",
              "      <td>0.007312</td>\n",
              "      <td>0.671389</td>\n",
              "      <td>0.321299</td>\n",
              "    </tr>\n",
              "    <tr>\n",
              "      <th>2019-01-07</th>\n",
              "      <td>0.492546</td>\n",
              "      <td>0.463036</td>\n",
              "      <td>0.020544</td>\n",
              "      <td>0.628983</td>\n",
              "      <td>0.350473</td>\n",
              "    </tr>\n",
              "    <tr>\n",
              "      <th>2019-01-08</th>\n",
              "      <td>0.502738</td>\n",
              "      <td>0.492546</td>\n",
              "      <td>0.986615</td>\n",
              "      <td>0.011467</td>\n",
              "      <td>0.001918</td>\n",
              "    </tr>\n",
              "    <tr>\n",
              "      <th>2019-01-09</th>\n",
              "      <td>0.523273</td>\n",
              "      <td>0.502738</td>\n",
              "      <td>0.001419</td>\n",
              "      <td>0.665206</td>\n",
              "      <td>0.333375</td>\n",
              "    </tr>\n",
              "  </tbody>\n",
              "</table>\n",
              "</div>"
            ],
            "text/plain": [
              "                ALXN    ALXN-1  negative   neutral  positive\n",
              "date                                                        \n",
              "2019-01-03  0.374962  0.342105  0.007312  0.671389  0.321299\n",
              "2019-01-04  0.463036  0.374962  0.007312  0.671389  0.321299\n",
              "2019-01-07  0.492546  0.463036  0.020544  0.628983  0.350473\n",
              "2019-01-08  0.502738  0.492546  0.986615  0.011467  0.001918\n",
              "2019-01-09  0.523273  0.502738  0.001419  0.665206  0.333375"
            ]
          },
          "metadata": {
            "tags": []
          },
          "execution_count": 54
        }
      ]
    },
    {
      "cell_type": "code",
      "metadata": {
        "id": "Zanodx2TaNah"
      },
      "source": [
        "# creating a test and train split\r\n",
        "X_train_sent = data_with_sent.iloc[:,1:][:int(len(data_with_sent[\"ALXN\"])*0.8)]\r\n",
        "X_test_sent = data_with_sent.iloc[:,1:][int(len(data_with_sent[\"ALXN\"])*0.8):]\r\n",
        "y_train_sent = data_with_sent[\"ALXN\"][:int(len(data_with_sent[\"ALXN\"])*0.8)]\r\n",
        "y_test_sent = data_with_sent[\"ALXN\"][int(len(data_with_sent[\"ALXN\"])*0.8):]"
      ],
      "execution_count": 55,
      "outputs": []
    },
    {
      "cell_type": "code",
      "metadata": {
        "id": "_w7-ua1vZgbF"
      },
      "source": [
        "# reshaping the data appropriately\r\n",
        "X_train_sent = X_train_sent.values.reshape(-1,4)\r\n",
        "X_test_sent = X_test_sent.values.reshape(-1,4)\r\n",
        "y_train_sent = y_train_sent.values.reshape(-1,1)\r\n",
        "X_train_sent = np.reshape(X_train_sent, (X_train_sent.shape[0],1,4))\r\n",
        "X_test_sent = np.reshape(X_test_sent, (X_test_sent.shape[0],1,4))"
      ],
      "execution_count": 56,
      "outputs": []
    },
    {
      "cell_type": "markdown",
      "metadata": {
        "id": "1R_h8ee5KJI3"
      },
      "source": [
        "## 1.8 Preparing stock data with article titles"
      ]
    },
    {
      "cell_type": "code",
      "metadata": {
        "id": "wRb3zRLcKZ3e"
      },
      "source": [
        "# creating a dictionary with dates and all respective titles\r\n",
        "alxn_title_by_date = {\"date\":[], \"titles\":[]}\r\n",
        "for date in alxn_art[\"date\"]:\r\n",
        "  alxn_title_by_date[\"titles\"].append(\" \".join(alxn_art[alxn_art[\"date\"]==date][\"title\"]))\r\n",
        "  alxn_title_by_date[\"date\"].append(date)"
      ],
      "execution_count": 57,
      "outputs": []
    },
    {
      "cell_type": "code",
      "metadata": {
        "id": "vCgv4xgeKcto"
      },
      "source": [
        "# turning the dictionary into a dataframe and clearing it appropriately\r\n",
        "alxn_title_by_date = pd.DataFrame(alxn_title_by_date)\r\n",
        "alxn_title_by_date.drop_duplicates(inplace = True)\r\n",
        "alxn_title_by_date.reset_index(inplace = True)\r\n",
        "alxn_title_by_date.set_index(\"date\", inplace = True)\r\n",
        "alxn_title_by_date = yf_df.merge(alxn_title_by_date, how = \"left\", left_index = True, right_index=True)\r\n",
        "alxn_title_by_date.ffill(inplace = True)"
      ],
      "execution_count": 58,
      "outputs": []
    },
    {
      "cell_type": "code",
      "metadata": {
        "id": "XO5srJyYJ8zR"
      },
      "source": [
        "# preparing the titles for embedding layer\r\n",
        "alxn_titles = alxn_title_by_date.titles\r\n",
        "alxn_titles = tokenizer.texts_to_sequences(alxn_titles)\r\n",
        "alxn_titles =  keras.preprocessing.sequence.pad_sequences(alxn_titles, maxlen=60)\r\n",
        "alxn_titles_embed = embedding_layer(alxn_titles)"
      ],
      "execution_count": 59,
      "outputs": []
    },
    {
      "cell_type": "code",
      "metadata": {
        "id": "d3Y4uEZ9YtkW"
      },
      "source": [
        "# creating a function that puts together stock data and the embedded tensor\r\n",
        "def join_stock_and_embed(stock, tensor):\r\n",
        "  assert len(tensor.shape) == 2, \"Tensor should be of 2 dimensions nothing more\"\r\n",
        "  stock_tensor = np.repeat(stock, tensor.shape[-1])\r\n",
        "  new_tensor = np.concatenate((np.expand_dims(stock_tensor,0), tensor))\r\n",
        "  return new_tensor"
      ],
      "execution_count": 61,
      "outputs": []
    },
    {
      "cell_type": "code",
      "metadata": {
        "colab": {
          "base_uri": "https://localhost:8080/"
        },
        "id": "2rEYJhS4TzTi",
        "outputId": "c1921617-5402-4fe4-e30c-3f0e008f32c4"
      },
      "source": [
        "# prepating the data for the function\r\n",
        "target = yf_df[\"ALXN\"].tolist()\r\n",
        "stock = yf_df[\"ALXN-1\"].tolist()\r\n",
        "tensors = alxn_titles_embed.numpy()\r\n",
        "input_tensor = []\r\n",
        "# applying the function to each row of the embedded titles and stock data\r\n",
        "for i, x in enumerate(stock):\r\n",
        "  input_tensor.append(join_stock_and_embed(x, tensors[i]))"
      ],
      "execution_count": 62,
      "outputs": [
        {
          "output_type": "execute_result",
          "data": {
            "text/plain": [
              "(481, 61, 100)"
            ]
          },
          "metadata": {
            "tags": []
          },
          "execution_count": 62
        }
      ]
    },
    {
      "cell_type": "code",
      "metadata": {
        "id": "ucJa_gWyb8Lx"
      },
      "source": [
        "# creatin the test and train split\r\n",
        "X_train_titl = np.asarray(input_tensor)[:int(np.asarray(input_tensor).shape[0]*0.8)]\r\n",
        "X_test_titl = np.asarray(input_tensor)[int(np.asarray(input_tensor).shape[0]*0.8):]\r\n",
        "y_train_titl = yf_df[\"ALXN\"][:int(len(yf_df[\"ALXN\"])*0.8)]\r\n",
        "y_test_titl = yf_df[\"ALXN\"][int(len(yf_df[\"ALXN\"])*0.8):]\r\n",
        "# reshaping the needed data\r\n",
        "y_train_titl = y_train_titl.values.reshape(-1,1)"
      ],
      "execution_count": 63,
      "outputs": []
    },
    {
      "cell_type": "markdown",
      "metadata": {
        "id": "Re5JOrrJih-O"
      },
      "source": [
        "# 2 Neural network with sentiment analysis"
      ]
    },
    {
      "cell_type": "markdown",
      "metadata": {
        "id": "u5XUtUv1GQSJ"
      },
      "source": [
        "Scaling was not used for the new variables since they were already between 0 and 1. Additionally, the relation in between them is likely important to consider.\n"
      ]
    },
    {
      "cell_type": "code",
      "metadata": {
        "id": "9_sHqerzlY5l",
        "colab": {
          "base_uri": "https://localhost:8080/"
        },
        "outputId": "8f0fd7eb-1613-447c-d671-cd81d0957d03"
      },
      "source": [
        "# creating a sequential model\n",
        "model = Sequential()\n",
        "model.add(layers.LSTM(128, return_sequences=True, dropout=0.2, recurrent_dropout=0.2, input_shape = (1,4)))\n",
        "model.add(layers.LSTM(64, dropout=0.2, recurrent_dropout=0.2))\n",
        "model.add(layers.Dropout(0.5))\n",
        "model.add(layers.Dense(256, activation = \"relu\"))\n",
        "model.add(layers.Dense(128, activation = \"relu\"))\n",
        "model.add(layers.Dense(64, activation = \"relu\"))\n",
        "model.add(layers.Dropout(0.2))\n",
        "model.add(layers.Dense(1))"
      ],
      "execution_count": 65,
      "outputs": [
        {
          "output_type": "stream",
          "text": [
            "WARNING:tensorflow:Layer lstm will not use cuDNN kernel since it doesn't meet the cuDNN kernel criteria. It will use generic GPU kernel as fallback when running on GPU\n"
          ],
          "name": "stdout"
        },
        {
          "output_type": "stream",
          "text": [
            "WARNING:tensorflow:Layer lstm will not use cuDNN kernel since it doesn't meet the cuDNN kernel criteria. It will use generic GPU kernel as fallback when running on GPU\n"
          ],
          "name": "stderr"
        },
        {
          "output_type": "stream",
          "text": [
            "WARNING:tensorflow:Layer lstm_1 will not use cuDNN kernel since it doesn't meet the cuDNN kernel criteria. It will use generic GPU kernel as fallback when running on GPU\n"
          ],
          "name": "stdout"
        },
        {
          "output_type": "stream",
          "text": [
            "WARNING:tensorflow:Layer lstm_1 will not use cuDNN kernel since it doesn't meet the cuDNN kernel criteria. It will use generic GPU kernel as fallback when running on GPU\n"
          ],
          "name": "stderr"
        }
      ]
    },
    {
      "cell_type": "code",
      "metadata": {
        "id": "litLCXp6leJA"
      },
      "source": [
        "# defining early stopping with the patience of 1 period\n",
        "stop = EarlyStopping(monitor = \"loss\", patience = 1, mode = \"min\", restore_best_weights=True)\n",
        "# the same learning rate as for the first model - again caused by stability issues\n",
        "opt = optimizers.Adam(learning_rate=0.0001)"
      ],
      "execution_count": 66,
      "outputs": []
    },
    {
      "cell_type": "code",
      "metadata": {
        "id": "65soyLFWl98-"
      },
      "source": [
        "# compiling the model\r\n",
        "model.compile(loss='mean_squared_error', optimizer=opt)"
      ],
      "execution_count": 67,
      "outputs": []
    },
    {
      "cell_type": "code",
      "metadata": {
        "id": "F6IQ7tUQl2oN",
        "colab": {
          "base_uri": "https://localhost:8080/"
        },
        "outputId": "14d8f3c8-d1ca-4b2e-e7c0-8d1c9d1e598a"
      },
      "source": [
        "# fitting the model to the data\r\n",
        "history = model.fit(X_train_sent, y_train_sent, epochs=50, batch_size=1, verbose=1, callbacks = [stop])"
      ],
      "execution_count": 68,
      "outputs": [
        {
          "output_type": "stream",
          "text": [
            "Epoch 1/50\n",
            "384/384 [==============================] - 5s 6ms/step - loss: 0.2311\n",
            "Epoch 2/50\n",
            "384/384 [==============================] - 3s 7ms/step - loss: 0.0423\n",
            "Epoch 3/50\n",
            "384/384 [==============================] - 2s 5ms/step - loss: 0.0387\n",
            "Epoch 4/50\n",
            "384/384 [==============================] - 2s 5ms/step - loss: 0.0344\n",
            "Epoch 5/50\n",
            "384/384 [==============================] - 2s 5ms/step - loss: 0.0349\n"
          ],
          "name": "stdout"
        }
      ]
    },
    {
      "cell_type": "code",
      "metadata": {
        "id": "QCPBY0K1rSxZ"
      },
      "source": [
        "# predicting the data\r\n",
        "y_pred = model.predict(X_test_sent)"
      ],
      "execution_count": 69,
      "outputs": []
    },
    {
      "cell_type": "code",
      "metadata": {
        "id": "uDcR5GIxrWK8"
      },
      "source": [
        "# filling a column with missing values and the predictions\n",
        "data_with_sent[\"pred\"] = np.nan\n",
        "data_with_sent[\"pred\"][int(len(data_with_sent[\"ALXN\"])*0.8):] = np.array(y_pred).squeeze(1)"
      ],
      "execution_count": 70,
      "outputs": []
    },
    {
      "cell_type": "code",
      "metadata": {
        "id": "ELMoh6GIraHb",
        "colab": {
          "base_uri": "https://localhost:8080/",
          "height": 525
        },
        "outputId": "d8139ce0-c910-49a2-8a40-71537d75a0e1"
      },
      "source": [
        "# plotting the predictions as an extension of the training data\n",
        "plt.figure(figsize=(12,8))\n",
        "plt.figure(figsize=(12,8))\n",
        "plt.xticks(rotation=45)\n",
        "plt.plot(data_with_sent.ALXN[:int(len(data_with_sent[\"ALXN\"])*0.8)])\n",
        "plt.plot(data_with_sent[\"pred\"][int(len(data_with_sent[\"ALXN\"])*0.8):])\n",
        "plt.legend(['Train','Predictions'], loc='upper_center')\n",
        "plt.show()"
      ],
      "execution_count": 71,
      "outputs": [
        {
          "output_type": "display_data",
          "data": {
            "text/plain": [
              "<Figure size 864x576 with 0 Axes>"
            ]
          },
          "metadata": {
            "tags": []
          }
        },
        {
          "output_type": "display_data",
          "data": {
            "image/png": "[encoded data removed]",
            "text/plain": [
              "<Figure size 864x576 with 1 Axes>"
            ]
          },
          "metadata": {
            "tags": [],
            "needs_background": "light"
          }
        }
      ]
    },
    {
      "cell_type": "code",
      "metadata": {
        "id": "Pd40IAqErdXU",
        "colab": {
          "base_uri": "https://localhost:8080/",
          "height": 537
        },
        "outputId": "d017aa13-b33d-4381-9c88-645e2bc56c51"
      },
      "source": [
        "# plotting the predictions against the test data\n",
        "plt.figure(figsize=(12,8))\n",
        "plt.figure(figsize=(12,8))\n",
        "plt.xticks(rotation=45)\n",
        "plt.plot(y_test_sent)\n",
        "plt.plot(data_with_sent[\"pred\"][int(len(data_with_sent[\"ALXN\"])*0.8):])\n",
        "plt.legend(['Test','Predictions'], loc='upper_center')\n",
        "plt.show()"
      ],
      "execution_count": 72,
      "outputs": [
        {
          "output_type": "display_data",
          "data": {
            "text/plain": [
              "<Figure size 864x576 with 0 Axes>"
            ]
          },
          "metadata": {
            "tags": []
          }
        },
        {
          "output_type": "display_data",
          "data": {
            "image/png": "[encoded data removed]",
            "text/plain": [
              "<Figure size 864x576 with 1 Axes>"
            ]
          },
          "metadata": {
            "tags": [],
            "needs_background": "light"
          }
        }
      ]
    },
    {
      "cell_type": "code",
      "metadata": {
        "id": "bh3xxYL0rit4",
        "colab": {
          "base_uri": "https://localhost:8080/"
        },
        "outputId": "a87a1ff6-8d25-463a-bb33-4e9fcf3c7a12"
      },
      "source": [
        "# checking the mean squared error\r\n",
        "np.sqrt(np.mean(data_with_sent[\"pred\"][int(len(data_with_sent[\"ALXN\"])*0.8):] - y_test_sent)**2)"
      ],
      "execution_count": 73,
      "outputs": [
        {
          "output_type": "execute_result",
          "data": {
            "text/plain": [
              "0.054608888839958264"
            ]
          },
          "metadata": {
            "tags": []
          },
          "execution_count": 73
        }
      ]
    },
    {
      "cell_type": "markdown",
      "metadata": {
        "id": "GA4mreLb2NMV"
      },
      "source": [
        "# 3 Neural network for the articles with title text"
      ]
    },
    {
      "cell_type": "code",
      "metadata": {
        "id": "2LFC1dmIdfJG",
        "colab": {
          "base_uri": "https://localhost:8080/"
        },
        "outputId": "be9940c9-148d-4b64-e490-d00aa7273c1e"
      },
      "source": [
        "# creating a sequential model\r\n",
        "model = Sequential()\r\n",
        "model.add(layers.LSTM(128, return_sequences=True, dropout=0.2, recurrent_dropout=0.2, input_shape = (61,100)))\r\n",
        "model.add(layers.LSTM(64, dropout=0.2, recurrent_dropout=0.2))\r\n",
        "model.add(layers.Dropout(0.5))\r\n",
        "model.add(layers.Dense(256, activation = \"relu\"))\r\n",
        "model.add(layers.Dense(128, activation = \"relu\"))\r\n",
        "model.add(layers.Dense(64, activation = \"relu\"))\r\n",
        "model.add(layers.Dropout(0.2))\r\n",
        "model.add(layers.Dense(1))"
      ],
      "execution_count": 74,
      "outputs": [
        {
          "output_type": "stream",
          "text": [
            "WARNING:tensorflow:Layer lstm_2 will not use cuDNN kernel since it doesn't meet the cuDNN kernel criteria. It will use generic GPU kernel as fallback when running on GPU\n"
          ],
          "name": "stdout"
        },
        {
          "output_type": "stream",
          "text": [
            "WARNING:tensorflow:Layer lstm_2 will not use cuDNN kernel since it doesn't meet the cuDNN kernel criteria. It will use generic GPU kernel as fallback when running on GPU\n"
          ],
          "name": "stderr"
        },
        {
          "output_type": "stream",
          "text": [
            "WARNING:tensorflow:Layer lstm_3 will not use cuDNN kernel since it doesn't meet the cuDNN kernel criteria. It will use generic GPU kernel as fallback when running on GPU\n"
          ],
          "name": "stdout"
        },
        {
          "output_type": "stream",
          "text": [
            "WARNING:tensorflow:Layer lstm_3 will not use cuDNN kernel since it doesn't meet the cuDNN kernel criteria. It will use generic GPU kernel as fallback when running on GPU\n"
          ],
          "name": "stderr"
        }
      ]
    },
    {
      "cell_type": "code",
      "metadata": {
        "id": "ZGiLZ9pmdhmO"
      },
      "source": [
        "# defining early stopping with the patience of 1 period\r\n",
        "stop = EarlyStopping(monitor = \"loss\", patience = 1, mode = \"min\", restore_best_weights=True)\r\n",
        "# the same learning rate as for the first model - again caused by stability issues\r\n",
        "opt = optimizers.Adam(learning_rate=0.0001)"
      ],
      "execution_count": 75,
      "outputs": []
    },
    {
      "cell_type": "code",
      "metadata": {
        "id": "xe0Gs0lfdjey"
      },
      "source": [
        "# compiling the model\r\n",
        "model.compile(loss='mean_squared_error', optimizer=opt)"
      ],
      "execution_count": 76,
      "outputs": []
    },
    {
      "cell_type": "code",
      "metadata": {
        "id": "HRJLSQdWdlaF",
        "colab": {
          "base_uri": "https://localhost:8080/"
        },
        "outputId": "cfdfb469-0472-4e4a-86f6-d4d1d7b37201"
      },
      "source": [
        "# fitting the model to the data\r\n",
        "history = model.fit(X_train_titl, y_train_titl, epochs=50, batch_size=1, verbose=1, callbacks = [stop])"
      ],
      "execution_count": 77,
      "outputs": [
        {
          "output_type": "stream",
          "text": [
            "Epoch 1/50\n",
            "384/384 [==============================] - 74s 187ms/step - loss: 0.1654\n",
            "Epoch 2/50\n",
            "384/384 [==============================] - 68s 176ms/step - loss: 0.0634\n",
            "Epoch 3/50\n",
            "384/384 [==============================] - 70s 181ms/step - loss: 0.0669\n",
            "Epoch 4/50\n",
            "384/384 [==============================] - 68s 178ms/step - loss: 0.0516\n",
            "Epoch 5/50\n",
            "384/384 [==============================] - 70s 181ms/step - loss: 0.0399\n",
            "Epoch 6/50\n",
            "384/384 [==============================] - 71s 185ms/step - loss: 0.0429\n",
            "Epoch 7/50\n",
            "384/384 [==============================] - 68s 177ms/step - loss: 0.0416\n",
            "Epoch 8/50\n",
            "384/384 [==============================] - 69s 179ms/step - loss: 0.0345\n",
            "Epoch 9/50\n",
            "384/384 [==============================] - 66s 172ms/step - loss: 0.0325\n",
            "Epoch 10/50\n",
            "384/384 [==============================] - 74s 192ms/step - loss: 0.0318\n"
          ],
          "name": "stdout"
        }
      ]
    },
    {
      "cell_type": "code",
      "metadata": {
        "id": "AlwGIUW9doK6"
      },
      "source": [
        "# predicting the data\r\n",
        "y_pred = model.predict(X_test_titl)"
      ],
      "execution_count": 78,
      "outputs": []
    },
    {
      "cell_type": "code",
      "metadata": {
        "id": "Y4dgLpqJdqUR"
      },
      "source": [
        "# filling a column with missing values and the predictions\r\n",
        "yf_df[\"pred\"] = np.nan\r\n",
        "yf_df[\"pred\"][int(len(yf_df[\"ALXN\"])*0.8):] = np.array(y_pred).squeeze(1)"
      ],
      "execution_count": 79,
      "outputs": []
    },
    {
      "cell_type": "code",
      "metadata": {
        "id": "bDPyK1W_dszt",
        "colab": {
          "base_uri": "https://localhost:8080/",
          "height": 537
        },
        "outputId": "8228930f-87a5-48e0-b341-d2260ba4d6ec"
      },
      "source": [
        "# plotting the predictions as an extension of the training data\r\n",
        "plt.figure(figsize=(12,8))\r\n",
        "plt.figure(figsize=(12,8))\r\n",
        "plt.xticks(rotation=45)\r\n",
        "plt.plot(yf_df.ALXN[:int(len(yf_df[\"ALXN\"])*0.8)])\r\n",
        "plt.plot(yf_df[\"pred\"][int(len(yf_df[\"ALXN\"])*0.8):])\r\n",
        "plt.legend(['Train','Predictions'], loc='upper_center')\r\n",
        "plt.show()"
      ],
      "execution_count": 80,
      "outputs": [
        {
          "output_type": "display_data",
          "data": {
            "text/plain": [
              "<Figure size 864x576 with 0 Axes>"
            ]
          },
          "metadata": {
            "tags": []
          }
        },
        {
          "output_type": "display_data",
          "data": {
            "image/png": "[encoded data removed]",
            "text/plain": [
              "<Figure size 864x576 with 1 Axes>"
            ]
          },
          "metadata": {
            "tags": [],
            "needs_background": "light"
          }
        }
      ]
    },
    {
      "cell_type": "code",
      "metadata": {
        "id": "6buWu2KWdurW",
        "colab": {
          "base_uri": "https://localhost:8080/",
          "height": 537
        },
        "outputId": "7c2d219d-5b07-40f3-c3ab-474fc62e4030"
      },
      "source": [
        "# plotting the predictions against the test data\r\n",
        "plt.figure(figsize=(12,8))\r\n",
        "plt.figure(figsize=(12,8))\r\n",
        "plt.xticks(rotation=45)\r\n",
        "plt.plot(y_test_titl)\r\n",
        "plt.plot(yf_df[\"pred\"][int(len(yf_df[\"ALXN\"])*0.8):])\r\n",
        "plt.legend(['Test','Predictions'], loc='upper_center')\r\n",
        "plt.show()"
      ],
      "execution_count": 81,
      "outputs": [
        {
          "output_type": "display_data",
          "data": {
            "text/plain": [
              "<Figure size 864x576 with 0 Axes>"
            ]
          },
          "metadata": {
            "tags": []
          }
        },
        {
          "output_type": "display_data",
          "data": {
            "image/png": "[encoded data removed]",
            "text/plain": [
              "<Figure size 864x576 with 1 Axes>"
            ]
          },
          "metadata": {
            "tags": [],
            "needs_background": "light"
          }
        }
      ]
    },
    {
      "cell_type": "code",
      "metadata": {
        "id": "t7DXmuundwT1",
        "colab": {
          "base_uri": "https://localhost:8080/"
        },
        "outputId": "4c87321c-9343-49d8-84ed-9c9bed3718a1"
      },
      "source": [
        "# checking the mean squared error\r\n",
        "np.sqrt(np.mean(yf_df[\"pred\"][int(len(data_with_sent[\"ALXN\"])*0.8):] - y_test_titl)**2)"
      ],
      "execution_count": 82,
      "outputs": [
        {
          "output_type": "execute_result",
          "data": {
            "text/plain": [
              "0.06722581815967427"
            ]
          },
          "metadata": {
            "tags": []
          },
          "execution_count": 82
        }
      ]
    },
    {
      "cell_type": "markdown",
      "metadata": {
        "id": "kxVS15ZV0rDP"
      },
      "source": [
        "# Initial backtesting "
      ]
    },
    {
      "cell_type": "code",
      "metadata": {
        "id": "MTuCRa4b0qc7"
      },
      "source": [
        "backtest_base = yf_df.dropna()\r\n",
        "backtest_base2 = data_with_sent.dropna()"
      ],
      "execution_count": 148,
      "outputs": []
    },
    {
      "cell_type": "code",
      "metadata": {
        "id": "NpHQyQBH9MP4"
      },
      "source": [
        "alxn_backtest =  pd.read_csv(\"/content/alxn_predictions\")\r\n",
        "alxn_backtest = alxn_backtest.dropna()\r\n",
        "alxn_backtest = alxn_backtest.set_index(\"date\")"
      ],
      "execution_count": 149,
      "outputs": []
    },
    {
      "cell_type": "code",
      "metadata": {
        "colab": {
          "base_uri": "https://localhost:8080/",
          "height": 220
        },
        "id": "Ti1dOTc-vYKk",
        "outputId": "85bcc877-e946-451d-d0cc-555b4418137a"
      },
      "source": [
        "backtest_base.rename(columns = {'pred':'pred_title'}, inplace = True) \r\n",
        "backtest_base[\"pred_sent\"] = backtest_base2[\"pred\"]\r\n",
        "backtest_base[\"pred_rf\"] = alxn_backtest[\"pred_RF\"]\r\n",
        "backtest_base[\"pred_lr\"] = alxn_backtest[\"pred_LR\"]\r\n",
        "backtest_base[\"pred_nn\"] = alxn_backtest[\"pred_N\"]\r\n",
        "backtest_base.head()"
      ],
      "execution_count": 150,
      "outputs": [
        {
          "output_type": "execute_result",
          "data": {
            "text/html": [
              "<div>\n",
              "<style scoped>\n",
              "    .dataframe tbody tr th:only-of-type {\n",
              "        vertical-align: middle;\n",
              "    }\n",
              "\n",
              "    .dataframe tbody tr th {\n",
              "        vertical-align: top;\n",
              "    }\n",
              "\n",
              "    .dataframe thead th {\n",
              "        text-align: right;\n",
              "    }\n",
              "</style>\n",
              "<table border=\"1\" class=\"dataframe\">\n",
              "  <thead>\n",
              "    <tr style=\"text-align: right;\">\n",
              "      <th></th>\n",
              "      <th>ALXN</th>\n",
              "      <th>ALXN-1</th>\n",
              "      <th>pred_title</th>\n",
              "      <th>pred_sent</th>\n",
              "      <th>pred_rf</th>\n",
              "      <th>pred_lr</th>\n",
              "      <th>pred_nn</th>\n",
              "    </tr>\n",
              "    <tr>\n",
              "      <th>date</th>\n",
              "      <th></th>\n",
              "      <th></th>\n",
              "      <th></th>\n",
              "      <th></th>\n",
              "      <th></th>\n",
              "      <th></th>\n",
              "      <th></th>\n",
              "    </tr>\n",
              "  </thead>\n",
              "  <tbody>\n",
              "    <tr>\n",
              "      <th>2020-07-14</th>\n",
              "      <td>0.502130</td>\n",
              "      <td>0.478704</td>\n",
              "      <td>0.385028</td>\n",
              "      <td>0.499459</td>\n",
              "      <td>0.456329</td>\n",
              "      <td>0.480949</td>\n",
              "      <td>0.376648</td>\n",
              "    </tr>\n",
              "    <tr>\n",
              "      <th>2020-07-15</th>\n",
              "      <td>0.541071</td>\n",
              "      <td>0.502130</td>\n",
              "      <td>0.524176</td>\n",
              "      <td>0.497563</td>\n",
              "      <td>0.515445</td>\n",
              "      <td>0.503870</td>\n",
              "      <td>0.391649</td>\n",
              "    </tr>\n",
              "    <tr>\n",
              "      <th>2020-07-16</th>\n",
              "      <td>0.515820</td>\n",
              "      <td>0.541071</td>\n",
              "      <td>0.716936</td>\n",
              "      <td>0.514954</td>\n",
              "      <td>0.515907</td>\n",
              "      <td>0.541972</td>\n",
              "      <td>0.416346</td>\n",
              "    </tr>\n",
              "    <tr>\n",
              "      <th>2020-07-17</th>\n",
              "      <td>0.512321</td>\n",
              "      <td>0.515820</td>\n",
              "      <td>0.716933</td>\n",
              "      <td>0.508098</td>\n",
              "      <td>0.544831</td>\n",
              "      <td>0.517265</td>\n",
              "      <td>0.400517</td>\n",
              "    </tr>\n",
              "    <tr>\n",
              "      <th>2020-07-20</th>\n",
              "      <td>0.516885</td>\n",
              "      <td>0.512321</td>\n",
              "      <td>0.545738</td>\n",
              "      <td>0.503588</td>\n",
              "      <td>0.524583</td>\n",
              "      <td>0.513842</td>\n",
              "      <td>0.398243</td>\n",
              "    </tr>\n",
              "  </tbody>\n",
              "</table>\n",
              "</div>"
            ],
            "text/plain": [
              "                ALXN    ALXN-1  pred_title  ...   pred_rf   pred_lr   pred_nn\n",
              "date                                        ...                              \n",
              "2020-07-14  0.502130  0.478704    0.385028  ...  0.456329  0.480949  0.376648\n",
              "2020-07-15  0.541071  0.502130    0.524176  ...  0.515445  0.503870  0.391649\n",
              "2020-07-16  0.515820  0.541071    0.716936  ...  0.515907  0.541972  0.416346\n",
              "2020-07-17  0.512321  0.515820    0.716933  ...  0.544831  0.517265  0.400517\n",
              "2020-07-20  0.516885  0.512321    0.545738  ...  0.524583  0.513842  0.398243\n",
              "\n",
              "[5 rows x 7 columns]"
            ]
          },
          "metadata": {
            "tags": []
          },
          "execution_count": 150
        }
      ]
    },
    {
      "cell_type": "code",
      "metadata": {
        "colab": {
          "base_uri": "https://localhost:8080/",
          "height": 220
        },
        "id": "c9uKLMf4xztE",
        "outputId": "2962bec5-00ac-4784-bc1f-ad7a528d918d"
      },
      "source": [
        "for col in backtest_base.columns[2:]:\r\n",
        "  backtest_base[\"diff_{column}\".format(column = col)] = (backtest_base[col]-backtest_base[\"ALXN\"])/backtest_base[\"ALXN\"]\r\n",
        "backtest_base.head()"
      ],
      "execution_count": 151,
      "outputs": [
        {
          "output_type": "execute_result",
          "data": {
            "text/html": [
              "<div>\n",
              "<style scoped>\n",
              "    .dataframe tbody tr th:only-of-type {\n",
              "        vertical-align: middle;\n",
              "    }\n",
              "\n",
              "    .dataframe tbody tr th {\n",
              "        vertical-align: top;\n",
              "    }\n",
              "\n",
              "    .dataframe thead th {\n",
              "        text-align: right;\n",
              "    }\n",
              "</style>\n",
              "<table border=\"1\" class=\"dataframe\">\n",
              "  <thead>\n",
              "    <tr style=\"text-align: right;\">\n",
              "      <th></th>\n",
              "      <th>ALXN</th>\n",
              "      <th>ALXN-1</th>\n",
              "      <th>pred_title</th>\n",
              "      <th>pred_sent</th>\n",
              "      <th>pred_rf</th>\n",
              "      <th>pred_lr</th>\n",
              "      <th>pred_nn</th>\n",
              "      <th>diff_pred_title</th>\n",
              "      <th>diff_pred_sent</th>\n",
              "      <th>diff_pred_rf</th>\n",
              "      <th>diff_pred_lr</th>\n",
              "      <th>diff_pred_nn</th>\n",
              "    </tr>\n",
              "    <tr>\n",
              "      <th>date</th>\n",
              "      <th></th>\n",
              "      <th></th>\n",
              "      <th></th>\n",
              "      <th></th>\n",
              "      <th></th>\n",
              "      <th></th>\n",
              "      <th></th>\n",
              "      <th></th>\n",
              "      <th></th>\n",
              "      <th></th>\n",
              "      <th></th>\n",
              "      <th></th>\n",
              "    </tr>\n",
              "  </thead>\n",
              "  <tbody>\n",
              "    <tr>\n",
              "      <th>2020-07-14</th>\n",
              "      <td>0.502130</td>\n",
              "      <td>0.478704</td>\n",
              "      <td>0.385028</td>\n",
              "      <td>0.499459</td>\n",
              "      <td>0.456329</td>\n",
              "      <td>0.480949</td>\n",
              "      <td>0.376648</td>\n",
              "      <td>-0.233209</td>\n",
              "      <td>-0.005319</td>\n",
              "      <td>-0.091213</td>\n",
              "      <td>-0.042182</td>\n",
              "      <td>-0.249899</td>\n",
              "    </tr>\n",
              "    <tr>\n",
              "      <th>2020-07-15</th>\n",
              "      <td>0.541071</td>\n",
              "      <td>0.502130</td>\n",
              "      <td>0.524176</td>\n",
              "      <td>0.497563</td>\n",
              "      <td>0.515445</td>\n",
              "      <td>0.503870</td>\n",
              "      <td>0.391649</td>\n",
              "      <td>-0.031225</td>\n",
              "      <td>-0.080410</td>\n",
              "      <td>-0.047361</td>\n",
              "      <td>-0.068755</td>\n",
              "      <td>-0.276159</td>\n",
              "    </tr>\n",
              "    <tr>\n",
              "      <th>2020-07-16</th>\n",
              "      <td>0.515820</td>\n",
              "      <td>0.541071</td>\n",
              "      <td>0.716936</td>\n",
              "      <td>0.514954</td>\n",
              "      <td>0.515907</td>\n",
              "      <td>0.541972</td>\n",
              "      <td>0.416346</td>\n",
              "      <td>0.389895</td>\n",
              "      <td>-0.001678</td>\n",
              "      <td>0.000170</td>\n",
              "      <td>0.050700</td>\n",
              "      <td>-0.192846</td>\n",
              "    </tr>\n",
              "    <tr>\n",
              "      <th>2020-07-17</th>\n",
              "      <td>0.512321</td>\n",
              "      <td>0.515820</td>\n",
              "      <td>0.716933</td>\n",
              "      <td>0.508098</td>\n",
              "      <td>0.544831</td>\n",
              "      <td>0.517265</td>\n",
              "      <td>0.400517</td>\n",
              "      <td>0.399383</td>\n",
              "      <td>-0.008244</td>\n",
              "      <td>0.063456</td>\n",
              "      <td>0.009650</td>\n",
              "      <td>-0.218232</td>\n",
              "    </tr>\n",
              "    <tr>\n",
              "      <th>2020-07-20</th>\n",
              "      <td>0.516885</td>\n",
              "      <td>0.512321</td>\n",
              "      <td>0.545738</td>\n",
              "      <td>0.503588</td>\n",
              "      <td>0.524583</td>\n",
              "      <td>0.513842</td>\n",
              "      <td>0.398243</td>\n",
              "      <td>0.055821</td>\n",
              "      <td>-0.025725</td>\n",
              "      <td>0.014894</td>\n",
              "      <td>-0.005887</td>\n",
              "      <td>-0.229532</td>\n",
              "    </tr>\n",
              "  </tbody>\n",
              "</table>\n",
              "</div>"
            ],
            "text/plain": [
              "                ALXN    ALXN-1  ...  diff_pred_lr  diff_pred_nn\n",
              "date                            ...                            \n",
              "2020-07-14  0.502130  0.478704  ...     -0.042182     -0.249899\n",
              "2020-07-15  0.541071  0.502130  ...     -0.068755     -0.276159\n",
              "2020-07-16  0.515820  0.541071  ...      0.050700     -0.192846\n",
              "2020-07-17  0.512321  0.515820  ...      0.009650     -0.218232\n",
              "2020-07-20  0.516885  0.512321  ...     -0.005887     -0.229532\n",
              "\n",
              "[5 rows x 12 columns]"
            ]
          },
          "metadata": {
            "tags": []
          },
          "execution_count": 151
        }
      ]
    },
    {
      "cell_type": "code",
      "metadata": {
        "id": "8DNiQoYv4hc8"
      },
      "source": [
        "def get_positions(difference):\r\n",
        "    if difference > 0.03:    \r\n",
        "        return 1\r\n",
        "    elif difference < -0.03:       \r\n",
        "        return -1\r\n",
        "    else:   \r\n",
        "        return 0"
      ],
      "execution_count": 152,
      "outputs": []
    },
    {
      "cell_type": "code",
      "metadata": {
        "colab": {
          "base_uri": "https://localhost:8080/",
          "height": 321
        },
        "id": "-qQ8W8pj5_zX",
        "outputId": "bc13f1b5-5a67-46b6-d418-9268b0e984ec"
      },
      "source": [
        "for col in backtest_base.columns[7:]:\r\n",
        "  backtest_base[\"decision_{column}\".format(column = col)] = backtest_base[col].map(lambda x: get_positions(x))\r\n",
        "backtest_base.head()"
      ],
      "execution_count": 153,
      "outputs": [
        {
          "output_type": "execute_result",
          "data": {
            "text/html": [
              "<div>\n",
              "<style scoped>\n",
              "    .dataframe tbody tr th:only-of-type {\n",
              "        vertical-align: middle;\n",
              "    }\n",
              "\n",
              "    .dataframe tbody tr th {\n",
              "        vertical-align: top;\n",
              "    }\n",
              "\n",
              "    .dataframe thead th {\n",
              "        text-align: right;\n",
              "    }\n",
              "</style>\n",
              "<table border=\"1\" class=\"dataframe\">\n",
              "  <thead>\n",
              "    <tr style=\"text-align: right;\">\n",
              "      <th></th>\n",
              "      <th>ALXN</th>\n",
              "      <th>ALXN-1</th>\n",
              "      <th>pred_title</th>\n",
              "      <th>pred_sent</th>\n",
              "      <th>pred_rf</th>\n",
              "      <th>pred_lr</th>\n",
              "      <th>pred_nn</th>\n",
              "      <th>diff_pred_title</th>\n",
              "      <th>diff_pred_sent</th>\n",
              "      <th>diff_pred_rf</th>\n",
              "      <th>diff_pred_lr</th>\n",
              "      <th>diff_pred_nn</th>\n",
              "      <th>decision_diff_pred_title</th>\n",
              "      <th>decision_diff_pred_sent</th>\n",
              "      <th>decision_diff_pred_rf</th>\n",
              "      <th>decision_diff_pred_lr</th>\n",
              "      <th>decision_diff_pred_nn</th>\n",
              "    </tr>\n",
              "    <tr>\n",
              "      <th>date</th>\n",
              "      <th></th>\n",
              "      <th></th>\n",
              "      <th></th>\n",
              "      <th></th>\n",
              "      <th></th>\n",
              "      <th></th>\n",
              "      <th></th>\n",
              "      <th></th>\n",
              "      <th></th>\n",
              "      <th></th>\n",
              "      <th></th>\n",
              "      <th></th>\n",
              "      <th></th>\n",
              "      <th></th>\n",
              "      <th></th>\n",
              "      <th></th>\n",
              "      <th></th>\n",
              "    </tr>\n",
              "  </thead>\n",
              "  <tbody>\n",
              "    <tr>\n",
              "      <th>2020-07-14</th>\n",
              "      <td>0.502130</td>\n",
              "      <td>0.478704</td>\n",
              "      <td>0.385028</td>\n",
              "      <td>0.499459</td>\n",
              "      <td>0.456329</td>\n",
              "      <td>0.480949</td>\n",
              "      <td>0.376648</td>\n",
              "      <td>-0.233209</td>\n",
              "      <td>-0.005319</td>\n",
              "      <td>-0.091213</td>\n",
              "      <td>-0.042182</td>\n",
              "      <td>-0.249899</td>\n",
              "      <td>-1</td>\n",
              "      <td>0</td>\n",
              "      <td>-1</td>\n",
              "      <td>-1</td>\n",
              "      <td>-1</td>\n",
              "    </tr>\n",
              "    <tr>\n",
              "      <th>2020-07-15</th>\n",
              "      <td>0.541071</td>\n",
              "      <td>0.502130</td>\n",
              "      <td>0.524176</td>\n",
              "      <td>0.497563</td>\n",
              "      <td>0.515445</td>\n",
              "      <td>0.503870</td>\n",
              "      <td>0.391649</td>\n",
              "      <td>-0.031225</td>\n",
              "      <td>-0.080410</td>\n",
              "      <td>-0.047361</td>\n",
              "      <td>-0.068755</td>\n",
              "      <td>-0.276159</td>\n",
              "      <td>-1</td>\n",
              "      <td>-1</td>\n",
              "      <td>-1</td>\n",
              "      <td>-1</td>\n",
              "      <td>-1</td>\n",
              "    </tr>\n",
              "    <tr>\n",
              "      <th>2020-07-16</th>\n",
              "      <td>0.515820</td>\n",
              "      <td>0.541071</td>\n",
              "      <td>0.716936</td>\n",
              "      <td>0.514954</td>\n",
              "      <td>0.515907</td>\n",
              "      <td>0.541972</td>\n",
              "      <td>0.416346</td>\n",
              "      <td>0.389895</td>\n",
              "      <td>-0.001678</td>\n",
              "      <td>0.000170</td>\n",
              "      <td>0.050700</td>\n",
              "      <td>-0.192846</td>\n",
              "      <td>1</td>\n",
              "      <td>0</td>\n",
              "      <td>0</td>\n",
              "      <td>1</td>\n",
              "      <td>-1</td>\n",
              "    </tr>\n",
              "    <tr>\n",
              "      <th>2020-07-17</th>\n",
              "      <td>0.512321</td>\n",
              "      <td>0.515820</td>\n",
              "      <td>0.716933</td>\n",
              "      <td>0.508098</td>\n",
              "      <td>0.544831</td>\n",
              "      <td>0.517265</td>\n",
              "      <td>0.400517</td>\n",
              "      <td>0.399383</td>\n",
              "      <td>-0.008244</td>\n",
              "      <td>0.063456</td>\n",
              "      <td>0.009650</td>\n",
              "      <td>-0.218232</td>\n",
              "      <td>1</td>\n",
              "      <td>0</td>\n",
              "      <td>1</td>\n",
              "      <td>0</td>\n",
              "      <td>-1</td>\n",
              "    </tr>\n",
              "    <tr>\n",
              "      <th>2020-07-20</th>\n",
              "      <td>0.516885</td>\n",
              "      <td>0.512321</td>\n",
              "      <td>0.545738</td>\n",
              "      <td>0.503588</td>\n",
              "      <td>0.524583</td>\n",
              "      <td>0.513842</td>\n",
              "      <td>0.398243</td>\n",
              "      <td>0.055821</td>\n",
              "      <td>-0.025725</td>\n",
              "      <td>0.014894</td>\n",
              "      <td>-0.005887</td>\n",
              "      <td>-0.229532</td>\n",
              "      <td>1</td>\n",
              "      <td>0</td>\n",
              "      <td>0</td>\n",
              "      <td>0</td>\n",
              "      <td>-1</td>\n",
              "    </tr>\n",
              "  </tbody>\n",
              "</table>\n",
              "</div>"
            ],
            "text/plain": [
              "                ALXN    ALXN-1  ...  decision_diff_pred_lr  decision_diff_pred_nn\n",
              "date                            ...                                              \n",
              "2020-07-14  0.502130  0.478704  ...                     -1                     -1\n",
              "2020-07-15  0.541071  0.502130  ...                     -1                     -1\n",
              "2020-07-16  0.515820  0.541071  ...                      1                     -1\n",
              "2020-07-17  0.512321  0.515820  ...                      0                     -1\n",
              "2020-07-20  0.516885  0.512321  ...                      0                     -1\n",
              "\n",
              "[5 rows x 17 columns]"
            ]
          },
          "metadata": {
            "tags": []
          },
          "execution_count": 153
        }
      ]
    },
    {
      "cell_type": "code",
      "metadata": {
        "colab": {
          "base_uri": "https://localhost:8080/",
          "height": 220
        },
        "id": "YWRnvqeF7D99",
        "outputId": "aa385972-f5a0-43ce-85ea-d9ddbb3ce5aa"
      },
      "source": [
        "returns = pd.DataFrame()\r\n",
        "for col in backtest_base.columns[12:]:\r\n",
        "  backtest_base[col] = backtest_base[col].shift(-1)\r\n",
        "backtest_base.dropna(inplace=True)\r\n",
        "for col in backtest_base.columns[12:]:\r\n",
        "  returns[col] = backtest_base['ALXN'] * backtest_base[col]\r\n",
        "  returns[col].cumsum().apply(np.exp)\r\n",
        "returns[\"alxn\"] = backtest_base.ALXN\r\n",
        "returns.head()"
      ],
      "execution_count": 154,
      "outputs": [
        {
          "output_type": "execute_result",
          "data": {
            "text/html": [
              "<div>\n",
              "<style scoped>\n",
              "    .dataframe tbody tr th:only-of-type {\n",
              "        vertical-align: middle;\n",
              "    }\n",
              "\n",
              "    .dataframe tbody tr th {\n",
              "        vertical-align: top;\n",
              "    }\n",
              "\n",
              "    .dataframe thead th {\n",
              "        text-align: right;\n",
              "    }\n",
              "</style>\n",
              "<table border=\"1\" class=\"dataframe\">\n",
              "  <thead>\n",
              "    <tr style=\"text-align: right;\">\n",
              "      <th></th>\n",
              "      <th>decision_diff_pred_title</th>\n",
              "      <th>decision_diff_pred_sent</th>\n",
              "      <th>decision_diff_pred_rf</th>\n",
              "      <th>decision_diff_pred_lr</th>\n",
              "      <th>decision_diff_pred_nn</th>\n",
              "    </tr>\n",
              "    <tr>\n",
              "      <th>date</th>\n",
              "      <th></th>\n",
              "      <th></th>\n",
              "      <th></th>\n",
              "      <th></th>\n",
              "      <th></th>\n",
              "    </tr>\n",
              "  </thead>\n",
              "  <tbody>\n",
              "    <tr>\n",
              "      <th>2020-07-14</th>\n",
              "      <td>-0.502130</td>\n",
              "      <td>-0.502130</td>\n",
              "      <td>-0.502130</td>\n",
              "      <td>-0.502130</td>\n",
              "      <td>-0.502130</td>\n",
              "    </tr>\n",
              "    <tr>\n",
              "      <th>2020-07-15</th>\n",
              "      <td>0.541071</td>\n",
              "      <td>0.000000</td>\n",
              "      <td>0.000000</td>\n",
              "      <td>0.541071</td>\n",
              "      <td>-0.541071</td>\n",
              "    </tr>\n",
              "    <tr>\n",
              "      <th>2020-07-16</th>\n",
              "      <td>0.515820</td>\n",
              "      <td>0.000000</td>\n",
              "      <td>0.515820</td>\n",
              "      <td>0.000000</td>\n",
              "      <td>-0.515820</td>\n",
              "    </tr>\n",
              "    <tr>\n",
              "      <th>2020-07-17</th>\n",
              "      <td>0.512321</td>\n",
              "      <td>0.000000</td>\n",
              "      <td>0.000000</td>\n",
              "      <td>0.000000</td>\n",
              "      <td>-0.512321</td>\n",
              "    </tr>\n",
              "    <tr>\n",
              "      <th>2020-07-20</th>\n",
              "      <td>-0.516885</td>\n",
              "      <td>0.516885</td>\n",
              "      <td>0.516885</td>\n",
              "      <td>0.516885</td>\n",
              "      <td>-0.516885</td>\n",
              "    </tr>\n",
              "  </tbody>\n",
              "</table>\n",
              "</div>"
            ],
            "text/plain": [
              "            decision_diff_pred_title  ...  decision_diff_pred_nn\n",
              "date                                  ...                       \n",
              "2020-07-14                 -0.502130  ...              -0.502130\n",
              "2020-07-15                  0.541071  ...              -0.541071\n",
              "2020-07-16                  0.515820  ...              -0.515820\n",
              "2020-07-17                  0.512321  ...              -0.512321\n",
              "2020-07-20                 -0.516885  ...              -0.516885\n",
              "\n",
              "[5 rows x 5 columns]"
            ]
          },
          "metadata": {
            "tags": []
          },
          "execution_count": 154
        }
      ]
    },
    {
      "cell_type": "code",
      "metadata": {
        "colab": {
          "base_uri": "https://localhost:8080/",
          "height": 737
        },
        "id": "PLogmxKK7jJE",
        "outputId": "aa368d5a-c033-4ae4-b7e5-c49b6ba4e64f"
      },
      "source": [
        "plt.figure(figsize=(18,12))\r\n",
        "plt.xticks(rotation=45)\r\n",
        "plt.plot(returns)\r\n",
        "plt.legend(returns.columns)\r\n",
        "plt.show()"
      ],
      "execution_count": 171,
      "outputs": [
        {
          "output_type": "display_data",
          "data": {
            "image/png": "[encoded data removed]",
            "text/plain": [
              "<Figure size 1296x864 with 1 Axes>"
            ]
          },
          "metadata": {
            "tags": [],
            "needs_background": "light"
          }
        }
      ]
    }
  ]
}